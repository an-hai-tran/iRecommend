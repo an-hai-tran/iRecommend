{
 "cells": [
  {
   "cell_type": "markdown",
   "id": "d04d492d",
   "metadata": {},
   "source": [
    "## Input\n",
    "`hhid`\n",
    "## Output\n",
    "`ranked list of cereal brands that the user most likely want to put in his/her basket`"
   ]
  },
  {
   "cell_type": "markdown",
   "id": "7405ae20",
   "metadata": {},
   "source": [
    "## 1. Import modules"
   ]
  },
  {
   "cell_type": "code",
   "execution_count": 8,
   "id": "142c54e9",
   "metadata": {},
   "outputs": [
    {
     "name": "stdout",
     "output_type": "stream",
     "text": [
      "The autoreload extension is already loaded. To reload it, use:\n",
      "  %reload_ext autoreload\n"
     ]
    }
   ],
   "source": [
    "%load_ext autoreload\n",
    "%autoreload 2\n",
    "\n",
    "import pandas as pd\n",
    "import numpy as np\n",
    "import time\n",
    "import turicreate as tc\n",
    "from sklearn.model_selection import train_test_split\n",
    "\n",
    "import sys\n",
    "sys.path.append(\"..\")"
   ]
  },
  {
   "cell_type": "markdown",
   "id": "800e6ec5",
   "metadata": {},
   "source": [
    "## 2. Load data"
   ]
  },
  {
   "cell_type": "markdown",
   "id": "ea2a0393",
   "metadata": {},
   "source": [
    "2 data sets:\n",
    "- `UPC_Hack_Cereal2.csv` contains user transactions for cereal\n",
    "- `Hackathon Data Map.xlsx` contains description of each cereal brand"
   ]
  },
  {
   "cell_type": "code",
   "execution_count": 9,
   "id": "1b60fb9e",
   "metadata": {},
   "outputs": [],
   "source": [
    "cereal = pd.read_csv('./data/national-shopper-lab/UPC_Hack_Cereal2.csv')\n",
    "data_cereal = pd.read_excel('./data/national-shopper-lab/Hackathon Data Maps.xlsx', 'Cereal UPCs')"
   ]
  },
  {
   "cell_type": "code",
   "execution_count": 10,
   "id": "28d2eb39",
   "metadata": {},
   "outputs": [],
   "source": [
    "# format the name of columns to lowercase\n",
    "def format_name(df):\n",
    "    return [x.lower().strip() for x in list(df.columns)]\n",
    "\n",
    "cereal.columns, data_cereal.columns = (df.pipe(format_name) for df in [cereal, data_cereal])\n",
    "\n",
    "# format the date as 'YY-MM-DD'\n",
    "cereal['date'] = pd.to_datetime(cereal['date'], yearfirst=True)"
   ]
  },
  {
   "cell_type": "code",
   "execution_count": 11,
   "id": "59d12233",
   "metadata": {},
   "outputs": [
    {
     "data": {
      "text/html": [
       "<div>\n",
       "<style scoped>\n",
       "    .dataframe tbody tr th:only-of-type {\n",
       "        vertical-align: middle;\n",
       "    }\n",
       "\n",
       "    .dataframe tbody tr th {\n",
       "        vertical-align: top;\n",
       "    }\n",
       "\n",
       "    .dataframe thead th {\n",
       "        text-align: right;\n",
       "    }\n",
       "</style>\n",
       "<table border=\"1\" class=\"dataframe\">\n",
       "  <thead>\n",
       "    <tr style=\"text-align: right;\">\n",
       "      <th></th>\n",
       "      <th>hhid</th>\n",
       "      <th>date</th>\n",
       "      <th>purchase count</th>\n",
       "      <th>description</th>\n",
       "      <th>cat</th>\n",
       "      <th>parent brand</th>\n",
       "      <th>product</th>\n",
       "    </tr>\n",
       "  </thead>\n",
       "  <tbody>\n",
       "    <tr>\n",
       "      <th>0</th>\n",
       "      <td>57788</td>\n",
       "      <td>2019-01-01</td>\n",
       "      <td>1</td>\n",
       "      <td>POST HBO W/ALMOND 18OZ</td>\n",
       "      <td>RTE Cereal</td>\n",
       "      <td>Post</td>\n",
       "      <td>Honey Bunches of Oats</td>\n",
       "    </tr>\n",
       "    <tr>\n",
       "      <th>1</th>\n",
       "      <td>157021</td>\n",
       "      <td>2019-01-01</td>\n",
       "      <td>1</td>\n",
       "      <td>KLG FRSTD MNI WHEATS BTSZ</td>\n",
       "      <td>RTE Cereal</td>\n",
       "      <td>Kelloggs</td>\n",
       "      <td>Mini Wheats</td>\n",
       "    </tr>\n",
       "    <tr>\n",
       "      <th>2</th>\n",
       "      <td>227987</td>\n",
       "      <td>2019-01-01</td>\n",
       "      <td>1</td>\n",
       "      <td>KLG FROOT LOOPS 1.5OZ</td>\n",
       "      <td>RTE Cereal</td>\n",
       "      <td>Kelloggs</td>\n",
       "      <td>Froot Loops</td>\n",
       "    </tr>\n",
       "    <tr>\n",
       "      <th>3</th>\n",
       "      <td>1019</td>\n",
       "      <td>2019-01-01</td>\n",
       "      <td>1</td>\n",
       "      <td>KELLOGG CRL RSN BRAN CRNCH</td>\n",
       "      <td>RTE Cereal</td>\n",
       "      <td>Kelloggs</td>\n",
       "      <td>Raisin Bran</td>\n",
       "    </tr>\n",
       "    <tr>\n",
       "      <th>4</th>\n",
       "      <td>1019</td>\n",
       "      <td>2019-01-01</td>\n",
       "      <td>1</td>\n",
       "      <td>KLG FRST FLK 13.5Z</td>\n",
       "      <td>RTE Cereal</td>\n",
       "      <td>Kelloggs</td>\n",
       "      <td>FROSTED FLAKES</td>\n",
       "    </tr>\n",
       "    <tr>\n",
       "      <th>...</th>\n",
       "      <td>...</td>\n",
       "      <td>...</td>\n",
       "      <td>...</td>\n",
       "      <td>...</td>\n",
       "      <td>...</td>\n",
       "      <td>...</td>\n",
       "      <td>...</td>\n",
       "    </tr>\n",
       "    <tr>\n",
       "      <th>6606861</th>\n",
       "      <td>1627</td>\n",
       "      <td>2021-12-31</td>\n",
       "      <td>1</td>\n",
       "      <td>NATURES PATH GRN FR MPL AMN</td>\n",
       "      <td>RTE Cereal</td>\n",
       "      <td>NATURE S PATH</td>\n",
       "      <td>NATURE S PATH</td>\n",
       "    </tr>\n",
       "    <tr>\n",
       "      <th>6606862</th>\n",
       "      <td>259753</td>\n",
       "      <td>2021-12-31</td>\n",
       "      <td>1</td>\n",
       "      <td>KLG FRST FLK 13.5Z</td>\n",
       "      <td>RTE Cereal</td>\n",
       "      <td>Kelloggs</td>\n",
       "      <td>FROSTED FLAKES</td>\n",
       "    </tr>\n",
       "    <tr>\n",
       "      <th>6606863</th>\n",
       "      <td>412956</td>\n",
       "      <td>2021-12-31</td>\n",
       "      <td>1</td>\n",
       "      <td>CRN RAIS BRN 18.2OZ</td>\n",
       "      <td>RTE Cereal</td>\n",
       "      <td>Private Label</td>\n",
       "      <td>Private Label</td>\n",
       "    </tr>\n",
       "    <tr>\n",
       "      <th>6606864</th>\n",
       "      <td>99350</td>\n",
       "      <td>2021-12-31</td>\n",
       "      <td>1</td>\n",
       "      <td>GM CHRIOS CRN CIN18.2Z</td>\n",
       "      <td>RTE Cereal</td>\n",
       "      <td>Big G</td>\n",
       "      <td>CHEERIOS</td>\n",
       "    </tr>\n",
       "    <tr>\n",
       "      <th>6606865</th>\n",
       "      <td>383465</td>\n",
       "      <td>2021-12-31</td>\n",
       "      <td>1</td>\n",
       "      <td>LUCKY CHARMS CEREAL</td>\n",
       "      <td>RTE Cereal</td>\n",
       "      <td>Big G</td>\n",
       "      <td>Lucky Charms</td>\n",
       "    </tr>\n",
       "  </tbody>\n",
       "</table>\n",
       "<p>6606866 rows × 7 columns</p>\n",
       "</div>"
      ],
      "text/plain": [
       "           hhid       date  purchase count                  description  \\\n",
       "0         57788 2019-01-01               1       POST HBO W/ALMOND 18OZ   \n",
       "1        157021 2019-01-01               1    KLG FRSTD MNI WHEATS BTSZ   \n",
       "2        227987 2019-01-01               1        KLG FROOT LOOPS 1.5OZ   \n",
       "3          1019 2019-01-01               1   KELLOGG CRL RSN BRAN CRNCH   \n",
       "4          1019 2019-01-01               1           KLG FRST FLK 13.5Z   \n",
       "...         ...        ...             ...                          ...   \n",
       "6606861    1627 2021-12-31               1  NATURES PATH GRN FR MPL AMN   \n",
       "6606862  259753 2021-12-31               1           KLG FRST FLK 13.5Z   \n",
       "6606863  412956 2021-12-31               1          CRN RAIS BRN 18.2OZ   \n",
       "6606864   99350 2021-12-31               1       GM CHRIOS CRN CIN18.2Z   \n",
       "6606865  383465 2021-12-31               1          LUCKY CHARMS CEREAL   \n",
       "\n",
       "                cat   parent brand                product  \n",
       "0        RTE Cereal           Post  Honey Bunches of Oats  \n",
       "1        RTE Cereal       Kelloggs            Mini Wheats  \n",
       "2        RTE Cereal       Kelloggs            Froot Loops  \n",
       "3        RTE Cereal       Kelloggs            Raisin Bran  \n",
       "4        RTE Cereal       Kelloggs         FROSTED FLAKES  \n",
       "...             ...            ...                    ...  \n",
       "6606861  RTE Cereal  NATURE S PATH          NATURE S PATH  \n",
       "6606862  RTE Cereal       Kelloggs         FROSTED FLAKES  \n",
       "6606863  RTE Cereal  Private Label          Private Label  \n",
       "6606864  RTE Cereal          Big G               CHEERIOS  \n",
       "6606865  RTE Cereal          Big G           Lucky Charms  \n",
       "\n",
       "[6606866 rows x 7 columns]"
      ]
     },
     "execution_count": 11,
     "metadata": {},
     "output_type": "execute_result"
    }
   ],
   "source": [
    "data = pd.merge(cereal, data_cereal, left_on = 'upc', right_on = 'upc', how = 'left')\\\n",
    "         .dropna(axis=0, how='any')\\\n",
    "         .drop(['store', 'upc', 'price', 'online'], axis=1)\\\n",
    "         .rename(columns={'qty':'purchase count','brand':'product'})\n",
    "data[['hhid', 'purchase count']] = data[['hhid', 'purchase count']].astype(int)\n",
    "data.sort_values('date').reset_index().drop('index', axis=1)"
   ]
  },
  {
   "cell_type": "markdown",
   "id": "c71b3d5b",
   "metadata": {},
   "source": [
    "## 3. Data preparation"
   ]
  },
  {
   "cell_type": "code",
   "execution_count": 12,
   "id": "c3578e7c",
   "metadata": {},
   "outputs": [
    {
     "name": "stdout",
     "output_type": "stream",
     "text": [
      "(6606866, 3)\n"
     ]
    },
    {
     "data": {
      "text/html": [
       "<div>\n",
       "<style scoped>\n",
       "    .dataframe tbody tr th:only-of-type {\n",
       "        vertical-align: middle;\n",
       "    }\n",
       "\n",
       "    .dataframe tbody tr th {\n",
       "        vertical-align: top;\n",
       "    }\n",
       "\n",
       "    .dataframe thead th {\n",
       "        text-align: right;\n",
       "    }\n",
       "</style>\n",
       "<table border=\"1\" class=\"dataframe\">\n",
       "  <thead>\n",
       "    <tr style=\"text-align: right;\">\n",
       "      <th></th>\n",
       "      <th>hhid</th>\n",
       "      <th>purchase_count</th>\n",
       "      <th>product</th>\n",
       "    </tr>\n",
       "  </thead>\n",
       "  <tbody>\n",
       "    <tr>\n",
       "      <th>0</th>\n",
       "      <td>1</td>\n",
       "      <td>1</td>\n",
       "      <td>Nature valley</td>\n",
       "    </tr>\n",
       "    <tr>\n",
       "      <th>1</th>\n",
       "      <td>1</td>\n",
       "      <td>1</td>\n",
       "      <td>Kind</td>\n",
       "    </tr>\n",
       "    <tr>\n",
       "      <th>2</th>\n",
       "      <td>2</td>\n",
       "      <td>1</td>\n",
       "      <td>Cheerios</td>\n",
       "    </tr>\n",
       "    <tr>\n",
       "      <th>3</th>\n",
       "      <td>2</td>\n",
       "      <td>1</td>\n",
       "      <td>Kashi</td>\n",
       "    </tr>\n",
       "    <tr>\n",
       "      <th>4</th>\n",
       "      <td>2</td>\n",
       "      <td>1</td>\n",
       "      <td>Kashi</td>\n",
       "    </tr>\n",
       "    <tr>\n",
       "      <th>5</th>\n",
       "      <td>2</td>\n",
       "      <td>1</td>\n",
       "      <td>Kashi</td>\n",
       "    </tr>\n",
       "    <tr>\n",
       "      <th>6</th>\n",
       "      <td>2</td>\n",
       "      <td>1</td>\n",
       "      <td>Kashi</td>\n",
       "    </tr>\n",
       "    <tr>\n",
       "      <th>7</th>\n",
       "      <td>2</td>\n",
       "      <td>1</td>\n",
       "      <td>Kashi</td>\n",
       "    </tr>\n",
       "    <tr>\n",
       "      <th>8</th>\n",
       "      <td>2</td>\n",
       "      <td>1</td>\n",
       "      <td>Aurora natural</td>\n",
       "    </tr>\n",
       "    <tr>\n",
       "      <th>9</th>\n",
       "      <td>2</td>\n",
       "      <td>1</td>\n",
       "      <td>Raisin bran</td>\n",
       "    </tr>\n",
       "  </tbody>\n",
       "</table>\n",
       "</div>"
      ],
      "text/plain": [
       "   hhid  purchase_count         product\n",
       "0     1               1   Nature valley\n",
       "1     1               1            Kind\n",
       "2     2               1        Cheerios\n",
       "3     2               1           Kashi\n",
       "4     2               1           Kashi\n",
       "5     2               1           Kashi\n",
       "6     2               1           Kashi\n",
       "7     2               1           Kashi\n",
       "8     2               1  Aurora natural\n",
       "9     2               1     Raisin bran"
      ]
     },
     "execution_count": 12,
     "metadata": {},
     "output_type": "execute_result"
    }
   ],
   "source": [
    "data = pd.merge(cereal, data_cereal, left_on = 'upc', right_on = 'upc', how = 'left')\\\n",
    "         .dropna(axis=0, how='any')\\\n",
    "         .drop(['store', 'upc', 'date', 'price', 'online', 'description', 'cat', 'parent brand'], axis=1)\\\n",
    "         .rename(columns={'qty':'purchase_count','brand':'product'})\n",
    "data[['hhid','purchase_count']] = data[['hhid', 'purchase_count']].astype(int)\n",
    "data['product'] = data['product'].apply(lambda x: x[0].upper()+x[1:].lower().strip())\n",
    "print(data.shape)\n",
    "data.head(10)"
   ]
  },
  {
   "cell_type": "markdown",
   "id": "b0ce462b",
   "metadata": {},
   "source": [
    "## 4. Create a \"sparse\" matrix\n",
    "\n",
    "- Each cell represents the purchase frequency of each user for each product\n",
    "- Our goal is to *predict the values for the missing ones (NaN)*"
   ]
  },
  {
   "cell_type": "code",
   "execution_count": 13,
   "id": "faf787f6",
   "metadata": {},
   "outputs": [
    {
     "data": {
      "text/html": [
       "<div>\n",
       "<style scoped>\n",
       "    .dataframe tbody tr th:only-of-type {\n",
       "        vertical-align: middle;\n",
       "    }\n",
       "\n",
       "    .dataframe tbody tr th {\n",
       "        vertical-align: top;\n",
       "    }\n",
       "\n",
       "    .dataframe thead th {\n",
       "        text-align: right;\n",
       "    }\n",
       "</style>\n",
       "<table border=\"1\" class=\"dataframe\">\n",
       "  <thead>\n",
       "    <tr style=\"text-align: right;\">\n",
       "      <th>product</th>\n",
       "      <th>All bran</th>\n",
       "      <th>All other</th>\n",
       "      <th>Alpen</th>\n",
       "      <th>Alpina bon yurt</th>\n",
       "      <th>Annies homegrown</th>\n",
       "      <th>Apple jacks</th>\n",
       "      <th>Arrowhead mills</th>\n",
       "      <th>Aurora natural</th>\n",
       "      <th>Back to nature</th>\n",
       "      <th>Bakery on main</th>\n",
       "      <th>...</th>\n",
       "      <th>The toasted oat</th>\n",
       "      <th>Toast crunch</th>\n",
       "      <th>Total</th>\n",
       "      <th>Trix</th>\n",
       "      <th>Udis</th>\n",
       "      <th>Uncle sam</th>\n",
       "      <th>Vans</th>\n",
       "      <th>Vikis</th>\n",
       "      <th>Weetabix</th>\n",
       "      <th>Wheaties</th>\n",
       "    </tr>\n",
       "    <tr>\n",
       "      <th>hhid</th>\n",
       "      <th></th>\n",
       "      <th></th>\n",
       "      <th></th>\n",
       "      <th></th>\n",
       "      <th></th>\n",
       "      <th></th>\n",
       "      <th></th>\n",
       "      <th></th>\n",
       "      <th></th>\n",
       "      <th></th>\n",
       "      <th></th>\n",
       "      <th></th>\n",
       "      <th></th>\n",
       "      <th></th>\n",
       "      <th></th>\n",
       "      <th></th>\n",
       "      <th></th>\n",
       "      <th></th>\n",
       "      <th></th>\n",
       "      <th></th>\n",
       "      <th></th>\n",
       "    </tr>\n",
       "  </thead>\n",
       "  <tbody>\n",
       "    <tr>\n",
       "      <th>447537</th>\n",
       "      <td>NaN</td>\n",
       "      <td>NaN</td>\n",
       "      <td>NaN</td>\n",
       "      <td>NaN</td>\n",
       "      <td>NaN</td>\n",
       "      <td>NaN</td>\n",
       "      <td>NaN</td>\n",
       "      <td>NaN</td>\n",
       "      <td>NaN</td>\n",
       "      <td>NaN</td>\n",
       "      <td>...</td>\n",
       "      <td>NaN</td>\n",
       "      <td>NaN</td>\n",
       "      <td>NaN</td>\n",
       "      <td>NaN</td>\n",
       "      <td>NaN</td>\n",
       "      <td>NaN</td>\n",
       "      <td>NaN</td>\n",
       "      <td>NaN</td>\n",
       "      <td>NaN</td>\n",
       "      <td>NaN</td>\n",
       "    </tr>\n",
       "    <tr>\n",
       "      <th>447538</th>\n",
       "      <td>NaN</td>\n",
       "      <td>NaN</td>\n",
       "      <td>NaN</td>\n",
       "      <td>NaN</td>\n",
       "      <td>NaN</td>\n",
       "      <td>NaN</td>\n",
       "      <td>NaN</td>\n",
       "      <td>NaN</td>\n",
       "      <td>NaN</td>\n",
       "      <td>NaN</td>\n",
       "      <td>...</td>\n",
       "      <td>NaN</td>\n",
       "      <td>1.000</td>\n",
       "      <td>NaN</td>\n",
       "      <td>NaN</td>\n",
       "      <td>NaN</td>\n",
       "      <td>NaN</td>\n",
       "      <td>NaN</td>\n",
       "      <td>NaN</td>\n",
       "      <td>NaN</td>\n",
       "      <td>NaN</td>\n",
       "    </tr>\n",
       "    <tr>\n",
       "      <th>447539</th>\n",
       "      <td>NaN</td>\n",
       "      <td>NaN</td>\n",
       "      <td>NaN</td>\n",
       "      <td>NaN</td>\n",
       "      <td>NaN</td>\n",
       "      <td>NaN</td>\n",
       "      <td>NaN</td>\n",
       "      <td>NaN</td>\n",
       "      <td>NaN</td>\n",
       "      <td>NaN</td>\n",
       "      <td>...</td>\n",
       "      <td>NaN</td>\n",
       "      <td>NaN</td>\n",
       "      <td>NaN</td>\n",
       "      <td>NaN</td>\n",
       "      <td>NaN</td>\n",
       "      <td>NaN</td>\n",
       "      <td>NaN</td>\n",
       "      <td>NaN</td>\n",
       "      <td>NaN</td>\n",
       "      <td>NaN</td>\n",
       "    </tr>\n",
       "    <tr>\n",
       "      <th>447541</th>\n",
       "      <td>NaN</td>\n",
       "      <td>NaN</td>\n",
       "      <td>NaN</td>\n",
       "      <td>NaN</td>\n",
       "      <td>NaN</td>\n",
       "      <td>NaN</td>\n",
       "      <td>NaN</td>\n",
       "      <td>NaN</td>\n",
       "      <td>NaN</td>\n",
       "      <td>NaN</td>\n",
       "      <td>...</td>\n",
       "      <td>NaN</td>\n",
       "      <td>NaN</td>\n",
       "      <td>NaN</td>\n",
       "      <td>NaN</td>\n",
       "      <td>NaN</td>\n",
       "      <td>NaN</td>\n",
       "      <td>NaN</td>\n",
       "      <td>NaN</td>\n",
       "      <td>NaN</td>\n",
       "      <td>NaN</td>\n",
       "    </tr>\n",
       "    <tr>\n",
       "      <th>447542</th>\n",
       "      <td>NaN</td>\n",
       "      <td>NaN</td>\n",
       "      <td>NaN</td>\n",
       "      <td>NaN</td>\n",
       "      <td>1.0</td>\n",
       "      <td>1.0</td>\n",
       "      <td>NaN</td>\n",
       "      <td>2.0</td>\n",
       "      <td>NaN</td>\n",
       "      <td>NaN</td>\n",
       "      <td>...</td>\n",
       "      <td>NaN</td>\n",
       "      <td>1.125</td>\n",
       "      <td>NaN</td>\n",
       "      <td>1.0</td>\n",
       "      <td>NaN</td>\n",
       "      <td>NaN</td>\n",
       "      <td>NaN</td>\n",
       "      <td>NaN</td>\n",
       "      <td>NaN</td>\n",
       "      <td>2.5</td>\n",
       "    </tr>\n",
       "  </tbody>\n",
       "</table>\n",
       "<p>5 rows × 113 columns</p>\n",
       "</div>"
      ],
      "text/plain": [
       "product  All bran  All other  Alpen  Alpina bon yurt  Annies homegrown  \\\n",
       "hhid                                                                     \n",
       "447537        NaN        NaN    NaN              NaN               NaN   \n",
       "447538        NaN        NaN    NaN              NaN               NaN   \n",
       "447539        NaN        NaN    NaN              NaN               NaN   \n",
       "447541        NaN        NaN    NaN              NaN               NaN   \n",
       "447542        NaN        NaN    NaN              NaN               1.0   \n",
       "\n",
       "product  Apple jacks  Arrowhead mills  Aurora natural  Back to nature  \\\n",
       "hhid                                                                    \n",
       "447537           NaN              NaN             NaN             NaN   \n",
       "447538           NaN              NaN             NaN             NaN   \n",
       "447539           NaN              NaN             NaN             NaN   \n",
       "447541           NaN              NaN             NaN             NaN   \n",
       "447542           1.0              NaN             2.0             NaN   \n",
       "\n",
       "product  Bakery on main  ...  The toasted oat  Toast crunch  Total  Trix  \\\n",
       "hhid                     ...                                               \n",
       "447537              NaN  ...              NaN           NaN    NaN   NaN   \n",
       "447538              NaN  ...              NaN         1.000    NaN   NaN   \n",
       "447539              NaN  ...              NaN           NaN    NaN   NaN   \n",
       "447541              NaN  ...              NaN           NaN    NaN   NaN   \n",
       "447542              NaN  ...              NaN         1.125    NaN   1.0   \n",
       "\n",
       "product  Udis  Uncle sam  Vans  Vikis  Weetabix  Wheaties  \n",
       "hhid                                                       \n",
       "447537    NaN        NaN   NaN    NaN       NaN       NaN  \n",
       "447538    NaN        NaN   NaN    NaN       NaN       NaN  \n",
       "447539    NaN        NaN   NaN    NaN       NaN       NaN  \n",
       "447541    NaN        NaN   NaN    NaN       NaN       NaN  \n",
       "447542    NaN        NaN   NaN    NaN       NaN       2.5  \n",
       "\n",
       "[5 rows x 113 columns]"
      ]
     },
     "execution_count": 13,
     "metadata": {},
     "output_type": "execute_result"
    }
   ],
   "source": [
    "data_matrix = pd.pivot_table(data, values='purchase_count', index='hhid', columns='product')\n",
    "data_matrix.tail()"
   ]
  },
  {
   "cell_type": "markdown",
   "id": "096fb0ce",
   "metadata": {},
   "source": [
    "We *normalize the data* with the following formula:\n",
    "\n",
    "$x_{norm} = \\frac{x-x_{min}}{x_{max}-x_{min}}$"
   ]
  },
  {
   "cell_type": "code",
   "execution_count": 14,
   "id": "39f96293",
   "metadata": {},
   "outputs": [
    {
     "data": {
      "text/html": [
       "<div>\n",
       "<style scoped>\n",
       "    .dataframe tbody tr th:only-of-type {\n",
       "        vertical-align: middle;\n",
       "    }\n",
       "\n",
       "    .dataframe tbody tr th {\n",
       "        vertical-align: top;\n",
       "    }\n",
       "\n",
       "    .dataframe thead th {\n",
       "        text-align: right;\n",
       "    }\n",
       "</style>\n",
       "<table border=\"1\" class=\"dataframe\">\n",
       "  <thead>\n",
       "    <tr style=\"text-align: right;\">\n",
       "      <th>product</th>\n",
       "      <th>All bran</th>\n",
       "      <th>All other</th>\n",
       "      <th>Alpen</th>\n",
       "      <th>Alpina bon yurt</th>\n",
       "      <th>Annies homegrown</th>\n",
       "      <th>Apple jacks</th>\n",
       "      <th>Arrowhead mills</th>\n",
       "      <th>Aurora natural</th>\n",
       "      <th>Back to nature</th>\n",
       "      <th>Bakery on main</th>\n",
       "      <th>...</th>\n",
       "      <th>The toasted oat</th>\n",
       "      <th>Toast crunch</th>\n",
       "      <th>Total</th>\n",
       "      <th>Trix</th>\n",
       "      <th>Udis</th>\n",
       "      <th>Uncle sam</th>\n",
       "      <th>Vans</th>\n",
       "      <th>Vikis</th>\n",
       "      <th>Weetabix</th>\n",
       "      <th>Wheaties</th>\n",
       "    </tr>\n",
       "    <tr>\n",
       "      <th>hhid</th>\n",
       "      <th></th>\n",
       "      <th></th>\n",
       "      <th></th>\n",
       "      <th></th>\n",
       "      <th></th>\n",
       "      <th></th>\n",
       "      <th></th>\n",
       "      <th></th>\n",
       "      <th></th>\n",
       "      <th></th>\n",
       "      <th></th>\n",
       "      <th></th>\n",
       "      <th></th>\n",
       "      <th></th>\n",
       "      <th></th>\n",
       "      <th></th>\n",
       "      <th></th>\n",
       "      <th></th>\n",
       "      <th></th>\n",
       "      <th></th>\n",
       "      <th></th>\n",
       "    </tr>\n",
       "  </thead>\n",
       "  <tbody>\n",
       "    <tr>\n",
       "      <th>1</th>\n",
       "      <td>NaN</td>\n",
       "      <td>NaN</td>\n",
       "      <td>NaN</td>\n",
       "      <td>NaN</td>\n",
       "      <td>NaN</td>\n",
       "      <td>NaN</td>\n",
       "      <td>NaN</td>\n",
       "      <td>NaN</td>\n",
       "      <td>NaN</td>\n",
       "      <td>NaN</td>\n",
       "      <td>...</td>\n",
       "      <td>NaN</td>\n",
       "      <td>NaN</td>\n",
       "      <td>NaN</td>\n",
       "      <td>NaN</td>\n",
       "      <td>NaN</td>\n",
       "      <td>NaN</td>\n",
       "      <td>NaN</td>\n",
       "      <td>NaN</td>\n",
       "      <td>NaN</td>\n",
       "      <td>NaN</td>\n",
       "    </tr>\n",
       "    <tr>\n",
       "      <th>2</th>\n",
       "      <td>NaN</td>\n",
       "      <td>NaN</td>\n",
       "      <td>NaN</td>\n",
       "      <td>NaN</td>\n",
       "      <td>NaN</td>\n",
       "      <td>NaN</td>\n",
       "      <td>NaN</td>\n",
       "      <td>0.117647</td>\n",
       "      <td>NaN</td>\n",
       "      <td>NaN</td>\n",
       "      <td>...</td>\n",
       "      <td>NaN</td>\n",
       "      <td>NaN</td>\n",
       "      <td>NaN</td>\n",
       "      <td>NaN</td>\n",
       "      <td>NaN</td>\n",
       "      <td>NaN</td>\n",
       "      <td>NaN</td>\n",
       "      <td>NaN</td>\n",
       "      <td>NaN</td>\n",
       "      <td>NaN</td>\n",
       "    </tr>\n",
       "    <tr>\n",
       "      <th>3</th>\n",
       "      <td>NaN</td>\n",
       "      <td>NaN</td>\n",
       "      <td>NaN</td>\n",
       "      <td>NaN</td>\n",
       "      <td>NaN</td>\n",
       "      <td>NaN</td>\n",
       "      <td>NaN</td>\n",
       "      <td>NaN</td>\n",
       "      <td>NaN</td>\n",
       "      <td>NaN</td>\n",
       "      <td>...</td>\n",
       "      <td>NaN</td>\n",
       "      <td>NaN</td>\n",
       "      <td>NaN</td>\n",
       "      <td>NaN</td>\n",
       "      <td>NaN</td>\n",
       "      <td>NaN</td>\n",
       "      <td>NaN</td>\n",
       "      <td>NaN</td>\n",
       "      <td>NaN</td>\n",
       "      <td>NaN</td>\n",
       "    </tr>\n",
       "    <tr>\n",
       "      <th>4</th>\n",
       "      <td>NaN</td>\n",
       "      <td>NaN</td>\n",
       "      <td>NaN</td>\n",
       "      <td>NaN</td>\n",
       "      <td>NaN</td>\n",
       "      <td>NaN</td>\n",
       "      <td>NaN</td>\n",
       "      <td>NaN</td>\n",
       "      <td>NaN</td>\n",
       "      <td>NaN</td>\n",
       "      <td>...</td>\n",
       "      <td>NaN</td>\n",
       "      <td>NaN</td>\n",
       "      <td>NaN</td>\n",
       "      <td>NaN</td>\n",
       "      <td>NaN</td>\n",
       "      <td>NaN</td>\n",
       "      <td>NaN</td>\n",
       "      <td>NaN</td>\n",
       "      <td>NaN</td>\n",
       "      <td>NaN</td>\n",
       "    </tr>\n",
       "    <tr>\n",
       "      <th>5</th>\n",
       "      <td>NaN</td>\n",
       "      <td>NaN</td>\n",
       "      <td>NaN</td>\n",
       "      <td>NaN</td>\n",
       "      <td>NaN</td>\n",
       "      <td>NaN</td>\n",
       "      <td>NaN</td>\n",
       "      <td>NaN</td>\n",
       "      <td>NaN</td>\n",
       "      <td>NaN</td>\n",
       "      <td>...</td>\n",
       "      <td>NaN</td>\n",
       "      <td>NaN</td>\n",
       "      <td>NaN</td>\n",
       "      <td>NaN</td>\n",
       "      <td>NaN</td>\n",
       "      <td>NaN</td>\n",
       "      <td>NaN</td>\n",
       "      <td>NaN</td>\n",
       "      <td>NaN</td>\n",
       "      <td>NaN</td>\n",
       "    </tr>\n",
       "    <tr>\n",
       "      <th>...</th>\n",
       "      <td>...</td>\n",
       "      <td>...</td>\n",
       "      <td>...</td>\n",
       "      <td>...</td>\n",
       "      <td>...</td>\n",
       "      <td>...</td>\n",
       "      <td>...</td>\n",
       "      <td>...</td>\n",
       "      <td>...</td>\n",
       "      <td>...</td>\n",
       "      <td>...</td>\n",
       "      <td>...</td>\n",
       "      <td>...</td>\n",
       "      <td>...</td>\n",
       "      <td>...</td>\n",
       "      <td>...</td>\n",
       "      <td>...</td>\n",
       "      <td>...</td>\n",
       "      <td>...</td>\n",
       "      <td>...</td>\n",
       "      <td>...</td>\n",
       "    </tr>\n",
       "    <tr>\n",
       "      <th>447537</th>\n",
       "      <td>NaN</td>\n",
       "      <td>NaN</td>\n",
       "      <td>NaN</td>\n",
       "      <td>NaN</td>\n",
       "      <td>NaN</td>\n",
       "      <td>NaN</td>\n",
       "      <td>NaN</td>\n",
       "      <td>NaN</td>\n",
       "      <td>NaN</td>\n",
       "      <td>NaN</td>\n",
       "      <td>...</td>\n",
       "      <td>NaN</td>\n",
       "      <td>NaN</td>\n",
       "      <td>NaN</td>\n",
       "      <td>NaN</td>\n",
       "      <td>NaN</td>\n",
       "      <td>NaN</td>\n",
       "      <td>NaN</td>\n",
       "      <td>NaN</td>\n",
       "      <td>NaN</td>\n",
       "      <td>NaN</td>\n",
       "    </tr>\n",
       "    <tr>\n",
       "      <th>447538</th>\n",
       "      <td>NaN</td>\n",
       "      <td>NaN</td>\n",
       "      <td>NaN</td>\n",
       "      <td>NaN</td>\n",
       "      <td>NaN</td>\n",
       "      <td>NaN</td>\n",
       "      <td>NaN</td>\n",
       "      <td>NaN</td>\n",
       "      <td>NaN</td>\n",
       "      <td>NaN</td>\n",
       "      <td>...</td>\n",
       "      <td>NaN</td>\n",
       "      <td>0.017544</td>\n",
       "      <td>NaN</td>\n",
       "      <td>NaN</td>\n",
       "      <td>NaN</td>\n",
       "      <td>NaN</td>\n",
       "      <td>NaN</td>\n",
       "      <td>NaN</td>\n",
       "      <td>NaN</td>\n",
       "      <td>NaN</td>\n",
       "    </tr>\n",
       "    <tr>\n",
       "      <th>447539</th>\n",
       "      <td>NaN</td>\n",
       "      <td>NaN</td>\n",
       "      <td>NaN</td>\n",
       "      <td>NaN</td>\n",
       "      <td>NaN</td>\n",
       "      <td>NaN</td>\n",
       "      <td>NaN</td>\n",
       "      <td>NaN</td>\n",
       "      <td>NaN</td>\n",
       "      <td>NaN</td>\n",
       "      <td>...</td>\n",
       "      <td>NaN</td>\n",
       "      <td>NaN</td>\n",
       "      <td>NaN</td>\n",
       "      <td>NaN</td>\n",
       "      <td>NaN</td>\n",
       "      <td>NaN</td>\n",
       "      <td>NaN</td>\n",
       "      <td>NaN</td>\n",
       "      <td>NaN</td>\n",
       "      <td>NaN</td>\n",
       "    </tr>\n",
       "    <tr>\n",
       "      <th>447541</th>\n",
       "      <td>NaN</td>\n",
       "      <td>NaN</td>\n",
       "      <td>NaN</td>\n",
       "      <td>NaN</td>\n",
       "      <td>NaN</td>\n",
       "      <td>NaN</td>\n",
       "      <td>NaN</td>\n",
       "      <td>NaN</td>\n",
       "      <td>NaN</td>\n",
       "      <td>NaN</td>\n",
       "      <td>...</td>\n",
       "      <td>NaN</td>\n",
       "      <td>NaN</td>\n",
       "      <td>NaN</td>\n",
       "      <td>NaN</td>\n",
       "      <td>NaN</td>\n",
       "      <td>NaN</td>\n",
       "      <td>NaN</td>\n",
       "      <td>NaN</td>\n",
       "      <td>NaN</td>\n",
       "      <td>NaN</td>\n",
       "    </tr>\n",
       "    <tr>\n",
       "      <th>447542</th>\n",
       "      <td>NaN</td>\n",
       "      <td>NaN</td>\n",
       "      <td>NaN</td>\n",
       "      <td>NaN</td>\n",
       "      <td>0.1</td>\n",
       "      <td>0.027778</td>\n",
       "      <td>NaN</td>\n",
       "      <td>0.235294</td>\n",
       "      <td>NaN</td>\n",
       "      <td>NaN</td>\n",
       "      <td>...</td>\n",
       "      <td>NaN</td>\n",
       "      <td>0.019737</td>\n",
       "      <td>NaN</td>\n",
       "      <td>0.026316</td>\n",
       "      <td>NaN</td>\n",
       "      <td>NaN</td>\n",
       "      <td>NaN</td>\n",
       "      <td>NaN</td>\n",
       "      <td>NaN</td>\n",
       "      <td>0.294118</td>\n",
       "    </tr>\n",
       "  </tbody>\n",
       "</table>\n",
       "<p>429601 rows × 113 columns</p>\n",
       "</div>"
      ],
      "text/plain": [
       "product  All bran  All other  Alpen  Alpina bon yurt  Annies homegrown  \\\n",
       "hhid                                                                     \n",
       "1             NaN        NaN    NaN              NaN               NaN   \n",
       "2             NaN        NaN    NaN              NaN               NaN   \n",
       "3             NaN        NaN    NaN              NaN               NaN   \n",
       "4             NaN        NaN    NaN              NaN               NaN   \n",
       "5             NaN        NaN    NaN              NaN               NaN   \n",
       "...           ...        ...    ...              ...               ...   \n",
       "447537        NaN        NaN    NaN              NaN               NaN   \n",
       "447538        NaN        NaN    NaN              NaN               NaN   \n",
       "447539        NaN        NaN    NaN              NaN               NaN   \n",
       "447541        NaN        NaN    NaN              NaN               NaN   \n",
       "447542        NaN        NaN    NaN              NaN               0.1   \n",
       "\n",
       "product  Apple jacks  Arrowhead mills  Aurora natural  Back to nature  \\\n",
       "hhid                                                                    \n",
       "1                NaN              NaN             NaN             NaN   \n",
       "2                NaN              NaN        0.117647             NaN   \n",
       "3                NaN              NaN             NaN             NaN   \n",
       "4                NaN              NaN             NaN             NaN   \n",
       "5                NaN              NaN             NaN             NaN   \n",
       "...              ...              ...             ...             ...   \n",
       "447537           NaN              NaN             NaN             NaN   \n",
       "447538           NaN              NaN             NaN             NaN   \n",
       "447539           NaN              NaN             NaN             NaN   \n",
       "447541           NaN              NaN             NaN             NaN   \n",
       "447542      0.027778              NaN        0.235294             NaN   \n",
       "\n",
       "product  Bakery on main  ...  The toasted oat  Toast crunch  Total      Trix  \\\n",
       "hhid                     ...                                                   \n",
       "1                   NaN  ...              NaN           NaN    NaN       NaN   \n",
       "2                   NaN  ...              NaN           NaN    NaN       NaN   \n",
       "3                   NaN  ...              NaN           NaN    NaN       NaN   \n",
       "4                   NaN  ...              NaN           NaN    NaN       NaN   \n",
       "5                   NaN  ...              NaN           NaN    NaN       NaN   \n",
       "...                 ...  ...              ...           ...    ...       ...   \n",
       "447537              NaN  ...              NaN           NaN    NaN       NaN   \n",
       "447538              NaN  ...              NaN      0.017544    NaN       NaN   \n",
       "447539              NaN  ...              NaN           NaN    NaN       NaN   \n",
       "447541              NaN  ...              NaN           NaN    NaN       NaN   \n",
       "447542              NaN  ...              NaN      0.019737    NaN  0.026316   \n",
       "\n",
       "product  Udis  Uncle sam  Vans  Vikis  Weetabix  Wheaties  \n",
       "hhid                                                       \n",
       "1         NaN        NaN   NaN    NaN       NaN       NaN  \n",
       "2         NaN        NaN   NaN    NaN       NaN       NaN  \n",
       "3         NaN        NaN   NaN    NaN       NaN       NaN  \n",
       "4         NaN        NaN   NaN    NaN       NaN       NaN  \n",
       "5         NaN        NaN   NaN    NaN       NaN       NaN  \n",
       "...       ...        ...   ...    ...       ...       ...  \n",
       "447537    NaN        NaN   NaN    NaN       NaN       NaN  \n",
       "447538    NaN        NaN   NaN    NaN       NaN       NaN  \n",
       "447539    NaN        NaN   NaN    NaN       NaN       NaN  \n",
       "447541    NaN        NaN   NaN    NaN       NaN       NaN  \n",
       "447542    NaN        NaN   NaN    NaN       NaN  0.294118  \n",
       "\n",
       "[429601 rows x 113 columns]"
      ]
     },
     "execution_count": 14,
     "metadata": {},
     "output_type": "execute_result"
    }
   ],
   "source": [
    "data_matrix_norm = (data_matrix/data_matrix.max())\n",
    "data_matrix_norm"
   ]
  },
  {
   "cell_type": "markdown",
   "id": "ef21f20e",
   "metadata": {},
   "source": [
    "We create a table for input to the model"
   ]
  },
  {
   "cell_type": "code",
   "execution_count": 15,
   "id": "e961f20b",
   "metadata": {
    "scrolled": true
   },
   "outputs": [
    {
     "data": {
      "text/html": [
       "<div>\n",
       "<style scoped>\n",
       "    .dataframe tbody tr th:only-of-type {\n",
       "        vertical-align: middle;\n",
       "    }\n",
       "\n",
       "    .dataframe tbody tr th {\n",
       "        vertical-align: top;\n",
       "    }\n",
       "\n",
       "    .dataframe thead th {\n",
       "        text-align: right;\n",
       "    }\n",
       "</style>\n",
       "<table border=\"1\" class=\"dataframe\">\n",
       "  <thead>\n",
       "    <tr style=\"text-align: right;\">\n",
       "      <th></th>\n",
       "      <th>hhid</th>\n",
       "      <th>product</th>\n",
       "      <th>scaled_purchase_freq</th>\n",
       "    </tr>\n",
       "  </thead>\n",
       "  <tbody>\n",
       "    <tr>\n",
       "      <th>526</th>\n",
       "      <td>556</td>\n",
       "      <td>All bran</td>\n",
       "      <td>0.222222</td>\n",
       "    </tr>\n",
       "    <tr>\n",
       "      <th>579</th>\n",
       "      <td>613</td>\n",
       "      <td>All bran</td>\n",
       "      <td>0.166667</td>\n",
       "    </tr>\n",
       "    <tr>\n",
       "      <th>581</th>\n",
       "      <td>615</td>\n",
       "      <td>All bran</td>\n",
       "      <td>0.166667</td>\n",
       "    </tr>\n",
       "    <tr>\n",
       "      <th>582</th>\n",
       "      <td>616</td>\n",
       "      <td>All bran</td>\n",
       "      <td>0.166667</td>\n",
       "    </tr>\n",
       "    <tr>\n",
       "      <th>976</th>\n",
       "      <td>1034</td>\n",
       "      <td>All bran</td>\n",
       "      <td>0.166667</td>\n",
       "    </tr>\n",
       "    <tr>\n",
       "      <th>...</th>\n",
       "      <td>...</td>\n",
       "      <td>...</td>\n",
       "      <td>...</td>\n",
       "    </tr>\n",
       "    <tr>\n",
       "      <th>48544601</th>\n",
       "      <td>447205</td>\n",
       "      <td>Wheaties</td>\n",
       "      <td>0.235294</td>\n",
       "    </tr>\n",
       "    <tr>\n",
       "      <th>48544783</th>\n",
       "      <td>447399</td>\n",
       "      <td>Wheaties</td>\n",
       "      <td>0.117647</td>\n",
       "    </tr>\n",
       "    <tr>\n",
       "      <th>48544869</th>\n",
       "      <td>447496</td>\n",
       "      <td>Wheaties</td>\n",
       "      <td>0.235294</td>\n",
       "    </tr>\n",
       "    <tr>\n",
       "      <th>48544878</th>\n",
       "      <td>447505</td>\n",
       "      <td>Wheaties</td>\n",
       "      <td>0.117647</td>\n",
       "    </tr>\n",
       "    <tr>\n",
       "      <th>48544912</th>\n",
       "      <td>447542</td>\n",
       "      <td>Wheaties</td>\n",
       "      <td>0.294118</td>\n",
       "    </tr>\n",
       "  </tbody>\n",
       "</table>\n",
       "<p>2048086 rows × 3 columns</p>\n",
       "</div>"
      ],
      "text/plain": [
       "            hhid   product  scaled_purchase_freq\n",
       "526          556  All bran              0.222222\n",
       "579          613  All bran              0.166667\n",
       "581          615  All bran              0.166667\n",
       "582          616  All bran              0.166667\n",
       "976         1034  All bran              0.166667\n",
       "...          ...       ...                   ...\n",
       "48544601  447205  Wheaties              0.235294\n",
       "48544783  447399  Wheaties              0.117647\n",
       "48544869  447496  Wheaties              0.235294\n",
       "48544878  447505  Wheaties              0.117647\n",
       "48544912  447542  Wheaties              0.294118\n",
       "\n",
       "[2048086 rows x 3 columns]"
      ]
     },
     "execution_count": 15,
     "metadata": {},
     "output_type": "execute_result"
    }
   ],
   "source": [
    "data_norm = data_matrix_norm.reset_index()\n",
    "data_norm.index.names = ['scaled_purchase_freq']\n",
    "data_norm = pd.melt(data_norm, id_vars=['hhid'], value_name='scaled_purchase_freq').dropna()\n",
    "data_norm"
   ]
  },
  {
   "cell_type": "markdown",
   "id": "10c0d0c1",
   "metadata": {},
   "source": [
    "## 4. Split train and test set"
   ]
  },
  {
   "cell_type": "markdown",
   "id": "31a2f81f",
   "metadata": {},
   "source": [
    "We split the data into training and testing set with ratio of 80:20"
   ]
  },
  {
   "cell_type": "code",
   "execution_count": 16,
   "id": "cc18e7d5",
   "metadata": {},
   "outputs": [],
   "source": [
    "def split_data(data):\n",
    "    train, test = train_test_split(data, test_size = 0.2)\n",
    "    train_data = tc.SFrame(train)\n",
    "    test_data = tc.SFrame(test)\n",
    "    return train_data, test_data\n",
    "\n",
    "train_data, test_data = split_data(data_norm) # for the similarity model"
   ]
  },
  {
   "cell_type": "markdown",
   "id": "3737f06a",
   "metadata": {},
   "source": [
    "## 5. Define models using Turicreate library"
   ]
  },
  {
   "cell_type": "code",
   "execution_count": 17,
   "id": "9667ac60",
   "metadata": {},
   "outputs": [],
   "source": [
    "# constant variable to define field names\n",
    "user_id = 'hhid'\n",
    "item_id = 'product'\n",
    "users_to_recommend = list(data[user_id].unique())\n",
    "n_rec = 5 # number of cereal brands to recommend\n",
    "n_display = 30 # to display the first few rows in an output dataset"
   ]
  },
  {
   "cell_type": "markdown",
   "id": "6cadbb39",
   "metadata": {},
   "source": [
    "We would recommend the 5 most relevant cereal brands to our users."
   ]
  },
  {
   "cell_type": "markdown",
   "id": "a5f1f569",
   "metadata": {},
   "source": [
    "# Collaborative Filtering Model"
   ]
  },
  {
   "cell_type": "markdown",
   "id": "4062e52a",
   "metadata": {},
   "source": [
    "### Decision on using Collaborative Filtering Model\n",
    "\n",
    "Compare to the popularity based model, which only recommends the most popular items to the users based on purchase frequencie, which is non-personalized, we use a more personalized approach, which consider the user's purchase history of the items."
   ]
  },
  {
   "cell_type": "markdown",
   "id": "d0789e3f",
   "metadata": {},
   "source": [
    "### Definition\n",
    "- Collaborative Filtering is a technique or a method to predict a user's tatse and find the items that a user might prefer on the basis of information collected from various other users having similar tatses or preferences.\n",
    "- Does not require any detail information about the product except for the purchase history of the product by the users.\n",
    "\n",
    "### In general,\n",
    "- We recommend a user items that he/she has never bought before but they were relevant to the products the user has purchased in the past.\n",
    "\n",
    "- The two most popular forms of collaborative filtering are:\n",
    "    - **User Based**: Measure the **similarity among users based on their purchase history**. We find the target user's preference of the missing item with the help of these users.\n",
    "    - **Item Based**: Measure **how similar a product is to another product**. We find the target user's preference of the missing item with the help of the preference given to the other items by other users.\n",
    "    \n",
    "### Decision\n",
    "\n",
    "We decide to use the **Item-to-Item Based Collborative Filtering Model** since we have more users than items.\n",
    "\n",
    "User preferences and liking may also change over time so an item-to-item approach can tackle this problem more efficiently.\n",
    "\n",
    "### Steps:\n",
    "1. Create an item-to-item similarity matrix. This is used to measure how similar a product is to another product. We choose `cosine` similarity as our main method.\n",
    "     - To compare item A and B, we look at all customers who have rated both these items. We create two item-vectors, v1 for item X, and v2 for item Y, and find the `cosine` angle/distance between these vectors. \n",
    "     - The similarity is defined by the following formula:\n",
    "\n",
    "        + **similarity(A, B)** = $cos(\\vec{A},\\vec{B}) = \\frac{\\vec{A}.\\vec{B}}{||\\vec{A}||.||\\vec{B}||} = \\frac{\\sum_u freq_{u, A}.freq_{u, B}}{\\sqrt{\\sum_u freq^2_{u,A}}\\sqrt{\\sum_u freq^2_{u, B}}}$\n",
    "\n",
    "    - As the vectors get closer, the angle will be smaller and the `cosine` will be larger.\n",
    "    - Cosine similarity gives value between -1 and 1\n",
    "        - Close to 1: Two items are strongly similar to each other\n",
    "        - Close to -1: Two items are strongly not similar to each other\n",
    "        - CLose to 0: There is not much correlation between 2 items\n",
    "        \n",
    "2. Calculating the prediction of a user u for item i\n",
    "    - We use the items (already rated by the user) that are most similar to the missing item to generate rating. Specifically, we try to generate predictions based on the ratings of similar products.\n",
    "    - We use a formula which computes the rating for a particular item using weighted sum of the ratings of the other similar products\n",
    "    \n",
    "        + **prediction(u, i)** = $\\frac{\\sum_j (freq_{u, j}).similarity_{i,j}}{\\sum_j similarity_{i,j}}$\n"
   ]
  },
  {
   "cell_type": "code",
   "execution_count": 18,
   "id": "e17b31de",
   "metadata": {
    "scrolled": true
   },
   "outputs": [
    {
     "data": {
      "text/html": [
       "<pre>Preparing data set.</pre>"
      ],
      "text/plain": [
       "Preparing data set."
      ]
     },
     "metadata": {},
     "output_type": "display_data"
    },
    {
     "data": {
      "text/html": [
       "<pre>    Data has 1638468 observations with 404549 users and 111 items.</pre>"
      ],
      "text/plain": [
       "    Data has 1638468 observations with 404549 users and 111 items."
      ]
     },
     "metadata": {},
     "output_type": "display_data"
    },
    {
     "data": {
      "text/html": [
       "<pre>    Data prepared in: 0.661301s</pre>"
      ],
      "text/plain": [
       "    Data prepared in: 0.661301s"
      ]
     },
     "metadata": {},
     "output_type": "display_data"
    },
    {
     "data": {
      "text/html": [
       "<pre>Training model from provided data.</pre>"
      ],
      "text/plain": [
       "Training model from provided data."
      ]
     },
     "metadata": {},
     "output_type": "display_data"
    },
    {
     "data": {
      "text/html": [
       "<pre>Gathering per-item and per-user statistics.</pre>"
      ],
      "text/plain": [
       "Gathering per-item and per-user statistics."
      ]
     },
     "metadata": {},
     "output_type": "display_data"
    },
    {
     "data": {
      "text/html": [
       "<pre>+--------------------------------+------------+</pre>"
      ],
      "text/plain": [
       "+--------------------------------+------------+"
      ]
     },
     "metadata": {},
     "output_type": "display_data"
    },
    {
     "data": {
      "text/html": [
       "<pre>| Elapsed Time (Item Statistics) | % Complete |</pre>"
      ],
      "text/plain": [
       "| Elapsed Time (Item Statistics) | % Complete |"
      ]
     },
     "metadata": {},
     "output_type": "display_data"
    },
    {
     "data": {
      "text/html": [
       "<pre>+--------------------------------+------------+</pre>"
      ],
      "text/plain": [
       "+--------------------------------+------------+"
      ]
     },
     "metadata": {},
     "output_type": "display_data"
    },
    {
     "data": {
      "text/html": [
       "<pre>| 2.028ms                        | 0          |</pre>"
      ],
      "text/plain": [
       "| 2.028ms                        | 0          |"
      ]
     },
     "metadata": {},
     "output_type": "display_data"
    },
    {
     "data": {
      "text/html": [
       "<pre>| 13.334ms                       | 54.25      |</pre>"
      ],
      "text/plain": [
       "| 13.334ms                       | 54.25      |"
      ]
     },
     "metadata": {},
     "output_type": "display_data"
    },
    {
     "data": {
      "text/html": [
       "<pre>| 24.623ms                       | 100        |</pre>"
      ],
      "text/plain": [
       "| 24.623ms                       | 100        |"
      ]
     },
     "metadata": {},
     "output_type": "display_data"
    },
    {
     "data": {
      "text/html": [
       "<pre>+--------------------------------+------------+</pre>"
      ],
      "text/plain": [
       "+--------------------------------+------------+"
      ]
     },
     "metadata": {},
     "output_type": "display_data"
    },
    {
     "data": {
      "text/html": [
       "<pre>Setting up lookup tables.</pre>"
      ],
      "text/plain": [
       "Setting up lookup tables."
      ]
     },
     "metadata": {},
     "output_type": "display_data"
    },
    {
     "data": {
      "text/html": [
       "<pre>Processing data in one pass using dense lookup tables.</pre>"
      ],
      "text/plain": [
       "Processing data in one pass using dense lookup tables."
      ]
     },
     "metadata": {},
     "output_type": "display_data"
    },
    {
     "data": {
      "text/html": [
       "<pre>+-------------------------------------+------------------+-----------------+</pre>"
      ],
      "text/plain": [
       "+-------------------------------------+------------------+-----------------+"
      ]
     },
     "metadata": {},
     "output_type": "display_data"
    },
    {
     "data": {
      "text/html": [
       "<pre>| Elapsed Time (Constructing Lookups) | Total % Complete | Items Processed |</pre>"
      ],
      "text/plain": [
       "| Elapsed Time (Constructing Lookups) | Total % Complete | Items Processed |"
      ]
     },
     "metadata": {},
     "output_type": "display_data"
    },
    {
     "data": {
      "text/html": [
       "<pre>+-------------------------------------+------------------+-----------------+</pre>"
      ],
      "text/plain": [
       "+-------------------------------------+------------------+-----------------+"
      ]
     },
     "metadata": {},
     "output_type": "display_data"
    },
    {
     "data": {
      "text/html": [
       "<pre>| 27.877ms                            | 0                | 0               |</pre>"
      ],
      "text/plain": [
       "| 27.877ms                            | 0                | 0               |"
      ]
     },
     "metadata": {},
     "output_type": "display_data"
    },
    {
     "data": {
      "text/html": [
       "<pre>| 71.922ms                            | 100              | 111             |</pre>"
      ],
      "text/plain": [
       "| 71.922ms                            | 100              | 111             |"
      ]
     },
     "metadata": {},
     "output_type": "display_data"
    },
    {
     "data": {
      "text/html": [
       "<pre>+-------------------------------------+------------------+-----------------+</pre>"
      ],
      "text/plain": [
       "+-------------------------------------+------------------+-----------------+"
      ]
     },
     "metadata": {},
     "output_type": "display_data"
    },
    {
     "data": {
      "text/html": [
       "<pre>Finalizing lookup tables.</pre>"
      ],
      "text/plain": [
       "Finalizing lookup tables."
      ]
     },
     "metadata": {},
     "output_type": "display_data"
    },
    {
     "data": {
      "text/html": [
       "<pre>Generating candidate set for working with new users.</pre>"
      ],
      "text/plain": [
       "Generating candidate set for working with new users."
      ]
     },
     "metadata": {},
     "output_type": "display_data"
    },
    {
     "data": {
      "text/html": [
       "<pre>Finished training in 1.18957s</pre>"
      ],
      "text/plain": [
       "Finished training in 1.18957s"
      ]
     },
     "metadata": {},
     "output_type": "display_data"
    },
    {
     "data": {
      "text/html": [
       "<pre>recommendations finished on 1000/429601 queries. users per second: 93196.6</pre>"
      ],
      "text/plain": [
       "recommendations finished on 1000/429601 queries. users per second: 93196.6"
      ]
     },
     "metadata": {},
     "output_type": "display_data"
    },
    {
     "data": {
      "text/html": [
       "<pre>recommendations finished on 2000/429601 queries. users per second: 139626</pre>"
      ],
      "text/plain": [
       "recommendations finished on 2000/429601 queries. users per second: 139626"
      ]
     },
     "metadata": {},
     "output_type": "display_data"
    },
    {
     "data": {
      "text/html": [
       "<pre>recommendations finished on 3000/429601 queries. users per second: 203348</pre>"
      ],
      "text/plain": [
       "recommendations finished on 3000/429601 queries. users per second: 203348"
      ]
     },
     "metadata": {},
     "output_type": "display_data"
    },
    {
     "data": {
      "text/html": [
       "<pre>recommendations finished on 4000/429601 queries. users per second: 263037</pre>"
      ],
      "text/plain": [
       "recommendations finished on 4000/429601 queries. users per second: 263037"
      ]
     },
     "metadata": {},
     "output_type": "display_data"
    },
    {
     "data": {
      "text/html": [
       "<pre>recommendations finished on 5000/429601 queries. users per second: 319877</pre>"
      ],
      "text/plain": [
       "recommendations finished on 5000/429601 queries. users per second: 319877"
      ]
     },
     "metadata": {},
     "output_type": "display_data"
    },
    {
     "data": {
      "text/html": [
       "<pre>recommendations finished on 6000/429601 queries. users per second: 373134</pre>"
      ],
      "text/plain": [
       "recommendations finished on 6000/429601 queries. users per second: 373134"
      ]
     },
     "metadata": {},
     "output_type": "display_data"
    },
    {
     "data": {
      "text/html": [
       "<pre>recommendations finished on 7000/429601 queries. users per second: 424345</pre>"
      ],
      "text/plain": [
       "recommendations finished on 7000/429601 queries. users per second: 424345"
      ]
     },
     "metadata": {},
     "output_type": "display_data"
    },
    {
     "data": {
      "text/html": [
       "<pre>recommendations finished on 8000/429601 queries. users per second: 473009</pre>"
      ],
      "text/plain": [
       "recommendations finished on 8000/429601 queries. users per second: 473009"
      ]
     },
     "metadata": {},
     "output_type": "display_data"
    },
    {
     "data": {
      "text/html": [
       "<pre>recommendations finished on 9000/429601 queries. users per second: 517866</pre>"
      ],
      "text/plain": [
       "recommendations finished on 9000/429601 queries. users per second: 517866"
      ]
     },
     "metadata": {},
     "output_type": "display_data"
    },
    {
     "data": {
      "text/html": [
       "<pre>recommendations finished on 10000/429601 queries. users per second: 558597</pre>"
      ],
      "text/plain": [
       "recommendations finished on 10000/429601 queries. users per second: 558597"
      ]
     },
     "metadata": {},
     "output_type": "display_data"
    },
    {
     "data": {
      "text/html": [
       "<pre>recommendations finished on 11000/429601 queries. users per second: 598835</pre>"
      ],
      "text/plain": [
       "recommendations finished on 11000/429601 queries. users per second: 598835"
      ]
     },
     "metadata": {},
     "output_type": "display_data"
    },
    {
     "data": {
      "text/html": [
       "<pre>recommendations finished on 12000/429601 queries. users per second: 637823</pre>"
      ],
      "text/plain": [
       "recommendations finished on 12000/429601 queries. users per second: 637823"
      ]
     },
     "metadata": {},
     "output_type": "display_data"
    },
    {
     "data": {
      "text/html": [
       "<pre>recommendations finished on 13000/429601 queries. users per second: 674134</pre>"
      ],
      "text/plain": [
       "recommendations finished on 13000/429601 queries. users per second: 674134"
      ]
     },
     "metadata": {},
     "output_type": "display_data"
    },
    {
     "data": {
      "text/html": [
       "<pre>recommendations finished on 14000/429601 queries. users per second: 707643</pre>"
      ],
      "text/plain": [
       "recommendations finished on 14000/429601 queries. users per second: 707643"
      ]
     },
     "metadata": {},
     "output_type": "display_data"
    },
    {
     "data": {
      "text/html": [
       "<pre>recommendations finished on 15000/429601 queries. users per second: 734790</pre>"
      ],
      "text/plain": [
       "recommendations finished on 15000/429601 queries. users per second: 734790"
      ]
     },
     "metadata": {},
     "output_type": "display_data"
    },
    {
     "data": {
      "text/html": [
       "<pre>recommendations finished on 16000/429601 queries. users per second: 763504</pre>"
      ],
      "text/plain": [
       "recommendations finished on 16000/429601 queries. users per second: 763504"
      ]
     },
     "metadata": {},
     "output_type": "display_data"
    },
    {
     "data": {
      "text/html": [
       "<pre>recommendations finished on 17000/429601 queries. users per second: 793873</pre>"
      ],
      "text/plain": [
       "recommendations finished on 17000/429601 queries. users per second: 793873"
      ]
     },
     "metadata": {},
     "output_type": "display_data"
    },
    {
     "data": {
      "text/html": [
       "<pre>recommendations finished on 18000/429601 queries. users per second: 820158</pre>"
      ],
      "text/plain": [
       "recommendations finished on 18000/429601 queries. users per second: 820158"
      ]
     },
     "metadata": {},
     "output_type": "display_data"
    },
    {
     "data": {
      "text/html": [
       "<pre>recommendations finished on 19000/429601 queries. users per second: 847382</pre>"
      ],
      "text/plain": [
       "recommendations finished on 19000/429601 queries. users per second: 847382"
      ]
     },
     "metadata": {},
     "output_type": "display_data"
    },
    {
     "data": {
      "text/html": [
       "<pre>recommendations finished on 20000/429601 queries. users per second: 875197</pre>"
      ],
      "text/plain": [
       "recommendations finished on 20000/429601 queries. users per second: 875197"
      ]
     },
     "metadata": {},
     "output_type": "display_data"
    },
    {
     "data": {
      "text/html": [
       "<pre>recommendations finished on 21000/429601 queries. users per second: 902411</pre>"
      ],
      "text/plain": [
       "recommendations finished on 21000/429601 queries. users per second: 902411"
      ]
     },
     "metadata": {},
     "output_type": "display_data"
    },
    {
     "data": {
      "text/html": [
       "<pre>recommendations finished on 22000/429601 queries. users per second: 927214</pre>"
      ],
      "text/plain": [
       "recommendations finished on 22000/429601 queries. users per second: 927214"
      ]
     },
     "metadata": {},
     "output_type": "display_data"
    },
    {
     "data": {
      "text/html": [
       "<pre>recommendations finished on 23000/429601 queries. users per second: 953131</pre>"
      ],
      "text/plain": [
       "recommendations finished on 23000/429601 queries. users per second: 953131"
      ]
     },
     "metadata": {},
     "output_type": "display_data"
    },
    {
     "data": {
      "text/html": [
       "<pre>recommendations finished on 24000/429601 queries. users per second: 977637</pre>"
      ],
      "text/plain": [
       "recommendations finished on 24000/429601 queries. users per second: 977637"
      ]
     },
     "metadata": {},
     "output_type": "display_data"
    },
    {
     "data": {
      "text/html": [
       "<pre>recommendations finished on 25000/429601 queries. users per second: 996254</pre>"
      ],
      "text/plain": [
       "recommendations finished on 25000/429601 queries. users per second: 996254"
      ]
     },
     "metadata": {},
     "output_type": "display_data"
    },
    {
     "data": {
      "text/html": [
       "<pre>recommendations finished on 26000/429601 queries. users per second: 1.01682e+06</pre>"
      ],
      "text/plain": [
       "recommendations finished on 26000/429601 queries. users per second: 1.01682e+06"
      ]
     },
     "metadata": {},
     "output_type": "display_data"
    },
    {
     "data": {
      "text/html": [
       "<pre>recommendations finished on 27000/429601 queries. users per second: 1.0375e+06</pre>"
      ],
      "text/plain": [
       "recommendations finished on 27000/429601 queries. users per second: 1.0375e+06"
      ]
     },
     "metadata": {},
     "output_type": "display_data"
    },
    {
     "data": {
      "text/html": [
       "<pre>recommendations finished on 28000/429601 queries. users per second: 1.0572e+06</pre>"
      ],
      "text/plain": [
       "recommendations finished on 28000/429601 queries. users per second: 1.0572e+06"
      ]
     },
     "metadata": {},
     "output_type": "display_data"
    },
    {
     "data": {
      "text/html": [
       "<pre>recommendations finished on 29000/429601 queries. users per second: 1.07579e+06</pre>"
      ],
      "text/plain": [
       "recommendations finished on 29000/429601 queries. users per second: 1.07579e+06"
      ]
     },
     "metadata": {},
     "output_type": "display_data"
    },
    {
     "data": {
      "text/html": [
       "<pre>recommendations finished on 30000/429601 queries. users per second: 1.09457e+06</pre>"
      ],
      "text/plain": [
       "recommendations finished on 30000/429601 queries. users per second: 1.09457e+06"
      ]
     },
     "metadata": {},
     "output_type": "display_data"
    },
    {
     "data": {
      "text/html": [
       "<pre>recommendations finished on 31000/429601 queries. users per second: 1.11195e+06</pre>"
      ],
      "text/plain": [
       "recommendations finished on 31000/429601 queries. users per second: 1.11195e+06"
      ]
     },
     "metadata": {},
     "output_type": "display_data"
    },
    {
     "data": {
      "text/html": [
       "<pre>recommendations finished on 32000/429601 queries. users per second: 1.12962e+06</pre>"
      ],
      "text/plain": [
       "recommendations finished on 32000/429601 queries. users per second: 1.12962e+06"
      ]
     },
     "metadata": {},
     "output_type": "display_data"
    },
    {
     "data": {
      "text/html": [
       "<pre>recommendations finished on 33000/429601 queries. users per second: 1.14695e+06</pre>"
      ],
      "text/plain": [
       "recommendations finished on 33000/429601 queries. users per second: 1.14695e+06"
      ]
     },
     "metadata": {},
     "output_type": "display_data"
    },
    {
     "data": {
      "text/html": [
       "<pre>recommendations finished on 34000/429601 queries. users per second: 1.16339e+06</pre>"
      ],
      "text/plain": [
       "recommendations finished on 34000/429601 queries. users per second: 1.16339e+06"
      ]
     },
     "metadata": {},
     "output_type": "display_data"
    },
    {
     "data": {
      "text/html": [
       "<pre>recommendations finished on 35000/429601 queries. users per second: 1.15959e+06</pre>"
      ],
      "text/plain": [
       "recommendations finished on 35000/429601 queries. users per second: 1.15959e+06"
      ]
     },
     "metadata": {},
     "output_type": "display_data"
    },
    {
     "data": {
      "text/html": [
       "<pre>recommendations finished on 36000/429601 queries. users per second: 1.1649e+06</pre>"
      ],
      "text/plain": [
       "recommendations finished on 36000/429601 queries. users per second: 1.1649e+06"
      ]
     },
     "metadata": {},
     "output_type": "display_data"
    },
    {
     "data": {
      "text/html": [
       "<pre>recommendations finished on 37000/429601 queries. users per second: 1.16213e+06</pre>"
      ],
      "text/plain": [
       "recommendations finished on 37000/429601 queries. users per second: 1.16213e+06"
      ]
     },
     "metadata": {},
     "output_type": "display_data"
    },
    {
     "data": {
      "text/html": [
       "<pre>recommendations finished on 38000/429601 queries. users per second: 1.17335e+06</pre>"
      ],
      "text/plain": [
       "recommendations finished on 38000/429601 queries. users per second: 1.17335e+06"
      ]
     },
     "metadata": {},
     "output_type": "display_data"
    },
    {
     "data": {
      "text/html": [
       "<pre>recommendations finished on 39000/429601 queries. users per second: 1.18721e+06</pre>"
      ],
      "text/plain": [
       "recommendations finished on 39000/429601 queries. users per second: 1.18721e+06"
      ]
     },
     "metadata": {},
     "output_type": "display_data"
    },
    {
     "data": {
      "text/html": [
       "<pre>recommendations finished on 40000/429601 queries. users per second: 1.20117e+06</pre>"
      ],
      "text/plain": [
       "recommendations finished on 40000/429601 queries. users per second: 1.20117e+06"
      ]
     },
     "metadata": {},
     "output_type": "display_data"
    },
    {
     "data": {
      "text/html": [
       "<pre>recommendations finished on 41000/429601 queries. users per second: 1.21474e+06</pre>"
      ],
      "text/plain": [
       "recommendations finished on 41000/429601 queries. users per second: 1.21474e+06"
      ]
     },
     "metadata": {},
     "output_type": "display_data"
    },
    {
     "data": {
      "text/html": [
       "<pre>recommendations finished on 42000/429601 queries. users per second: 1.22399e+06</pre>"
      ],
      "text/plain": [
       "recommendations finished on 42000/429601 queries. users per second: 1.22399e+06"
      ]
     },
     "metadata": {},
     "output_type": "display_data"
    },
    {
     "data": {
      "text/html": [
       "<pre>recommendations finished on 43000/429601 queries. users per second: 1.23613e+06</pre>"
      ],
      "text/plain": [
       "recommendations finished on 43000/429601 queries. users per second: 1.23613e+06"
      ]
     },
     "metadata": {},
     "output_type": "display_data"
    },
    {
     "data": {
      "text/html": [
       "<pre>recommendations finished on 44000/429601 queries. users per second: 1.24851e+06</pre>"
      ],
      "text/plain": [
       "recommendations finished on 44000/429601 queries. users per second: 1.24851e+06"
      ]
     },
     "metadata": {},
     "output_type": "display_data"
    },
    {
     "data": {
      "text/html": [
       "<pre>recommendations finished on 45000/429601 queries. users per second: 1.26068e+06</pre>"
      ],
      "text/plain": [
       "recommendations finished on 45000/429601 queries. users per second: 1.26068e+06"
      ]
     },
     "metadata": {},
     "output_type": "display_data"
    },
    {
     "data": {
      "text/html": [
       "<pre>recommendations finished on 46000/429601 queries. users per second: 1.27307e+06</pre>"
      ],
      "text/plain": [
       "recommendations finished on 46000/429601 queries. users per second: 1.27307e+06"
      ]
     },
     "metadata": {},
     "output_type": "display_data"
    },
    {
     "data": {
      "text/html": [
       "<pre>recommendations finished on 47000/429601 queries. users per second: 1.28205e+06</pre>"
      ],
      "text/plain": [
       "recommendations finished on 47000/429601 queries. users per second: 1.28205e+06"
      ]
     },
     "metadata": {},
     "output_type": "display_data"
    },
    {
     "data": {
      "text/html": [
       "<pre>recommendations finished on 48000/429601 queries. users per second: 1.28956e+06</pre>"
      ],
      "text/plain": [
       "recommendations finished on 48000/429601 queries. users per second: 1.28956e+06"
      ]
     },
     "metadata": {},
     "output_type": "display_data"
    },
    {
     "data": {
      "text/html": [
       "<pre>recommendations finished on 49000/429601 queries. users per second: 1.28165e+06</pre>"
      ],
      "text/plain": [
       "recommendations finished on 49000/429601 queries. users per second: 1.28165e+06"
      ]
     },
     "metadata": {},
     "output_type": "display_data"
    },
    {
     "data": {
      "text/html": [
       "<pre>recommendations finished on 50000/429601 queries. users per second: 1.29089e+06</pre>"
      ],
      "text/plain": [
       "recommendations finished on 50000/429601 queries. users per second: 1.29089e+06"
      ]
     },
     "metadata": {},
     "output_type": "display_data"
    },
    {
     "data": {
      "text/html": [
       "<pre>recommendations finished on 51000/429601 queries. users per second: 1.30388e+06</pre>"
      ],
      "text/plain": [
       "recommendations finished on 51000/429601 queries. users per second: 1.30388e+06"
      ]
     },
     "metadata": {},
     "output_type": "display_data"
    },
    {
     "data": {
      "text/html": [
       "<pre>recommendations finished on 52000/429601 queries. users per second: 1.30212e+06</pre>"
      ],
      "text/plain": [
       "recommendations finished on 52000/429601 queries. users per second: 1.30212e+06"
      ]
     },
     "metadata": {},
     "output_type": "display_data"
    },
    {
     "data": {
      "text/html": [
       "<pre>recommendations finished on 53000/429601 queries. users per second: 1.31156e+06</pre>"
      ],
      "text/plain": [
       "recommendations finished on 53000/429601 queries. users per second: 1.31156e+06"
      ]
     },
     "metadata": {},
     "output_type": "display_data"
    },
    {
     "data": {
      "text/html": [
       "<pre>recommendations finished on 54000/429601 queries. users per second: 1.32133e+06</pre>"
      ],
      "text/plain": [
       "recommendations finished on 54000/429601 queries. users per second: 1.32133e+06"
      ]
     },
     "metadata": {},
     "output_type": "display_data"
    },
    {
     "data": {
      "text/html": [
       "<pre>recommendations finished on 55000/429601 queries. users per second: 1.33098e+06</pre>"
      ],
      "text/plain": [
       "recommendations finished on 55000/429601 queries. users per second: 1.33098e+06"
      ]
     },
     "metadata": {},
     "output_type": "display_data"
    },
    {
     "data": {
      "text/html": [
       "<pre>recommendations finished on 56000/429601 queries. users per second: 1.33882e+06</pre>"
      ],
      "text/plain": [
       "recommendations finished on 56000/429601 queries. users per second: 1.33882e+06"
      ]
     },
     "metadata": {},
     "output_type": "display_data"
    },
    {
     "data": {
      "text/html": [
       "<pre>recommendations finished on 57000/429601 queries. users per second: 1.34698e+06</pre>"
      ],
      "text/plain": [
       "recommendations finished on 57000/429601 queries. users per second: 1.34698e+06"
      ]
     },
     "metadata": {},
     "output_type": "display_data"
    },
    {
     "data": {
      "text/html": [
       "<pre>recommendations finished on 58000/429601 queries. users per second: 1.35198e+06</pre>"
      ],
      "text/plain": [
       "recommendations finished on 58000/429601 queries. users per second: 1.35198e+06"
      ]
     },
     "metadata": {},
     "output_type": "display_data"
    },
    {
     "data": {
      "text/html": [
       "<pre>recommendations finished on 59000/429601 queries. users per second: 1.35882e+06</pre>"
      ],
      "text/plain": [
       "recommendations finished on 59000/429601 queries. users per second: 1.35882e+06"
      ]
     },
     "metadata": {},
     "output_type": "display_data"
    },
    {
     "data": {
      "text/html": [
       "<pre>recommendations finished on 60000/429601 queries. users per second: 1.36413e+06</pre>"
      ],
      "text/plain": [
       "recommendations finished on 60000/429601 queries. users per second: 1.36413e+06"
      ]
     },
     "metadata": {},
     "output_type": "display_data"
    },
    {
     "data": {
      "text/html": [
       "<pre>recommendations finished on 61000/429601 queries. users per second: 1.36906e+06</pre>"
      ],
      "text/plain": [
       "recommendations finished on 61000/429601 queries. users per second: 1.36906e+06"
      ]
     },
     "metadata": {},
     "output_type": "display_data"
    },
    {
     "data": {
      "text/html": [
       "<pre>recommendations finished on 62000/429601 queries. users per second: 1.37882e+06</pre>"
      ],
      "text/plain": [
       "recommendations finished on 62000/429601 queries. users per second: 1.37882e+06"
      ]
     },
     "metadata": {},
     "output_type": "display_data"
    },
    {
     "data": {
      "text/html": [
       "<pre>recommendations finished on 63000/429601 queries. users per second: 1.38763e+06</pre>"
      ],
      "text/plain": [
       "recommendations finished on 63000/429601 queries. users per second: 1.38763e+06"
      ]
     },
     "metadata": {},
     "output_type": "display_data"
    },
    {
     "data": {
      "text/html": [
       "<pre>recommendations finished on 64000/429601 queries. users per second: 1.39637e+06</pre>"
      ],
      "text/plain": [
       "recommendations finished on 64000/429601 queries. users per second: 1.39637e+06"
      ]
     },
     "metadata": {},
     "output_type": "display_data"
    },
    {
     "data": {
      "text/html": [
       "<pre>recommendations finished on 65000/429601 queries. users per second: 1.4048e+06</pre>"
      ],
      "text/plain": [
       "recommendations finished on 65000/429601 queries. users per second: 1.4048e+06"
      ]
     },
     "metadata": {},
     "output_type": "display_data"
    },
    {
     "data": {
      "text/html": [
       "<pre>recommendations finished on 66000/429601 queries. users per second: 1.41176e+06</pre>"
      ],
      "text/plain": [
       "recommendations finished on 66000/429601 queries. users per second: 1.41176e+06"
      ]
     },
     "metadata": {},
     "output_type": "display_data"
    },
    {
     "data": {
      "text/html": [
       "<pre>recommendations finished on 67000/429601 queries. users per second: 1.41988e+06</pre>"
      ],
      "text/plain": [
       "recommendations finished on 67000/429601 queries. users per second: 1.41988e+06"
      ]
     },
     "metadata": {},
     "output_type": "display_data"
    },
    {
     "data": {
      "text/html": [
       "<pre>recommendations finished on 68000/429601 queries. users per second: 1.42743e+06</pre>"
      ],
      "text/plain": [
       "recommendations finished on 68000/429601 queries. users per second: 1.42743e+06"
      ]
     },
     "metadata": {},
     "output_type": "display_data"
    },
    {
     "data": {
      "text/html": [
       "<pre>recommendations finished on 69000/429601 queries. users per second: 1.43466e+06</pre>"
      ],
      "text/plain": [
       "recommendations finished on 69000/429601 queries. users per second: 1.43466e+06"
      ]
     },
     "metadata": {},
     "output_type": "display_data"
    },
    {
     "data": {
      "text/html": [
       "<pre>recommendations finished on 70000/429601 queries. users per second: 1.44205e+06</pre>"
      ],
      "text/plain": [
       "recommendations finished on 70000/429601 queries. users per second: 1.44205e+06"
      ]
     },
     "metadata": {},
     "output_type": "display_data"
    },
    {
     "data": {
      "text/html": [
       "<pre>recommendations finished on 71000/429601 queries. users per second: 1.44978e+06</pre>"
      ],
      "text/plain": [
       "recommendations finished on 71000/429601 queries. users per second: 1.44978e+06"
      ]
     },
     "metadata": {},
     "output_type": "display_data"
    },
    {
     "data": {
      "text/html": [
       "<pre>recommendations finished on 72000/429601 queries. users per second: 1.45446e+06</pre>"
      ],
      "text/plain": [
       "recommendations finished on 72000/429601 queries. users per second: 1.45446e+06"
      ]
     },
     "metadata": {},
     "output_type": "display_data"
    },
    {
     "data": {
      "text/html": [
       "<pre>recommendations finished on 73000/429601 queries. users per second: 1.45799e+06</pre>"
      ],
      "text/plain": [
       "recommendations finished on 73000/429601 queries. users per second: 1.45799e+06"
      ]
     },
     "metadata": {},
     "output_type": "display_data"
    },
    {
     "data": {
      "text/html": [
       "<pre>recommendations finished on 74000/429601 queries. users per second: 1.46451e+06</pre>"
      ],
      "text/plain": [
       "recommendations finished on 74000/429601 queries. users per second: 1.46451e+06"
      ]
     },
     "metadata": {},
     "output_type": "display_data"
    },
    {
     "data": {
      "text/html": [
       "<pre>recommendations finished on 75000/429601 queries. users per second: 1.46886e+06</pre>"
      ],
      "text/plain": [
       "recommendations finished on 75000/429601 queries. users per second: 1.46886e+06"
      ]
     },
     "metadata": {},
     "output_type": "display_data"
    },
    {
     "data": {
      "text/html": [
       "<pre>recommendations finished on 76000/429601 queries. users per second: 1.47401e+06</pre>"
      ],
      "text/plain": [
       "recommendations finished on 76000/429601 queries. users per second: 1.47401e+06"
      ]
     },
     "metadata": {},
     "output_type": "display_data"
    },
    {
     "data": {
      "text/html": [
       "<pre>recommendations finished on 77000/429601 queries. users per second: 1.48083e+06</pre>"
      ],
      "text/plain": [
       "recommendations finished on 77000/429601 queries. users per second: 1.48083e+06"
      ]
     },
     "metadata": {},
     "output_type": "display_data"
    },
    {
     "data": {
      "text/html": [
       "<pre>recommendations finished on 78000/429601 queries. users per second: 1.48722e+06</pre>"
      ],
      "text/plain": [
       "recommendations finished on 78000/429601 queries. users per second: 1.48722e+06"
      ]
     },
     "metadata": {},
     "output_type": "display_data"
    },
    {
     "data": {
      "text/html": [
       "<pre>recommendations finished on 79000/429601 queries. users per second: 1.49372e+06</pre>"
      ],
      "text/plain": [
       "recommendations finished on 79000/429601 queries. users per second: 1.49372e+06"
      ]
     },
     "metadata": {},
     "output_type": "display_data"
    },
    {
     "data": {
      "text/html": [
       "<pre>recommendations finished on 80000/429601 queries. users per second: 1.4999e+06</pre>"
      ],
      "text/plain": [
       "recommendations finished on 80000/429601 queries. users per second: 1.4999e+06"
      ]
     },
     "metadata": {},
     "output_type": "display_data"
    },
    {
     "data": {
      "text/html": [
       "<pre>recommendations finished on 81000/429601 queries. users per second: 1.50602e+06</pre>"
      ],
      "text/plain": [
       "recommendations finished on 81000/429601 queries. users per second: 1.50602e+06"
      ]
     },
     "metadata": {},
     "output_type": "display_data"
    },
    {
     "data": {
      "text/html": [
       "<pre>recommendations finished on 82000/429601 queries. users per second: 1.51158e+06</pre>"
      ],
      "text/plain": [
       "recommendations finished on 82000/429601 queries. users per second: 1.51158e+06"
      ]
     },
     "metadata": {},
     "output_type": "display_data"
    },
    {
     "data": {
      "text/html": [
       "<pre>recommendations finished on 83000/429601 queries. users per second: 1.5164e+06</pre>"
      ],
      "text/plain": [
       "recommendations finished on 83000/429601 queries. users per second: 1.5164e+06"
      ]
     },
     "metadata": {},
     "output_type": "display_data"
    },
    {
     "data": {
      "text/html": [
       "<pre>recommendations finished on 84000/429601 queries. users per second: 1.5213e+06</pre>"
      ],
      "text/plain": [
       "recommendations finished on 84000/429601 queries. users per second: 1.5213e+06"
      ]
     },
     "metadata": {},
     "output_type": "display_data"
    },
    {
     "data": {
      "text/html": [
       "<pre>recommendations finished on 85000/429601 queries. users per second: 1.52428e+06</pre>"
      ],
      "text/plain": [
       "recommendations finished on 85000/429601 queries. users per second: 1.52428e+06"
      ]
     },
     "metadata": {},
     "output_type": "display_data"
    },
    {
     "data": {
      "text/html": [
       "<pre>recommendations finished on 86000/429601 queries. users per second: 1.52712e+06</pre>"
      ],
      "text/plain": [
       "recommendations finished on 86000/429601 queries. users per second: 1.52712e+06"
      ]
     },
     "metadata": {},
     "output_type": "display_data"
    },
    {
     "data": {
      "text/html": [
       "<pre>recommendations finished on 87000/429601 queries. users per second: 1.52921e+06</pre>"
      ],
      "text/plain": [
       "recommendations finished on 87000/429601 queries. users per second: 1.52921e+06"
      ]
     },
     "metadata": {},
     "output_type": "display_data"
    },
    {
     "data": {
      "text/html": [
       "<pre>recommendations finished on 88000/429601 queries. users per second: 1.5338e+06</pre>"
      ],
      "text/plain": [
       "recommendations finished on 88000/429601 queries. users per second: 1.5338e+06"
      ]
     },
     "metadata": {},
     "output_type": "display_data"
    },
    {
     "data": {
      "text/html": [
       "<pre>recommendations finished on 89000/429601 queries. users per second: 1.53488e+06</pre>"
      ],
      "text/plain": [
       "recommendations finished on 89000/429601 queries. users per second: 1.53488e+06"
      ]
     },
     "metadata": {},
     "output_type": "display_data"
    },
    {
     "data": {
      "text/html": [
       "<pre>recommendations finished on 90000/429601 queries. users per second: 1.53636e+06</pre>"
      ],
      "text/plain": [
       "recommendations finished on 90000/429601 queries. users per second: 1.53636e+06"
      ]
     },
     "metadata": {},
     "output_type": "display_data"
    },
    {
     "data": {
      "text/html": [
       "<pre>recommendations finished on 91000/429601 queries. users per second: 1.54193e+06</pre>"
      ],
      "text/plain": [
       "recommendations finished on 91000/429601 queries. users per second: 1.54193e+06"
      ]
     },
     "metadata": {},
     "output_type": "display_data"
    },
    {
     "data": {
      "text/html": [
       "<pre>recommendations finished on 92000/429601 queries. users per second: 1.54728e+06</pre>"
      ],
      "text/plain": [
       "recommendations finished on 92000/429601 queries. users per second: 1.54728e+06"
      ]
     },
     "metadata": {},
     "output_type": "display_data"
    },
    {
     "data": {
      "text/html": [
       "<pre>recommendations finished on 93000/429601 queries. users per second: 1.55124e+06</pre>"
      ],
      "text/plain": [
       "recommendations finished on 93000/429601 queries. users per second: 1.55124e+06"
      ]
     },
     "metadata": {},
     "output_type": "display_data"
    },
    {
     "data": {
      "text/html": [
       "<pre>recommendations finished on 94000/429601 queries. users per second: 1.5549e+06</pre>"
      ],
      "text/plain": [
       "recommendations finished on 94000/429601 queries. users per second: 1.5549e+06"
      ]
     },
     "metadata": {},
     "output_type": "display_data"
    },
    {
     "data": {
      "text/html": [
       "<pre>recommendations finished on 95000/429601 queries. users per second: 1.55865e+06</pre>"
      ],
      "text/plain": [
       "recommendations finished on 95000/429601 queries. users per second: 1.55865e+06"
      ]
     },
     "metadata": {},
     "output_type": "display_data"
    },
    {
     "data": {
      "text/html": [
       "<pre>recommendations finished on 96000/429601 queries. users per second: 1.5627e+06</pre>"
      ],
      "text/plain": [
       "recommendations finished on 96000/429601 queries. users per second: 1.5627e+06"
      ]
     },
     "metadata": {},
     "output_type": "display_data"
    },
    {
     "data": {
      "text/html": [
       "<pre>recommendations finished on 97000/429601 queries. users per second: 1.56361e+06</pre>"
      ],
      "text/plain": [
       "recommendations finished on 97000/429601 queries. users per second: 1.56361e+06"
      ]
     },
     "metadata": {},
     "output_type": "display_data"
    },
    {
     "data": {
      "text/html": [
       "<pre>recommendations finished on 98000/429601 queries. users per second: 1.56557e+06</pre>"
      ],
      "text/plain": [
       "recommendations finished on 98000/429601 queries. users per second: 1.56557e+06"
      ]
     },
     "metadata": {},
     "output_type": "display_data"
    },
    {
     "data": {
      "text/html": [
       "<pre>recommendations finished on 99000/429601 queries. users per second: 1.56693e+06</pre>"
      ],
      "text/plain": [
       "recommendations finished on 99000/429601 queries. users per second: 1.56693e+06"
      ]
     },
     "metadata": {},
     "output_type": "display_data"
    },
    {
     "data": {
      "text/html": [
       "<pre>recommendations finished on 100000/429601 queries. users per second: 1.55516e+06</pre>"
      ],
      "text/plain": [
       "recommendations finished on 100000/429601 queries. users per second: 1.55516e+06"
      ]
     },
     "metadata": {},
     "output_type": "display_data"
    },
    {
     "data": {
      "text/html": [
       "<pre>recommendations finished on 101000/429601 queries. users per second: 1.55511e+06</pre>"
      ],
      "text/plain": [
       "recommendations finished on 101000/429601 queries. users per second: 1.55511e+06"
      ]
     },
     "metadata": {},
     "output_type": "display_data"
    },
    {
     "data": {
      "text/html": [
       "<pre>recommendations finished on 102000/429601 queries. users per second: 1.5559e+06</pre>"
      ],
      "text/plain": [
       "recommendations finished on 102000/429601 queries. users per second: 1.5559e+06"
      ]
     },
     "metadata": {},
     "output_type": "display_data"
    },
    {
     "data": {
      "text/html": [
       "<pre>recommendations finished on 103000/429601 queries. users per second: 1.55893e+06</pre>"
      ],
      "text/plain": [
       "recommendations finished on 103000/429601 queries. users per second: 1.55893e+06"
      ]
     },
     "metadata": {},
     "output_type": "display_data"
    },
    {
     "data": {
      "text/html": [
       "<pre>recommendations finished on 104000/429601 queries. users per second: 1.5632e+06</pre>"
      ],
      "text/plain": [
       "recommendations finished on 104000/429601 queries. users per second: 1.5632e+06"
      ]
     },
     "metadata": {},
     "output_type": "display_data"
    },
    {
     "data": {
      "text/html": [
       "<pre>recommendations finished on 105000/429601 queries. users per second: 1.56646e+06</pre>"
      ],
      "text/plain": [
       "recommendations finished on 105000/429601 queries. users per second: 1.56646e+06"
      ]
     },
     "metadata": {},
     "output_type": "display_data"
    },
    {
     "data": {
      "text/html": [
       "<pre>recommendations finished on 106000/429601 queries. users per second: 1.5706e+06</pre>"
      ],
      "text/plain": [
       "recommendations finished on 106000/429601 queries. users per second: 1.5706e+06"
      ]
     },
     "metadata": {},
     "output_type": "display_data"
    },
    {
     "data": {
      "text/html": [
       "<pre>recommendations finished on 107000/429601 queries. users per second: 1.57404e+06</pre>"
      ],
      "text/plain": [
       "recommendations finished on 107000/429601 queries. users per second: 1.57404e+06"
      ]
     },
     "metadata": {},
     "output_type": "display_data"
    },
    {
     "data": {
      "text/html": [
       "<pre>recommendations finished on 108000/429601 queries. users per second: 1.57759e+06</pre>"
      ],
      "text/plain": [
       "recommendations finished on 108000/429601 queries. users per second: 1.57759e+06"
      ]
     },
     "metadata": {},
     "output_type": "display_data"
    },
    {
     "data": {
      "text/html": [
       "<pre>recommendations finished on 109000/429601 queries. users per second: 1.58239e+06</pre>"
      ],
      "text/plain": [
       "recommendations finished on 109000/429601 queries. users per second: 1.58239e+06"
      ]
     },
     "metadata": {},
     "output_type": "display_data"
    },
    {
     "data": {
      "text/html": [
       "<pre>recommendations finished on 110000/429601 queries. users per second: 1.58611e+06</pre>"
      ],
      "text/plain": [
       "recommendations finished on 110000/429601 queries. users per second: 1.58611e+06"
      ]
     },
     "metadata": {},
     "output_type": "display_data"
    },
    {
     "data": {
      "text/html": [
       "<pre>recommendations finished on 111000/429601 queries. users per second: 1.58737e+06</pre>"
      ],
      "text/plain": [
       "recommendations finished on 111000/429601 queries. users per second: 1.58737e+06"
      ]
     },
     "metadata": {},
     "output_type": "display_data"
    },
    {
     "data": {
      "text/html": [
       "<pre>recommendations finished on 112000/429601 queries. users per second: 1.58721e+06</pre>"
      ],
      "text/plain": [
       "recommendations finished on 112000/429601 queries. users per second: 1.58721e+06"
      ]
     },
     "metadata": {},
     "output_type": "display_data"
    },
    {
     "data": {
      "text/html": [
       "<pre>recommendations finished on 113000/429601 queries. users per second: 1.59003e+06</pre>"
      ],
      "text/plain": [
       "recommendations finished on 113000/429601 queries. users per second: 1.59003e+06"
      ]
     },
     "metadata": {},
     "output_type": "display_data"
    },
    {
     "data": {
      "text/html": [
       "<pre>recommendations finished on 114000/429601 queries. users per second: 1.59483e+06</pre>"
      ],
      "text/plain": [
       "recommendations finished on 114000/429601 queries. users per second: 1.59483e+06"
      ]
     },
     "metadata": {},
     "output_type": "display_data"
    },
    {
     "data": {
      "text/html": [
       "<pre>recommendations finished on 115000/429601 queries. users per second: 1.59951e+06</pre>"
      ],
      "text/plain": [
       "recommendations finished on 115000/429601 queries. users per second: 1.59951e+06"
      ]
     },
     "metadata": {},
     "output_type": "display_data"
    },
    {
     "data": {
      "text/html": [
       "<pre>recommendations finished on 116000/429601 queries. users per second: 1.60361e+06</pre>"
      ],
      "text/plain": [
       "recommendations finished on 116000/429601 queries. users per second: 1.60361e+06"
      ]
     },
     "metadata": {},
     "output_type": "display_data"
    },
    {
     "data": {
      "text/html": [
       "<pre>recommendations finished on 117000/429601 queries. users per second: 1.57644e+06</pre>"
      ],
      "text/plain": [
       "recommendations finished on 117000/429601 queries. users per second: 1.57644e+06"
      ]
     },
     "metadata": {},
     "output_type": "display_data"
    },
    {
     "data": {
      "text/html": [
       "<pre>recommendations finished on 118000/429601 queries. users per second: 1.57887e+06</pre>"
      ],
      "text/plain": [
       "recommendations finished on 118000/429601 queries. users per second: 1.57887e+06"
      ]
     },
     "metadata": {},
     "output_type": "display_data"
    },
    {
     "data": {
      "text/html": [
       "<pre>recommendations finished on 119000/429601 queries. users per second: 1.57827e+06</pre>"
      ],
      "text/plain": [
       "recommendations finished on 119000/429601 queries. users per second: 1.57827e+06"
      ]
     },
     "metadata": {},
     "output_type": "display_data"
    },
    {
     "data": {
      "text/html": [
       "<pre>recommendations finished on 120000/429601 queries. users per second: 1.54821e+06</pre>"
      ],
      "text/plain": [
       "recommendations finished on 120000/429601 queries. users per second: 1.54821e+06"
      ]
     },
     "metadata": {},
     "output_type": "display_data"
    },
    {
     "data": {
      "text/html": [
       "<pre>recommendations finished on 121000/429601 queries. users per second: 1.39868e+06</pre>"
      ],
      "text/plain": [
       "recommendations finished on 121000/429601 queries. users per second: 1.39868e+06"
      ]
     },
     "metadata": {},
     "output_type": "display_data"
    },
    {
     "data": {
      "text/html": [
       "<pre>recommendations finished on 122000/429601 queries. users per second: 1.40156e+06</pre>"
      ],
      "text/plain": [
       "recommendations finished on 122000/429601 queries. users per second: 1.40156e+06"
      ]
     },
     "metadata": {},
     "output_type": "display_data"
    },
    {
     "data": {
      "text/html": [
       "<pre>recommendations finished on 123000/429601 queries. users per second: 1.40575e+06</pre>"
      ],
      "text/plain": [
       "recommendations finished on 123000/429601 queries. users per second: 1.40575e+06"
      ]
     },
     "metadata": {},
     "output_type": "display_data"
    },
    {
     "data": {
      "text/html": [
       "<pre>recommendations finished on 124000/429601 queries. users per second: 1.40986e+06</pre>"
      ],
      "text/plain": [
       "recommendations finished on 124000/429601 queries. users per second: 1.40986e+06"
      ]
     },
     "metadata": {},
     "output_type": "display_data"
    },
    {
     "data": {
      "text/html": [
       "<pre>recommendations finished on 125000/429601 queries. users per second: 1.41387e+06</pre>"
      ],
      "text/plain": [
       "recommendations finished on 125000/429601 queries. users per second: 1.41387e+06"
      ]
     },
     "metadata": {},
     "output_type": "display_data"
    },
    {
     "data": {
      "text/html": [
       "<pre>recommendations finished on 126000/429601 queries. users per second: 1.41395e+06</pre>"
      ],
      "text/plain": [
       "recommendations finished on 126000/429601 queries. users per second: 1.41395e+06"
      ]
     },
     "metadata": {},
     "output_type": "display_data"
    },
    {
     "data": {
      "text/html": [
       "<pre>recommendations finished on 127000/429601 queries. users per second: 1.41646e+06</pre>"
      ],
      "text/plain": [
       "recommendations finished on 127000/429601 queries. users per second: 1.41646e+06"
      ]
     },
     "metadata": {},
     "output_type": "display_data"
    },
    {
     "data": {
      "text/html": [
       "<pre>recommendations finished on 128000/429601 queries. users per second: 1.41907e+06</pre>"
      ],
      "text/plain": [
       "recommendations finished on 128000/429601 queries. users per second: 1.41907e+06"
      ]
     },
     "metadata": {},
     "output_type": "display_data"
    },
    {
     "data": {
      "text/html": [
       "<pre>recommendations finished on 129000/429601 queries. users per second: 1.42268e+06</pre>"
      ],
      "text/plain": [
       "recommendations finished on 129000/429601 queries. users per second: 1.42268e+06"
      ]
     },
     "metadata": {},
     "output_type": "display_data"
    },
    {
     "data": {
      "text/html": [
       "<pre>recommendations finished on 130000/429601 queries. users per second: 1.42563e+06</pre>"
      ],
      "text/plain": [
       "recommendations finished on 130000/429601 queries. users per second: 1.42563e+06"
      ]
     },
     "metadata": {},
     "output_type": "display_data"
    },
    {
     "data": {
      "text/html": [
       "<pre>recommendations finished on 131000/429601 queries. users per second: 1.41856e+06</pre>"
      ],
      "text/plain": [
       "recommendations finished on 131000/429601 queries. users per second: 1.41856e+06"
      ]
     },
     "metadata": {},
     "output_type": "display_data"
    },
    {
     "data": {
      "text/html": [
       "<pre>recommendations finished on 132000/429601 queries. users per second: 1.42182e+06</pre>"
      ],
      "text/plain": [
       "recommendations finished on 132000/429601 queries. users per second: 1.42182e+06"
      ]
     },
     "metadata": {},
     "output_type": "display_data"
    },
    {
     "data": {
      "text/html": [
       "<pre>recommendations finished on 133000/429601 queries. users per second: 1.42537e+06</pre>"
      ],
      "text/plain": [
       "recommendations finished on 133000/429601 queries. users per second: 1.42537e+06"
      ]
     },
     "metadata": {},
     "output_type": "display_data"
    },
    {
     "data": {
      "text/html": [
       "<pre>recommendations finished on 134000/429601 queries. users per second: 1.42872e+06</pre>"
      ],
      "text/plain": [
       "recommendations finished on 134000/429601 queries. users per second: 1.42872e+06"
      ]
     },
     "metadata": {},
     "output_type": "display_data"
    },
    {
     "data": {
      "text/html": [
       "<pre>recommendations finished on 135000/429601 queries. users per second: 1.43227e+06</pre>"
      ],
      "text/plain": [
       "recommendations finished on 135000/429601 queries. users per second: 1.43227e+06"
      ]
     },
     "metadata": {},
     "output_type": "display_data"
    },
    {
     "data": {
      "text/html": [
       "<pre>recommendations finished on 136000/429601 queries. users per second: 1.43631e+06</pre>"
      ],
      "text/plain": [
       "recommendations finished on 136000/429601 queries. users per second: 1.43631e+06"
      ]
     },
     "metadata": {},
     "output_type": "display_data"
    },
    {
     "data": {
      "text/html": [
       "<pre>recommendations finished on 137000/429601 queries. users per second: 1.43705e+06</pre>"
      ],
      "text/plain": [
       "recommendations finished on 137000/429601 queries. users per second: 1.43705e+06"
      ]
     },
     "metadata": {},
     "output_type": "display_data"
    },
    {
     "data": {
      "text/html": [
       "<pre>recommendations finished on 138000/429601 queries. users per second: 1.44056e+06</pre>"
      ],
      "text/plain": [
       "recommendations finished on 138000/429601 queries. users per second: 1.44056e+06"
      ]
     },
     "metadata": {},
     "output_type": "display_data"
    },
    {
     "data": {
      "text/html": [
       "<pre>recommendations finished on 139000/429601 queries. users per second: 1.44222e+06</pre>"
      ],
      "text/plain": [
       "recommendations finished on 139000/429601 queries. users per second: 1.44222e+06"
      ]
     },
     "metadata": {},
     "output_type": "display_data"
    },
    {
     "data": {
      "text/html": [
       "<pre>recommendations finished on 140000/429601 queries. users per second: 1.43018e+06</pre>"
      ],
      "text/plain": [
       "recommendations finished on 140000/429601 queries. users per second: 1.43018e+06"
      ]
     },
     "metadata": {},
     "output_type": "display_data"
    },
    {
     "data": {
      "text/html": [
       "<pre>recommendations finished on 141000/429601 queries. users per second: 1.43357e+06</pre>"
      ],
      "text/plain": [
       "recommendations finished on 141000/429601 queries. users per second: 1.43357e+06"
      ]
     },
     "metadata": {},
     "output_type": "display_data"
    },
    {
     "data": {
      "text/html": [
       "<pre>recommendations finished on 142000/429601 queries. users per second: 1.43476e+06</pre>"
      ],
      "text/plain": [
       "recommendations finished on 142000/429601 queries. users per second: 1.43476e+06"
      ]
     },
     "metadata": {},
     "output_type": "display_data"
    },
    {
     "data": {
      "text/html": [
       "<pre>recommendations finished on 143000/429601 queries. users per second: 1.4359e+06</pre>"
      ],
      "text/plain": [
       "recommendations finished on 143000/429601 queries. users per second: 1.4359e+06"
      ]
     },
     "metadata": {},
     "output_type": "display_data"
    },
    {
     "data": {
      "text/html": [
       "<pre>recommendations finished on 144000/429601 queries. users per second: 1.43757e+06</pre>"
      ],
      "text/plain": [
       "recommendations finished on 144000/429601 queries. users per second: 1.43757e+06"
      ]
     },
     "metadata": {},
     "output_type": "display_data"
    },
    {
     "data": {
      "text/html": [
       "<pre>recommendations finished on 145000/429601 queries. users per second: 1.43886e+06</pre>"
      ],
      "text/plain": [
       "recommendations finished on 145000/429601 queries. users per second: 1.43886e+06"
      ]
     },
     "metadata": {},
     "output_type": "display_data"
    },
    {
     "data": {
      "text/html": [
       "<pre>recommendations finished on 146000/429601 queries. users per second: 1.44161e+06</pre>"
      ],
      "text/plain": [
       "recommendations finished on 146000/429601 queries. users per second: 1.44161e+06"
      ]
     },
     "metadata": {},
     "output_type": "display_data"
    },
    {
     "data": {
      "text/html": [
       "<pre>recommendations finished on 147000/429601 queries. users per second: 1.44377e+06</pre>"
      ],
      "text/plain": [
       "recommendations finished on 147000/429601 queries. users per second: 1.44377e+06"
      ]
     },
     "metadata": {},
     "output_type": "display_data"
    },
    {
     "data": {
      "text/html": [
       "<pre>recommendations finished on 148000/429601 queries. users per second: 1.4462e+06</pre>"
      ],
      "text/plain": [
       "recommendations finished on 148000/429601 queries. users per second: 1.4462e+06"
      ]
     },
     "metadata": {},
     "output_type": "display_data"
    },
    {
     "data": {
      "text/html": [
       "<pre>recommendations finished on 149000/429601 queries. users per second: 1.44875e+06</pre>"
      ],
      "text/plain": [
       "recommendations finished on 149000/429601 queries. users per second: 1.44875e+06"
      ]
     },
     "metadata": {},
     "output_type": "display_data"
    },
    {
     "data": {
      "text/html": [
       "<pre>recommendations finished on 150000/429601 queries. users per second: 1.45086e+06</pre>"
      ],
      "text/plain": [
       "recommendations finished on 150000/429601 queries. users per second: 1.45086e+06"
      ]
     },
     "metadata": {},
     "output_type": "display_data"
    },
    {
     "data": {
      "text/html": [
       "<pre>recommendations finished on 151000/429601 queries. users per second: 1.45368e+06</pre>"
      ],
      "text/plain": [
       "recommendations finished on 151000/429601 queries. users per second: 1.45368e+06"
      ]
     },
     "metadata": {},
     "output_type": "display_data"
    },
    {
     "data": {
      "text/html": [
       "<pre>recommendations finished on 152000/429601 queries. users per second: 1.45636e+06</pre>"
      ],
      "text/plain": [
       "recommendations finished on 152000/429601 queries. users per second: 1.45636e+06"
      ]
     },
     "metadata": {},
     "output_type": "display_data"
    },
    {
     "data": {
      "text/html": [
       "<pre>recommendations finished on 153000/429601 queries. users per second: 1.45845e+06</pre>"
      ],
      "text/plain": [
       "recommendations finished on 153000/429601 queries. users per second: 1.45845e+06"
      ]
     },
     "metadata": {},
     "output_type": "display_data"
    },
    {
     "data": {
      "text/html": [
       "<pre>recommendations finished on 154000/429601 queries. users per second: 1.45691e+06</pre>"
      ],
      "text/plain": [
       "recommendations finished on 154000/429601 queries. users per second: 1.45691e+06"
      ]
     },
     "metadata": {},
     "output_type": "display_data"
    },
    {
     "data": {
      "text/html": [
       "<pre>recommendations finished on 155000/429601 queries. users per second: 1.45192e+06</pre>"
      ],
      "text/plain": [
       "recommendations finished on 155000/429601 queries. users per second: 1.45192e+06"
      ]
     },
     "metadata": {},
     "output_type": "display_data"
    },
    {
     "data": {
      "text/html": [
       "<pre>recommendations finished on 156000/429601 queries. users per second: 1.45503e+06</pre>"
      ],
      "text/plain": [
       "recommendations finished on 156000/429601 queries. users per second: 1.45503e+06"
      ]
     },
     "metadata": {},
     "output_type": "display_data"
    },
    {
     "data": {
      "text/html": [
       "<pre>recommendations finished on 157000/429601 queries. users per second: 1.45798e+06</pre>"
      ],
      "text/plain": [
       "recommendations finished on 157000/429601 queries. users per second: 1.45798e+06"
      ]
     },
     "metadata": {},
     "output_type": "display_data"
    },
    {
     "data": {
      "text/html": [
       "<pre>recommendations finished on 158000/429601 queries. users per second: 1.46108e+06</pre>"
      ],
      "text/plain": [
       "recommendations finished on 158000/429601 queries. users per second: 1.46108e+06"
      ]
     },
     "metadata": {},
     "output_type": "display_data"
    },
    {
     "data": {
      "text/html": [
       "<pre>recommendations finished on 159000/429601 queries. users per second: 1.46465e+06</pre>"
      ],
      "text/plain": [
       "recommendations finished on 159000/429601 queries. users per second: 1.46465e+06"
      ]
     },
     "metadata": {},
     "output_type": "display_data"
    },
    {
     "data": {
      "text/html": [
       "<pre>recommendations finished on 160000/429601 queries. users per second: 1.46765e+06</pre>"
      ],
      "text/plain": [
       "recommendations finished on 160000/429601 queries. users per second: 1.46765e+06"
      ]
     },
     "metadata": {},
     "output_type": "display_data"
    },
    {
     "data": {
      "text/html": [
       "<pre>recommendations finished on 161000/429601 queries. users per second: 1.4707e+06</pre>"
      ],
      "text/plain": [
       "recommendations finished on 161000/429601 queries. users per second: 1.4707e+06"
      ]
     },
     "metadata": {},
     "output_type": "display_data"
    },
    {
     "data": {
      "text/html": [
       "<pre>recommendations finished on 162000/429601 queries. users per second: 1.47376e+06</pre>"
      ],
      "text/plain": [
       "recommendations finished on 162000/429601 queries. users per second: 1.47376e+06"
      ]
     },
     "metadata": {},
     "output_type": "display_data"
    },
    {
     "data": {
      "text/html": [
       "<pre>recommendations finished on 163000/429601 queries. users per second: 1.47712e+06</pre>"
      ],
      "text/plain": [
       "recommendations finished on 163000/429601 queries. users per second: 1.47712e+06"
      ]
     },
     "metadata": {},
     "output_type": "display_data"
    },
    {
     "data": {
      "text/html": [
       "<pre>recommendations finished on 164000/429601 queries. users per second: 1.48006e+06</pre>"
      ],
      "text/plain": [
       "recommendations finished on 164000/429601 queries. users per second: 1.48006e+06"
      ]
     },
     "metadata": {},
     "output_type": "display_data"
    },
    {
     "data": {
      "text/html": [
       "<pre>recommendations finished on 165000/429601 queries. users per second: 1.48307e+06</pre>"
      ],
      "text/plain": [
       "recommendations finished on 165000/429601 queries. users per second: 1.48307e+06"
      ]
     },
     "metadata": {},
     "output_type": "display_data"
    },
    {
     "data": {
      "text/html": [
       "<pre>recommendations finished on 166000/429601 queries. users per second: 1.4748e+06</pre>"
      ],
      "text/plain": [
       "recommendations finished on 166000/429601 queries. users per second: 1.4748e+06"
      ]
     },
     "metadata": {},
     "output_type": "display_data"
    },
    {
     "data": {
      "text/html": [
       "<pre>recommendations finished on 167000/429601 queries. users per second: 1.4692e+06</pre>"
      ],
      "text/plain": [
       "recommendations finished on 167000/429601 queries. users per second: 1.4692e+06"
      ]
     },
     "metadata": {},
     "output_type": "display_data"
    },
    {
     "data": {
      "text/html": [
       "<pre>recommendations finished on 168000/429601 queries. users per second: 1.46317e+06</pre>"
      ],
      "text/plain": [
       "recommendations finished on 168000/429601 queries. users per second: 1.46317e+06"
      ]
     },
     "metadata": {},
     "output_type": "display_data"
    },
    {
     "data": {
      "text/html": [
       "<pre>recommendations finished on 169000/429601 queries. users per second: 1.4652e+06</pre>"
      ],
      "text/plain": [
       "recommendations finished on 169000/429601 queries. users per second: 1.4652e+06"
      ]
     },
     "metadata": {},
     "output_type": "display_data"
    },
    {
     "data": {
      "text/html": [
       "<pre>recommendations finished on 170000/429601 queries. users per second: 1.46462e+06</pre>"
      ],
      "text/plain": [
       "recommendations finished on 170000/429601 queries. users per second: 1.46462e+06"
      ]
     },
     "metadata": {},
     "output_type": "display_data"
    },
    {
     "data": {
      "text/html": [
       "<pre>recommendations finished on 171000/429601 queries. users per second: 1.46516e+06</pre>"
      ],
      "text/plain": [
       "recommendations finished on 171000/429601 queries. users per second: 1.46516e+06"
      ]
     },
     "metadata": {},
     "output_type": "display_data"
    },
    {
     "data": {
      "text/html": [
       "<pre>recommendations finished on 172000/429601 queries. users per second: 1.46696e+06</pre>"
      ],
      "text/plain": [
       "recommendations finished on 172000/429601 queries. users per second: 1.46696e+06"
      ]
     },
     "metadata": {},
     "output_type": "display_data"
    },
    {
     "data": {
      "text/html": [
       "<pre>recommendations finished on 173000/429601 queries. users per second: 1.46453e+06</pre>"
      ],
      "text/plain": [
       "recommendations finished on 173000/429601 queries. users per second: 1.46453e+06"
      ]
     },
     "metadata": {},
     "output_type": "display_data"
    },
    {
     "data": {
      "text/html": [
       "<pre>recommendations finished on 174000/429601 queries. users per second: 1.46652e+06</pre>"
      ],
      "text/plain": [
       "recommendations finished on 174000/429601 queries. users per second: 1.46652e+06"
      ]
     },
     "metadata": {},
     "output_type": "display_data"
    },
    {
     "data": {
      "text/html": [
       "<pre>recommendations finished on 175000/429601 queries. users per second: 1.4684e+06</pre>"
      ],
      "text/plain": [
       "recommendations finished on 175000/429601 queries. users per second: 1.4684e+06"
      ]
     },
     "metadata": {},
     "output_type": "display_data"
    },
    {
     "data": {
      "text/html": [
       "<pre>recommendations finished on 176000/429601 queries. users per second: 1.46994e+06</pre>"
      ],
      "text/plain": [
       "recommendations finished on 176000/429601 queries. users per second: 1.46994e+06"
      ]
     },
     "metadata": {},
     "output_type": "display_data"
    },
    {
     "data": {
      "text/html": [
       "<pre>recommendations finished on 177000/429601 queries. users per second: 1.41795e+06</pre>"
      ],
      "text/plain": [
       "recommendations finished on 177000/429601 queries. users per second: 1.41795e+06"
      ]
     },
     "metadata": {},
     "output_type": "display_data"
    },
    {
     "data": {
      "text/html": [
       "<pre>recommendations finished on 178000/429601 queries. users per second: 1.36564e+06</pre>"
      ],
      "text/plain": [
       "recommendations finished on 178000/429601 queries. users per second: 1.36564e+06"
      ]
     },
     "metadata": {},
     "output_type": "display_data"
    },
    {
     "data": {
      "text/html": [
       "<pre>recommendations finished on 179000/429601 queries. users per second: 1.35763e+06</pre>"
      ],
      "text/plain": [
       "recommendations finished on 179000/429601 queries. users per second: 1.35763e+06"
      ]
     },
     "metadata": {},
     "output_type": "display_data"
    },
    {
     "data": {
      "text/html": [
       "<pre>recommendations finished on 180000/429601 queries. users per second: 1.3486e+06</pre>"
      ],
      "text/plain": [
       "recommendations finished on 180000/429601 queries. users per second: 1.3486e+06"
      ]
     },
     "metadata": {},
     "output_type": "display_data"
    },
    {
     "data": {
      "text/html": [
       "<pre>recommendations finished on 181000/429601 queries. users per second: 1.34657e+06</pre>"
      ],
      "text/plain": [
       "recommendations finished on 181000/429601 queries. users per second: 1.34657e+06"
      ]
     },
     "metadata": {},
     "output_type": "display_data"
    },
    {
     "data": {
      "text/html": [
       "<pre>recommendations finished on 182000/429601 queries. users per second: 1.34621e+06</pre>"
      ],
      "text/plain": [
       "recommendations finished on 182000/429601 queries. users per second: 1.34621e+06"
      ]
     },
     "metadata": {},
     "output_type": "display_data"
    },
    {
     "data": {
      "text/html": [
       "<pre>recommendations finished on 183000/429601 queries. users per second: 1.34533e+06</pre>"
      ],
      "text/plain": [
       "recommendations finished on 183000/429601 queries. users per second: 1.34533e+06"
      ]
     },
     "metadata": {},
     "output_type": "display_data"
    },
    {
     "data": {
      "text/html": [
       "<pre>recommendations finished on 184000/429601 queries. users per second: 1.3451e+06</pre>"
      ],
      "text/plain": [
       "recommendations finished on 184000/429601 queries. users per second: 1.3451e+06"
      ]
     },
     "metadata": {},
     "output_type": "display_data"
    },
    {
     "data": {
      "text/html": [
       "<pre>recommendations finished on 185000/429601 queries. users per second: 1.34512e+06</pre>"
      ],
      "text/plain": [
       "recommendations finished on 185000/429601 queries. users per second: 1.34512e+06"
      ]
     },
     "metadata": {},
     "output_type": "display_data"
    },
    {
     "data": {
      "text/html": [
       "<pre>recommendations finished on 186000/429601 queries. users per second: 1.34573e+06</pre>"
      ],
      "text/plain": [
       "recommendations finished on 186000/429601 queries. users per second: 1.34573e+06"
      ]
     },
     "metadata": {},
     "output_type": "display_data"
    },
    {
     "data": {
      "text/html": [
       "<pre>recommendations finished on 187000/429601 queries. users per second: 1.34738e+06</pre>"
      ],
      "text/plain": [
       "recommendations finished on 187000/429601 queries. users per second: 1.34738e+06"
      ]
     },
     "metadata": {},
     "output_type": "display_data"
    },
    {
     "data": {
      "text/html": [
       "<pre>recommendations finished on 188000/429601 queries. users per second: 1.34864e+06</pre>"
      ],
      "text/plain": [
       "recommendations finished on 188000/429601 queries. users per second: 1.34864e+06"
      ]
     },
     "metadata": {},
     "output_type": "display_data"
    },
    {
     "data": {
      "text/html": [
       "<pre>recommendations finished on 189000/429601 queries. users per second: 1.35054e+06</pre>"
      ],
      "text/plain": [
       "recommendations finished on 189000/429601 queries. users per second: 1.35054e+06"
      ]
     },
     "metadata": {},
     "output_type": "display_data"
    },
    {
     "data": {
      "text/html": [
       "<pre>recommendations finished on 190000/429601 queries. users per second: 1.35299e+06</pre>"
      ],
      "text/plain": [
       "recommendations finished on 190000/429601 queries. users per second: 1.35299e+06"
      ]
     },
     "metadata": {},
     "output_type": "display_data"
    },
    {
     "data": {
      "text/html": [
       "<pre>recommendations finished on 191000/429601 queries. users per second: 1.35561e+06</pre>"
      ],
      "text/plain": [
       "recommendations finished on 191000/429601 queries. users per second: 1.35561e+06"
      ]
     },
     "metadata": {},
     "output_type": "display_data"
    },
    {
     "data": {
      "text/html": [
       "<pre>recommendations finished on 192000/429601 queries. users per second: 1.3575e+06</pre>"
      ],
      "text/plain": [
       "recommendations finished on 192000/429601 queries. users per second: 1.3575e+06"
      ]
     },
     "metadata": {},
     "output_type": "display_data"
    },
    {
     "data": {
      "text/html": [
       "<pre>recommendations finished on 193000/429601 queries. users per second: 1.353e+06</pre>"
      ],
      "text/plain": [
       "recommendations finished on 193000/429601 queries. users per second: 1.353e+06"
      ]
     },
     "metadata": {},
     "output_type": "display_data"
    },
    {
     "data": {
      "text/html": [
       "<pre>recommendations finished on 194000/429601 queries. users per second: 1.35526e+06</pre>"
      ],
      "text/plain": [
       "recommendations finished on 194000/429601 queries. users per second: 1.35526e+06"
      ]
     },
     "metadata": {},
     "output_type": "display_data"
    },
    {
     "data": {
      "text/html": [
       "<pre>recommendations finished on 195000/429601 queries. users per second: 1.35729e+06</pre>"
      ],
      "text/plain": [
       "recommendations finished on 195000/429601 queries. users per second: 1.35729e+06"
      ]
     },
     "metadata": {},
     "output_type": "display_data"
    },
    {
     "data": {
      "text/html": [
       "<pre>recommendations finished on 196000/429601 queries. users per second: 1.35937e+06</pre>"
      ],
      "text/plain": [
       "recommendations finished on 196000/429601 queries. users per second: 1.35937e+06"
      ]
     },
     "metadata": {},
     "output_type": "display_data"
    },
    {
     "data": {
      "text/html": [
       "<pre>recommendations finished on 197000/429601 queries. users per second: 1.36154e+06</pre>"
      ],
      "text/plain": [
       "recommendations finished on 197000/429601 queries. users per second: 1.36154e+06"
      ]
     },
     "metadata": {},
     "output_type": "display_data"
    },
    {
     "data": {
      "text/html": [
       "<pre>recommendations finished on 198000/429601 queries. users per second: 1.36382e+06</pre>"
      ],
      "text/plain": [
       "recommendations finished on 198000/429601 queries. users per second: 1.36382e+06"
      ]
     },
     "metadata": {},
     "output_type": "display_data"
    },
    {
     "data": {
      "text/html": [
       "<pre>recommendations finished on 199000/429601 queries. users per second: 1.36587e+06</pre>"
      ],
      "text/plain": [
       "recommendations finished on 199000/429601 queries. users per second: 1.36587e+06"
      ]
     },
     "metadata": {},
     "output_type": "display_data"
    },
    {
     "data": {
      "text/html": [
       "<pre>recommendations finished on 200000/429601 queries. users per second: 1.36798e+06</pre>"
      ],
      "text/plain": [
       "recommendations finished on 200000/429601 queries. users per second: 1.36798e+06"
      ]
     },
     "metadata": {},
     "output_type": "display_data"
    },
    {
     "data": {
      "text/html": [
       "<pre>recommendations finished on 201000/429601 queries. users per second: 1.36205e+06</pre>"
      ],
      "text/plain": [
       "recommendations finished on 201000/429601 queries. users per second: 1.36205e+06"
      ]
     },
     "metadata": {},
     "output_type": "display_data"
    },
    {
     "data": {
      "text/html": [
       "<pre>recommendations finished on 202000/429601 queries. users per second: 1.36276e+06</pre>"
      ],
      "text/plain": [
       "recommendations finished on 202000/429601 queries. users per second: 1.36276e+06"
      ]
     },
     "metadata": {},
     "output_type": "display_data"
    },
    {
     "data": {
      "text/html": [
       "<pre>recommendations finished on 203000/429601 queries. users per second: 1.36384e+06</pre>"
      ],
      "text/plain": [
       "recommendations finished on 203000/429601 queries. users per second: 1.36384e+06"
      ]
     },
     "metadata": {},
     "output_type": "display_data"
    },
    {
     "data": {
      "text/html": [
       "<pre>recommendations finished on 204000/429601 queries. users per second: 1.36542e+06</pre>"
      ],
      "text/plain": [
       "recommendations finished on 204000/429601 queries. users per second: 1.36542e+06"
      ]
     },
     "metadata": {},
     "output_type": "display_data"
    },
    {
     "data": {
      "text/html": [
       "<pre>recommendations finished on 205000/429601 queries. users per second: 1.36734e+06</pre>"
      ],
      "text/plain": [
       "recommendations finished on 205000/429601 queries. users per second: 1.36734e+06"
      ]
     },
     "metadata": {},
     "output_type": "display_data"
    },
    {
     "data": {
      "text/html": [
       "<pre>recommendations finished on 206000/429601 queries. users per second: 1.36964e+06</pre>"
      ],
      "text/plain": [
       "recommendations finished on 206000/429601 queries. users per second: 1.36964e+06"
      ]
     },
     "metadata": {},
     "output_type": "display_data"
    },
    {
     "data": {
      "text/html": [
       "<pre>recommendations finished on 207000/429601 queries. users per second: 1.37195e+06</pre>"
      ],
      "text/plain": [
       "recommendations finished on 207000/429601 queries. users per second: 1.37195e+06"
      ]
     },
     "metadata": {},
     "output_type": "display_data"
    },
    {
     "data": {
      "text/html": [
       "<pre>recommendations finished on 208000/429601 queries. users per second: 1.37448e+06</pre>"
      ],
      "text/plain": [
       "recommendations finished on 208000/429601 queries. users per second: 1.37448e+06"
      ]
     },
     "metadata": {},
     "output_type": "display_data"
    },
    {
     "data": {
      "text/html": [
       "<pre>recommendations finished on 209000/429601 queries. users per second: 1.3771e+06</pre>"
      ],
      "text/plain": [
       "recommendations finished on 209000/429601 queries. users per second: 1.3771e+06"
      ]
     },
     "metadata": {},
     "output_type": "display_data"
    },
    {
     "data": {
      "text/html": [
       "<pre>recommendations finished on 210000/429601 queries. users per second: 1.37946e+06</pre>"
      ],
      "text/plain": [
       "recommendations finished on 210000/429601 queries. users per second: 1.37946e+06"
      ]
     },
     "metadata": {},
     "output_type": "display_data"
    },
    {
     "data": {
      "text/html": [
       "<pre>recommendations finished on 211000/429601 queries. users per second: 1.38176e+06</pre>"
      ],
      "text/plain": [
       "recommendations finished on 211000/429601 queries. users per second: 1.38176e+06"
      ]
     },
     "metadata": {},
     "output_type": "display_data"
    },
    {
     "data": {
      "text/html": [
       "<pre>recommendations finished on 212000/429601 queries. users per second: 1.38386e+06</pre>"
      ],
      "text/plain": [
       "recommendations finished on 212000/429601 queries. users per second: 1.38386e+06"
      ]
     },
     "metadata": {},
     "output_type": "display_data"
    },
    {
     "data": {
      "text/html": [
       "<pre>recommendations finished on 213000/429601 queries. users per second: 1.38497e+06</pre>"
      ],
      "text/plain": [
       "recommendations finished on 213000/429601 queries. users per second: 1.38497e+06"
      ]
     },
     "metadata": {},
     "output_type": "display_data"
    },
    {
     "data": {
      "text/html": [
       "<pre>recommendations finished on 214000/429601 queries. users per second: 1.38601e+06</pre>"
      ],
      "text/plain": [
       "recommendations finished on 214000/429601 queries. users per second: 1.38601e+06"
      ]
     },
     "metadata": {},
     "output_type": "display_data"
    },
    {
     "data": {
      "text/html": [
       "<pre>recommendations finished on 215000/429601 queries. users per second: 1.38787e+06</pre>"
      ],
      "text/plain": [
       "recommendations finished on 215000/429601 queries. users per second: 1.38787e+06"
      ]
     },
     "metadata": {},
     "output_type": "display_data"
    },
    {
     "data": {
      "text/html": [
       "<pre>recommendations finished on 216000/429601 queries. users per second: 1.38973e+06</pre>"
      ],
      "text/plain": [
       "recommendations finished on 216000/429601 queries. users per second: 1.38973e+06"
      ]
     },
     "metadata": {},
     "output_type": "display_data"
    },
    {
     "data": {
      "text/html": [
       "<pre>recommendations finished on 217000/429601 queries. users per second: 1.39121e+06</pre>"
      ],
      "text/plain": [
       "recommendations finished on 217000/429601 queries. users per second: 1.39121e+06"
      ]
     },
     "metadata": {},
     "output_type": "display_data"
    },
    {
     "data": {
      "text/html": [
       "<pre>recommendations finished on 218000/429601 queries. users per second: 1.38243e+06</pre>"
      ],
      "text/plain": [
       "recommendations finished on 218000/429601 queries. users per second: 1.38243e+06"
      ]
     },
     "metadata": {},
     "output_type": "display_data"
    },
    {
     "data": {
      "text/html": [
       "<pre>recommendations finished on 219000/429601 queries. users per second: 1.38476e+06</pre>"
      ],
      "text/plain": [
       "recommendations finished on 219000/429601 queries. users per second: 1.38476e+06"
      ]
     },
     "metadata": {},
     "output_type": "display_data"
    },
    {
     "data": {
      "text/html": [
       "<pre>recommendations finished on 220000/429601 queries. users per second: 1.38727e+06</pre>"
      ],
      "text/plain": [
       "recommendations finished on 220000/429601 queries. users per second: 1.38727e+06"
      ]
     },
     "metadata": {},
     "output_type": "display_data"
    },
    {
     "data": {
      "text/html": [
       "<pre>recommendations finished on 221000/429601 queries. users per second: 1.38981e+06</pre>"
      ],
      "text/plain": [
       "recommendations finished on 221000/429601 queries. users per second: 1.38981e+06"
      ]
     },
     "metadata": {},
     "output_type": "display_data"
    },
    {
     "data": {
      "text/html": [
       "<pre>recommendations finished on 222000/429601 queries. users per second: 1.39202e+06</pre>"
      ],
      "text/plain": [
       "recommendations finished on 222000/429601 queries. users per second: 1.39202e+06"
      ]
     },
     "metadata": {},
     "output_type": "display_data"
    },
    {
     "data": {
      "text/html": [
       "<pre>recommendations finished on 223000/429601 queries. users per second: 1.39378e+06</pre>"
      ],
      "text/plain": [
       "recommendations finished on 223000/429601 queries. users per second: 1.39378e+06"
      ]
     },
     "metadata": {},
     "output_type": "display_data"
    },
    {
     "data": {
      "text/html": [
       "<pre>recommendations finished on 224000/429601 queries. users per second: 1.39519e+06</pre>"
      ],
      "text/plain": [
       "recommendations finished on 224000/429601 queries. users per second: 1.39519e+06"
      ]
     },
     "metadata": {},
     "output_type": "display_data"
    },
    {
     "data": {
      "text/html": [
       "<pre>recommendations finished on 225000/429601 queries. users per second: 1.3924e+06</pre>"
      ],
      "text/plain": [
       "recommendations finished on 225000/429601 queries. users per second: 1.3924e+06"
      ]
     },
     "metadata": {},
     "output_type": "display_data"
    },
    {
     "data": {
      "text/html": [
       "<pre>recommendations finished on 226000/429601 queries. users per second: 1.39307e+06</pre>"
      ],
      "text/plain": [
       "recommendations finished on 226000/429601 queries. users per second: 1.39307e+06"
      ]
     },
     "metadata": {},
     "output_type": "display_data"
    },
    {
     "data": {
      "text/html": [
       "<pre>recommendations finished on 227000/429601 queries. users per second: 1.39396e+06</pre>"
      ],
      "text/plain": [
       "recommendations finished on 227000/429601 queries. users per second: 1.39396e+06"
      ]
     },
     "metadata": {},
     "output_type": "display_data"
    },
    {
     "data": {
      "text/html": [
       "<pre>recommendations finished on 228000/429601 queries. users per second: 1.39572e+06</pre>"
      ],
      "text/plain": [
       "recommendations finished on 228000/429601 queries. users per second: 1.39572e+06"
      ]
     },
     "metadata": {},
     "output_type": "display_data"
    },
    {
     "data": {
      "text/html": [
       "<pre>recommendations finished on 229000/429601 queries. users per second: 1.39783e+06</pre>"
      ],
      "text/plain": [
       "recommendations finished on 229000/429601 queries. users per second: 1.39783e+06"
      ]
     },
     "metadata": {},
     "output_type": "display_data"
    },
    {
     "data": {
      "text/html": [
       "<pre>recommendations finished on 230000/429601 queries. users per second: 1.40012e+06</pre>"
      ],
      "text/plain": [
       "recommendations finished on 230000/429601 queries. users per second: 1.40012e+06"
      ]
     },
     "metadata": {},
     "output_type": "display_data"
    },
    {
     "data": {
      "text/html": [
       "<pre>recommendations finished on 231000/429601 queries. users per second: 1.39975e+06</pre>"
      ],
      "text/plain": [
       "recommendations finished on 231000/429601 queries. users per second: 1.39975e+06"
      ]
     },
     "metadata": {},
     "output_type": "display_data"
    },
    {
     "data": {
      "text/html": [
       "<pre>recommendations finished on 232000/429601 queries. users per second: 1.40208e+06</pre>"
      ],
      "text/plain": [
       "recommendations finished on 232000/429601 queries. users per second: 1.40208e+06"
      ]
     },
     "metadata": {},
     "output_type": "display_data"
    },
    {
     "data": {
      "text/html": [
       "<pre>recommendations finished on 233000/429601 queries. users per second: 1.4038e+06</pre>"
      ],
      "text/plain": [
       "recommendations finished on 233000/429601 queries. users per second: 1.4038e+06"
      ]
     },
     "metadata": {},
     "output_type": "display_data"
    },
    {
     "data": {
      "text/html": [
       "<pre>recommendations finished on 234000/429601 queries. users per second: 1.40473e+06</pre>"
      ],
      "text/plain": [
       "recommendations finished on 234000/429601 queries. users per second: 1.40473e+06"
      ]
     },
     "metadata": {},
     "output_type": "display_data"
    },
    {
     "data": {
      "text/html": [
       "<pre>recommendations finished on 235000/429601 queries. users per second: 1.4066e+06</pre>"
      ],
      "text/plain": [
       "recommendations finished on 235000/429601 queries. users per second: 1.4066e+06"
      ]
     },
     "metadata": {},
     "output_type": "display_data"
    },
    {
     "data": {
      "text/html": [
       "<pre>recommendations finished on 236000/429601 queries. users per second: 1.40848e+06</pre>"
      ],
      "text/plain": [
       "recommendations finished on 236000/429601 queries. users per second: 1.40848e+06"
      ]
     },
     "metadata": {},
     "output_type": "display_data"
    },
    {
     "data": {
      "text/html": [
       "<pre>recommendations finished on 237000/429601 queries. users per second: 1.40987e+06</pre>"
      ],
      "text/plain": [
       "recommendations finished on 237000/429601 queries. users per second: 1.40987e+06"
      ]
     },
     "metadata": {},
     "output_type": "display_data"
    },
    {
     "data": {
      "text/html": [
       "<pre>recommendations finished on 238000/429601 queries. users per second: 1.41082e+06</pre>"
      ],
      "text/plain": [
       "recommendations finished on 238000/429601 queries. users per second: 1.41082e+06"
      ]
     },
     "metadata": {},
     "output_type": "display_data"
    },
    {
     "data": {
      "text/html": [
       "<pre>recommendations finished on 239000/429601 queries. users per second: 1.41216e+06</pre>"
      ],
      "text/plain": [
       "recommendations finished on 239000/429601 queries. users per second: 1.41216e+06"
      ]
     },
     "metadata": {},
     "output_type": "display_data"
    },
    {
     "data": {
      "text/html": [
       "<pre>recommendations finished on 240000/429601 queries. users per second: 1.41179e+06</pre>"
      ],
      "text/plain": [
       "recommendations finished on 240000/429601 queries. users per second: 1.41179e+06"
      ]
     },
     "metadata": {},
     "output_type": "display_data"
    },
    {
     "data": {
      "text/html": [
       "<pre>recommendations finished on 241000/429601 queries. users per second: 1.4012e+06</pre>"
      ],
      "text/plain": [
       "recommendations finished on 241000/429601 queries. users per second: 1.4012e+06"
      ]
     },
     "metadata": {},
     "output_type": "display_data"
    },
    {
     "data": {
      "text/html": [
       "<pre>recommendations finished on 242000/429601 queries. users per second: 1.40034e+06</pre>"
      ],
      "text/plain": [
       "recommendations finished on 242000/429601 queries. users per second: 1.40034e+06"
      ]
     },
     "metadata": {},
     "output_type": "display_data"
    },
    {
     "data": {
      "text/html": [
       "<pre>recommendations finished on 243000/429601 queries. users per second: 1.40242e+06</pre>"
      ],
      "text/plain": [
       "recommendations finished on 243000/429601 queries. users per second: 1.40242e+06"
      ]
     },
     "metadata": {},
     "output_type": "display_data"
    },
    {
     "data": {
      "text/html": [
       "<pre>recommendations finished on 244000/429601 queries. users per second: 1.40441e+06</pre>"
      ],
      "text/plain": [
       "recommendations finished on 244000/429601 queries. users per second: 1.40441e+06"
      ]
     },
     "metadata": {},
     "output_type": "display_data"
    },
    {
     "data": {
      "text/html": [
       "<pre>recommendations finished on 245000/429601 queries. users per second: 1.40533e+06</pre>"
      ],
      "text/plain": [
       "recommendations finished on 245000/429601 queries. users per second: 1.40533e+06"
      ]
     },
     "metadata": {},
     "output_type": "display_data"
    },
    {
     "data": {
      "text/html": [
       "<pre>recommendations finished on 246000/429601 queries. users per second: 1.4062e+06</pre>"
      ],
      "text/plain": [
       "recommendations finished on 246000/429601 queries. users per second: 1.4062e+06"
      ]
     },
     "metadata": {},
     "output_type": "display_data"
    },
    {
     "data": {
      "text/html": [
       "<pre>recommendations finished on 247000/429601 queries. users per second: 1.40744e+06</pre>"
      ],
      "text/plain": [
       "recommendations finished on 247000/429601 queries. users per second: 1.40744e+06"
      ]
     },
     "metadata": {},
     "output_type": "display_data"
    },
    {
     "data": {
      "text/html": [
       "<pre>recommendations finished on 248000/429601 queries. users per second: 1.40867e+06</pre>"
      ],
      "text/plain": [
       "recommendations finished on 248000/429601 queries. users per second: 1.40867e+06"
      ]
     },
     "metadata": {},
     "output_type": "display_data"
    },
    {
     "data": {
      "text/html": [
       "<pre>recommendations finished on 249000/429601 queries. users per second: 1.40961e+06</pre>"
      ],
      "text/plain": [
       "recommendations finished on 249000/429601 queries. users per second: 1.40961e+06"
      ]
     },
     "metadata": {},
     "output_type": "display_data"
    },
    {
     "data": {
      "text/html": [
       "<pre>recommendations finished on 250000/429601 queries. users per second: 1.41046e+06</pre>"
      ],
      "text/plain": [
       "recommendations finished on 250000/429601 queries. users per second: 1.41046e+06"
      ]
     },
     "metadata": {},
     "output_type": "display_data"
    },
    {
     "data": {
      "text/html": [
       "<pre>recommendations finished on 251000/429601 queries. users per second: 1.41152e+06</pre>"
      ],
      "text/plain": [
       "recommendations finished on 251000/429601 queries. users per second: 1.41152e+06"
      ]
     },
     "metadata": {},
     "output_type": "display_data"
    },
    {
     "data": {
      "text/html": [
       "<pre>recommendations finished on 252000/429601 queries. users per second: 1.41329e+06</pre>"
      ],
      "text/plain": [
       "recommendations finished on 252000/429601 queries. users per second: 1.41329e+06"
      ]
     },
     "metadata": {},
     "output_type": "display_data"
    },
    {
     "data": {
      "text/html": [
       "<pre>recommendations finished on 253000/429601 queries. users per second: 1.41504e+06</pre>"
      ],
      "text/plain": [
       "recommendations finished on 253000/429601 queries. users per second: 1.41504e+06"
      ]
     },
     "metadata": {},
     "output_type": "display_data"
    },
    {
     "data": {
      "text/html": [
       "<pre>recommendations finished on 254000/429601 queries. users per second: 1.4173e+06</pre>"
      ],
      "text/plain": [
       "recommendations finished on 254000/429601 queries. users per second: 1.4173e+06"
      ]
     },
     "metadata": {},
     "output_type": "display_data"
    },
    {
     "data": {
      "text/html": [
       "<pre>recommendations finished on 255000/429601 queries. users per second: 1.4194e+06</pre>"
      ],
      "text/plain": [
       "recommendations finished on 255000/429601 queries. users per second: 1.4194e+06"
      ]
     },
     "metadata": {},
     "output_type": "display_data"
    },
    {
     "data": {
      "text/html": [
       "<pre>recommendations finished on 256000/429601 queries. users per second: 1.42138e+06</pre>"
      ],
      "text/plain": [
       "recommendations finished on 256000/429601 queries. users per second: 1.42138e+06"
      ]
     },
     "metadata": {},
     "output_type": "display_data"
    },
    {
     "data": {
      "text/html": [
       "<pre>recommendations finished on 257000/429601 queries. users per second: 1.42323e+06</pre>"
      ],
      "text/plain": [
       "recommendations finished on 257000/429601 queries. users per second: 1.42323e+06"
      ]
     },
     "metadata": {},
     "output_type": "display_data"
    },
    {
     "data": {
      "text/html": [
       "<pre>recommendations finished on 258000/429601 queries. users per second: 1.42517e+06</pre>"
      ],
      "text/plain": [
       "recommendations finished on 258000/429601 queries. users per second: 1.42517e+06"
      ]
     },
     "metadata": {},
     "output_type": "display_data"
    },
    {
     "data": {
      "text/html": [
       "<pre>recommendations finished on 259000/429601 queries. users per second: 1.42719e+06</pre>"
      ],
      "text/plain": [
       "recommendations finished on 259000/429601 queries. users per second: 1.42719e+06"
      ]
     },
     "metadata": {},
     "output_type": "display_data"
    },
    {
     "data": {
      "text/html": [
       "<pre>recommendations finished on 260000/429601 queries. users per second: 1.42902e+06</pre>"
      ],
      "text/plain": [
       "recommendations finished on 260000/429601 queries. users per second: 1.42902e+06"
      ]
     },
     "metadata": {},
     "output_type": "display_data"
    },
    {
     "data": {
      "text/html": [
       "<pre>recommendations finished on 261000/429601 queries. users per second: 1.43079e+06</pre>"
      ],
      "text/plain": [
       "recommendations finished on 261000/429601 queries. users per second: 1.43079e+06"
      ]
     },
     "metadata": {},
     "output_type": "display_data"
    },
    {
     "data": {
      "text/html": [
       "<pre>recommendations finished on 262000/429601 queries. users per second: 1.43266e+06</pre>"
      ],
      "text/plain": [
       "recommendations finished on 262000/429601 queries. users per second: 1.43266e+06"
      ]
     },
     "metadata": {},
     "output_type": "display_data"
    },
    {
     "data": {
      "text/html": [
       "<pre>recommendations finished on 263000/429601 queries. users per second: 1.43456e+06</pre>"
      ],
      "text/plain": [
       "recommendations finished on 263000/429601 queries. users per second: 1.43456e+06"
      ]
     },
     "metadata": {},
     "output_type": "display_data"
    },
    {
     "data": {
      "text/html": [
       "<pre>recommendations finished on 264000/429601 queries. users per second: 1.43627e+06</pre>"
      ],
      "text/plain": [
       "recommendations finished on 264000/429601 queries. users per second: 1.43627e+06"
      ]
     },
     "metadata": {},
     "output_type": "display_data"
    },
    {
     "data": {
      "text/html": [
       "<pre>recommendations finished on 265000/429601 queries. users per second: 1.43795e+06</pre>"
      ],
      "text/plain": [
       "recommendations finished on 265000/429601 queries. users per second: 1.43795e+06"
      ]
     },
     "metadata": {},
     "output_type": "display_data"
    },
    {
     "data": {
      "text/html": [
       "<pre>recommendations finished on 266000/429601 queries. users per second: 1.43977e+06</pre>"
      ],
      "text/plain": [
       "recommendations finished on 266000/429601 queries. users per second: 1.43977e+06"
      ]
     },
     "metadata": {},
     "output_type": "display_data"
    },
    {
     "data": {
      "text/html": [
       "<pre>recommendations finished on 267000/429601 queries. users per second: 1.44158e+06</pre>"
      ],
      "text/plain": [
       "recommendations finished on 267000/429601 queries. users per second: 1.44158e+06"
      ]
     },
     "metadata": {},
     "output_type": "display_data"
    },
    {
     "data": {
      "text/html": [
       "<pre>recommendations finished on 268000/429601 queries. users per second: 1.44336e+06</pre>"
      ],
      "text/plain": [
       "recommendations finished on 268000/429601 queries. users per second: 1.44336e+06"
      ]
     },
     "metadata": {},
     "output_type": "display_data"
    },
    {
     "data": {
      "text/html": [
       "<pre>recommendations finished on 269000/429601 queries. users per second: 1.44506e+06</pre>"
      ],
      "text/plain": [
       "recommendations finished on 269000/429601 queries. users per second: 1.44506e+06"
      ]
     },
     "metadata": {},
     "output_type": "display_data"
    },
    {
     "data": {
      "text/html": [
       "<pre>recommendations finished on 270000/429601 queries. users per second: 1.44658e+06</pre>"
      ],
      "text/plain": [
       "recommendations finished on 270000/429601 queries. users per second: 1.44658e+06"
      ]
     },
     "metadata": {},
     "output_type": "display_data"
    },
    {
     "data": {
      "text/html": [
       "<pre>recommendations finished on 271000/429601 queries. users per second: 1.44298e+06</pre>"
      ],
      "text/plain": [
       "recommendations finished on 271000/429601 queries. users per second: 1.44298e+06"
      ]
     },
     "metadata": {},
     "output_type": "display_data"
    },
    {
     "data": {
      "text/html": [
       "<pre>recommendations finished on 272000/429601 queries. users per second: 1.44481e+06</pre>"
      ],
      "text/plain": [
       "recommendations finished on 272000/429601 queries. users per second: 1.44481e+06"
      ]
     },
     "metadata": {},
     "output_type": "display_data"
    },
    {
     "data": {
      "text/html": [
       "<pre>recommendations finished on 273000/429601 queries. users per second: 1.4463e+06</pre>"
      ],
      "text/plain": [
       "recommendations finished on 273000/429601 queries. users per second: 1.4463e+06"
      ]
     },
     "metadata": {},
     "output_type": "display_data"
    },
    {
     "data": {
      "text/html": [
       "<pre>recommendations finished on 274000/429601 queries. users per second: 1.44792e+06</pre>"
      ],
      "text/plain": [
       "recommendations finished on 274000/429601 queries. users per second: 1.44792e+06"
      ]
     },
     "metadata": {},
     "output_type": "display_data"
    },
    {
     "data": {
      "text/html": [
       "<pre>recommendations finished on 275000/429601 queries. users per second: 1.44941e+06</pre>"
      ],
      "text/plain": [
       "recommendations finished on 275000/429601 queries. users per second: 1.44941e+06"
      ]
     },
     "metadata": {},
     "output_type": "display_data"
    },
    {
     "data": {
      "text/html": [
       "<pre>recommendations finished on 276000/429601 queries. users per second: 1.45089e+06</pre>"
      ],
      "text/plain": [
       "recommendations finished on 276000/429601 queries. users per second: 1.45089e+06"
      ]
     },
     "metadata": {},
     "output_type": "display_data"
    },
    {
     "data": {
      "text/html": [
       "<pre>recommendations finished on 277000/429601 queries. users per second: 1.45227e+06</pre>"
      ],
      "text/plain": [
       "recommendations finished on 277000/429601 queries. users per second: 1.45227e+06"
      ]
     },
     "metadata": {},
     "output_type": "display_data"
    },
    {
     "data": {
      "text/html": [
       "<pre>recommendations finished on 278000/429601 queries. users per second: 1.45333e+06</pre>"
      ],
      "text/plain": [
       "recommendations finished on 278000/429601 queries. users per second: 1.45333e+06"
      ]
     },
     "metadata": {},
     "output_type": "display_data"
    },
    {
     "data": {
      "text/html": [
       "<pre>recommendations finished on 279000/429601 queries. users per second: 1.45433e+06</pre>"
      ],
      "text/plain": [
       "recommendations finished on 279000/429601 queries. users per second: 1.45433e+06"
      ]
     },
     "metadata": {},
     "output_type": "display_data"
    },
    {
     "data": {
      "text/html": [
       "<pre>recommendations finished on 280000/429601 queries. users per second: 1.4561e+06</pre>"
      ],
      "text/plain": [
       "recommendations finished on 280000/429601 queries. users per second: 1.4561e+06"
      ]
     },
     "metadata": {},
     "output_type": "display_data"
    },
    {
     "data": {
      "text/html": [
       "<pre>recommendations finished on 281000/429601 queries. users per second: 1.45791e+06</pre>"
      ],
      "text/plain": [
       "recommendations finished on 281000/429601 queries. users per second: 1.45791e+06"
      ]
     },
     "metadata": {},
     "output_type": "display_data"
    },
    {
     "data": {
      "text/html": [
       "<pre>recommendations finished on 282000/429601 queries. users per second: 1.45965e+06</pre>"
      ],
      "text/plain": [
       "recommendations finished on 282000/429601 queries. users per second: 1.45965e+06"
      ]
     },
     "metadata": {},
     "output_type": "display_data"
    },
    {
     "data": {
      "text/html": [
       "<pre>recommendations finished on 283000/429601 queries. users per second: 1.46128e+06</pre>"
      ],
      "text/plain": [
       "recommendations finished on 283000/429601 queries. users per second: 1.46128e+06"
      ]
     },
     "metadata": {},
     "output_type": "display_data"
    },
    {
     "data": {
      "text/html": [
       "<pre>recommendations finished on 284000/429601 queries. users per second: 1.46231e+06</pre>"
      ],
      "text/plain": [
       "recommendations finished on 284000/429601 queries. users per second: 1.46231e+06"
      ]
     },
     "metadata": {},
     "output_type": "display_data"
    },
    {
     "data": {
      "text/html": [
       "<pre>recommendations finished on 285000/429601 queries. users per second: 1.4635e+06</pre>"
      ],
      "text/plain": [
       "recommendations finished on 285000/429601 queries. users per second: 1.4635e+06"
      ]
     },
     "metadata": {},
     "output_type": "display_data"
    },
    {
     "data": {
      "text/html": [
       "<pre>recommendations finished on 286000/429601 queries. users per second: 1.46493e+06</pre>"
      ],
      "text/plain": [
       "recommendations finished on 286000/429601 queries. users per second: 1.46493e+06"
      ]
     },
     "metadata": {},
     "output_type": "display_data"
    },
    {
     "data": {
      "text/html": [
       "<pre>recommendations finished on 287000/429601 queries. users per second: 1.46661e+06</pre>"
      ],
      "text/plain": [
       "recommendations finished on 287000/429601 queries. users per second: 1.46661e+06"
      ]
     },
     "metadata": {},
     "output_type": "display_data"
    },
    {
     "data": {
      "text/html": [
       "<pre>recommendations finished on 288000/429601 queries. users per second: 1.46804e+06</pre>"
      ],
      "text/plain": [
       "recommendations finished on 288000/429601 queries. users per second: 1.46804e+06"
      ]
     },
     "metadata": {},
     "output_type": "display_data"
    },
    {
     "data": {
      "text/html": [
       "<pre>recommendations finished on 289000/429601 queries. users per second: 1.46965e+06</pre>"
      ],
      "text/plain": [
       "recommendations finished on 289000/429601 queries. users per second: 1.46965e+06"
      ]
     },
     "metadata": {},
     "output_type": "display_data"
    },
    {
     "data": {
      "text/html": [
       "<pre>recommendations finished on 290000/429601 queries. users per second: 1.47109e+06</pre>"
      ],
      "text/plain": [
       "recommendations finished on 290000/429601 queries. users per second: 1.47109e+06"
      ]
     },
     "metadata": {},
     "output_type": "display_data"
    },
    {
     "data": {
      "text/html": [
       "<pre>recommendations finished on 291000/429601 queries. users per second: 1.47259e+06</pre>"
      ],
      "text/plain": [
       "recommendations finished on 291000/429601 queries. users per second: 1.47259e+06"
      ]
     },
     "metadata": {},
     "output_type": "display_data"
    },
    {
     "data": {
      "text/html": [
       "<pre>recommendations finished on 292000/429601 queries. users per second: 1.47397e+06</pre>"
      ],
      "text/plain": [
       "recommendations finished on 292000/429601 queries. users per second: 1.47397e+06"
      ]
     },
     "metadata": {},
     "output_type": "display_data"
    },
    {
     "data": {
      "text/html": [
       "<pre>recommendations finished on 293000/429601 queries. users per second: 1.47517e+06</pre>"
      ],
      "text/plain": [
       "recommendations finished on 293000/429601 queries. users per second: 1.47517e+06"
      ]
     },
     "metadata": {},
     "output_type": "display_data"
    },
    {
     "data": {
      "text/html": [
       "<pre>recommendations finished on 294000/429601 queries. users per second: 1.47593e+06</pre>"
      ],
      "text/plain": [
       "recommendations finished on 294000/429601 queries. users per second: 1.47593e+06"
      ]
     },
     "metadata": {},
     "output_type": "display_data"
    },
    {
     "data": {
      "text/html": [
       "<pre>recommendations finished on 295000/429601 queries. users per second: 1.47704e+06</pre>"
      ],
      "text/plain": [
       "recommendations finished on 295000/429601 queries. users per second: 1.47704e+06"
      ]
     },
     "metadata": {},
     "output_type": "display_data"
    },
    {
     "data": {
      "text/html": [
       "<pre>recommendations finished on 296000/429601 queries. users per second: 1.47764e+06</pre>"
      ],
      "text/plain": [
       "recommendations finished on 296000/429601 queries. users per second: 1.47764e+06"
      ]
     },
     "metadata": {},
     "output_type": "display_data"
    },
    {
     "data": {
      "text/html": [
       "<pre>recommendations finished on 297000/429601 queries. users per second: 1.47824e+06</pre>"
      ],
      "text/plain": [
       "recommendations finished on 297000/429601 queries. users per second: 1.47824e+06"
      ]
     },
     "metadata": {},
     "output_type": "display_data"
    },
    {
     "data": {
      "text/html": [
       "<pre>recommendations finished on 298000/429601 queries. users per second: 1.4796e+06</pre>"
      ],
      "text/plain": [
       "recommendations finished on 298000/429601 queries. users per second: 1.4796e+06"
      ]
     },
     "metadata": {},
     "output_type": "display_data"
    },
    {
     "data": {
      "text/html": [
       "<pre>recommendations finished on 299000/429601 queries. users per second: 1.48076e+06</pre>"
      ],
      "text/plain": [
       "recommendations finished on 299000/429601 queries. users per second: 1.48076e+06"
      ]
     },
     "metadata": {},
     "output_type": "display_data"
    },
    {
     "data": {
      "text/html": [
       "<pre>recommendations finished on 300000/429601 queries. users per second: 1.48131e+06</pre>"
      ],
      "text/plain": [
       "recommendations finished on 300000/429601 queries. users per second: 1.48131e+06"
      ]
     },
     "metadata": {},
     "output_type": "display_data"
    },
    {
     "data": {
      "text/html": [
       "<pre>recommendations finished on 301000/429601 queries. users per second: 1.4828e+06</pre>"
      ],
      "text/plain": [
       "recommendations finished on 301000/429601 queries. users per second: 1.4828e+06"
      ]
     },
     "metadata": {},
     "output_type": "display_data"
    },
    {
     "data": {
      "text/html": [
       "<pre>recommendations finished on 302000/429601 queries. users per second: 1.48439e+06</pre>"
      ],
      "text/plain": [
       "recommendations finished on 302000/429601 queries. users per second: 1.48439e+06"
      ]
     },
     "metadata": {},
     "output_type": "display_data"
    },
    {
     "data": {
      "text/html": [
       "<pre>recommendations finished on 303000/429601 queries. users per second: 1.48551e+06</pre>"
      ],
      "text/plain": [
       "recommendations finished on 303000/429601 queries. users per second: 1.48551e+06"
      ]
     },
     "metadata": {},
     "output_type": "display_data"
    },
    {
     "data": {
      "text/html": [
       "<pre>recommendations finished on 304000/429601 queries. users per second: 1.47952e+06</pre>"
      ],
      "text/plain": [
       "recommendations finished on 304000/429601 queries. users per second: 1.47952e+06"
      ]
     },
     "metadata": {},
     "output_type": "display_data"
    },
    {
     "data": {
      "text/html": [
       "<pre>recommendations finished on 305000/429601 queries. users per second: 1.48092e+06</pre>"
      ],
      "text/plain": [
       "recommendations finished on 305000/429601 queries. users per second: 1.48092e+06"
      ]
     },
     "metadata": {},
     "output_type": "display_data"
    },
    {
     "data": {
      "text/html": [
       "<pre>recommendations finished on 306000/429601 queries. users per second: 1.48259e+06</pre>"
      ],
      "text/plain": [
       "recommendations finished on 306000/429601 queries. users per second: 1.48259e+06"
      ]
     },
     "metadata": {},
     "output_type": "display_data"
    },
    {
     "data": {
      "text/html": [
       "<pre>recommendations finished on 307000/429601 queries. users per second: 1.48414e+06</pre>"
      ],
      "text/plain": [
       "recommendations finished on 307000/429601 queries. users per second: 1.48414e+06"
      ]
     },
     "metadata": {},
     "output_type": "display_data"
    },
    {
     "data": {
      "text/html": [
       "<pre>recommendations finished on 308000/429601 queries. users per second: 1.4857e+06</pre>"
      ],
      "text/plain": [
       "recommendations finished on 308000/429601 queries. users per second: 1.4857e+06"
      ]
     },
     "metadata": {},
     "output_type": "display_data"
    },
    {
     "data": {
      "text/html": [
       "<pre>recommendations finished on 309000/429601 queries. users per second: 1.48738e+06</pre>"
      ],
      "text/plain": [
       "recommendations finished on 309000/429601 queries. users per second: 1.48738e+06"
      ]
     },
     "metadata": {},
     "output_type": "display_data"
    },
    {
     "data": {
      "text/html": [
       "<pre>recommendations finished on 310000/429601 queries. users per second: 1.48411e+06</pre>"
      ],
      "text/plain": [
       "recommendations finished on 310000/429601 queries. users per second: 1.48411e+06"
      ]
     },
     "metadata": {},
     "output_type": "display_data"
    },
    {
     "data": {
      "text/html": [
       "<pre>recommendations finished on 311000/429601 queries. users per second: 1.48571e+06</pre>"
      ],
      "text/plain": [
       "recommendations finished on 311000/429601 queries. users per second: 1.48571e+06"
      ]
     },
     "metadata": {},
     "output_type": "display_data"
    },
    {
     "data": {
      "text/html": [
       "<pre>recommendations finished on 312000/429601 queries. users per second: 1.48736e+06</pre>"
      ],
      "text/plain": [
       "recommendations finished on 312000/429601 queries. users per second: 1.48736e+06"
      ]
     },
     "metadata": {},
     "output_type": "display_data"
    },
    {
     "data": {
      "text/html": [
       "<pre>recommendations finished on 313000/429601 queries. users per second: 1.48905e+06</pre>"
      ],
      "text/plain": [
       "recommendations finished on 313000/429601 queries. users per second: 1.48905e+06"
      ]
     },
     "metadata": {},
     "output_type": "display_data"
    },
    {
     "data": {
      "text/html": [
       "<pre>recommendations finished on 314000/429601 queries. users per second: 1.49057e+06</pre>"
      ],
      "text/plain": [
       "recommendations finished on 314000/429601 queries. users per second: 1.49057e+06"
      ]
     },
     "metadata": {},
     "output_type": "display_data"
    },
    {
     "data": {
      "text/html": [
       "<pre>recommendations finished on 315000/429601 queries. users per second: 1.49225e+06</pre>"
      ],
      "text/plain": [
       "recommendations finished on 315000/429601 queries. users per second: 1.49225e+06"
      ]
     },
     "metadata": {},
     "output_type": "display_data"
    },
    {
     "data": {
      "text/html": [
       "<pre>recommendations finished on 316000/429601 queries. users per second: 1.49351e+06</pre>"
      ],
      "text/plain": [
       "recommendations finished on 316000/429601 queries. users per second: 1.49351e+06"
      ]
     },
     "metadata": {},
     "output_type": "display_data"
    },
    {
     "data": {
      "text/html": [
       "<pre>recommendations finished on 317000/429601 queries. users per second: 1.49492e+06</pre>"
      ],
      "text/plain": [
       "recommendations finished on 317000/429601 queries. users per second: 1.49492e+06"
      ]
     },
     "metadata": {},
     "output_type": "display_data"
    },
    {
     "data": {
      "text/html": [
       "<pre>recommendations finished on 318000/429601 queries. users per second: 1.49632e+06</pre>"
      ],
      "text/plain": [
       "recommendations finished on 318000/429601 queries. users per second: 1.49632e+06"
      ]
     },
     "metadata": {},
     "output_type": "display_data"
    },
    {
     "data": {
      "text/html": [
       "<pre>recommendations finished on 319000/429601 queries. users per second: 1.4974e+06</pre>"
      ],
      "text/plain": [
       "recommendations finished on 319000/429601 queries. users per second: 1.4974e+06"
      ]
     },
     "metadata": {},
     "output_type": "display_data"
    },
    {
     "data": {
      "text/html": [
       "<pre>recommendations finished on 320000/429601 queries. users per second: 1.49852e+06</pre>"
      ],
      "text/plain": [
       "recommendations finished on 320000/429601 queries. users per second: 1.49852e+06"
      ]
     },
     "metadata": {},
     "output_type": "display_data"
    },
    {
     "data": {
      "text/html": [
       "<pre>recommendations finished on 321000/429601 queries. users per second: 1.49994e+06</pre>"
      ],
      "text/plain": [
       "recommendations finished on 321000/429601 queries. users per second: 1.49994e+06"
      ]
     },
     "metadata": {},
     "output_type": "display_data"
    },
    {
     "data": {
      "text/html": [
       "<pre>recommendations finished on 322000/429601 queries. users per second: 1.50142e+06</pre>"
      ],
      "text/plain": [
       "recommendations finished on 322000/429601 queries. users per second: 1.50142e+06"
      ]
     },
     "metadata": {},
     "output_type": "display_data"
    },
    {
     "data": {
      "text/html": [
       "<pre>recommendations finished on 323000/429601 queries. users per second: 1.50284e+06</pre>"
      ],
      "text/plain": [
       "recommendations finished on 323000/429601 queries. users per second: 1.50284e+06"
      ]
     },
     "metadata": {},
     "output_type": "display_data"
    },
    {
     "data": {
      "text/html": [
       "<pre>recommendations finished on 324000/429601 queries. users per second: 1.504e+06</pre>"
      ],
      "text/plain": [
       "recommendations finished on 324000/429601 queries. users per second: 1.504e+06"
      ]
     },
     "metadata": {},
     "output_type": "display_data"
    },
    {
     "data": {
      "text/html": [
       "<pre>recommendations finished on 325000/429601 queries. users per second: 1.50515e+06</pre>"
      ],
      "text/plain": [
       "recommendations finished on 325000/429601 queries. users per second: 1.50515e+06"
      ]
     },
     "metadata": {},
     "output_type": "display_data"
    },
    {
     "data": {
      "text/html": [
       "<pre>recommendations finished on 326000/429601 queries. users per second: 1.50574e+06</pre>"
      ],
      "text/plain": [
       "recommendations finished on 326000/429601 queries. users per second: 1.50574e+06"
      ]
     },
     "metadata": {},
     "output_type": "display_data"
    },
    {
     "data": {
      "text/html": [
       "<pre>recommendations finished on 327000/429601 queries. users per second: 1.50724e+06</pre>"
      ],
      "text/plain": [
       "recommendations finished on 327000/429601 queries. users per second: 1.50724e+06"
      ]
     },
     "metadata": {},
     "output_type": "display_data"
    },
    {
     "data": {
      "text/html": [
       "<pre>recommendations finished on 328000/429601 queries. users per second: 1.50885e+06</pre>"
      ],
      "text/plain": [
       "recommendations finished on 328000/429601 queries. users per second: 1.50885e+06"
      ]
     },
     "metadata": {},
     "output_type": "display_data"
    },
    {
     "data": {
      "text/html": [
       "<pre>recommendations finished on 329000/429601 queries. users per second: 1.51031e+06</pre>"
      ],
      "text/plain": [
       "recommendations finished on 329000/429601 queries. users per second: 1.51031e+06"
      ]
     },
     "metadata": {},
     "output_type": "display_data"
    },
    {
     "data": {
      "text/html": [
       "<pre>recommendations finished on 330000/429601 queries. users per second: 1.51136e+06</pre>"
      ],
      "text/plain": [
       "recommendations finished on 330000/429601 queries. users per second: 1.51136e+06"
      ]
     },
     "metadata": {},
     "output_type": "display_data"
    },
    {
     "data": {
      "text/html": [
       "<pre>recommendations finished on 331000/429601 queries. users per second: 1.51279e+06</pre>"
      ],
      "text/plain": [
       "recommendations finished on 331000/429601 queries. users per second: 1.51279e+06"
      ]
     },
     "metadata": {},
     "output_type": "display_data"
    },
    {
     "data": {
      "text/html": [
       "<pre>recommendations finished on 332000/429601 queries. users per second: 1.51437e+06</pre>"
      ],
      "text/plain": [
       "recommendations finished on 332000/429601 queries. users per second: 1.51437e+06"
      ]
     },
     "metadata": {},
     "output_type": "display_data"
    },
    {
     "data": {
      "text/html": [
       "<pre>recommendations finished on 333000/429601 queries. users per second: 1.51593e+06</pre>"
      ],
      "text/plain": [
       "recommendations finished on 333000/429601 queries. users per second: 1.51593e+06"
      ]
     },
     "metadata": {},
     "output_type": "display_data"
    },
    {
     "data": {
      "text/html": [
       "<pre>recommendations finished on 334000/429601 queries. users per second: 1.51695e+06</pre>"
      ],
      "text/plain": [
       "recommendations finished on 334000/429601 queries. users per second: 1.51695e+06"
      ]
     },
     "metadata": {},
     "output_type": "display_data"
    },
    {
     "data": {
      "text/html": [
       "<pre>recommendations finished on 335000/429601 queries. users per second: 1.51849e+06</pre>"
      ],
      "text/plain": [
       "recommendations finished on 335000/429601 queries. users per second: 1.51849e+06"
      ]
     },
     "metadata": {},
     "output_type": "display_data"
    },
    {
     "data": {
      "text/html": [
       "<pre>recommendations finished on 336000/429601 queries. users per second: 1.51994e+06</pre>"
      ],
      "text/plain": [
       "recommendations finished on 336000/429601 queries. users per second: 1.51994e+06"
      ]
     },
     "metadata": {},
     "output_type": "display_data"
    },
    {
     "data": {
      "text/html": [
       "<pre>recommendations finished on 337000/429601 queries. users per second: 1.52107e+06</pre>"
      ],
      "text/plain": [
       "recommendations finished on 337000/429601 queries. users per second: 1.52107e+06"
      ]
     },
     "metadata": {},
     "output_type": "display_data"
    },
    {
     "data": {
      "text/html": [
       "<pre>recommendations finished on 338000/429601 queries. users per second: 1.52235e+06</pre>"
      ],
      "text/plain": [
       "recommendations finished on 338000/429601 queries. users per second: 1.52235e+06"
      ]
     },
     "metadata": {},
     "output_type": "display_data"
    },
    {
     "data": {
      "text/html": [
       "<pre>recommendations finished on 339000/429601 queries. users per second: 1.52331e+06</pre>"
      ],
      "text/plain": [
       "recommendations finished on 339000/429601 queries. users per second: 1.52331e+06"
      ]
     },
     "metadata": {},
     "output_type": "display_data"
    },
    {
     "data": {
      "text/html": [
       "<pre>recommendations finished on 340000/429601 queries. users per second: 1.52483e+06</pre>"
      ],
      "text/plain": [
       "recommendations finished on 340000/429601 queries. users per second: 1.52483e+06"
      ]
     },
     "metadata": {},
     "output_type": "display_data"
    },
    {
     "data": {
      "text/html": [
       "<pre>recommendations finished on 341000/429601 queries. users per second: 1.52636e+06</pre>"
      ],
      "text/plain": [
       "recommendations finished on 341000/429601 queries. users per second: 1.52636e+06"
      ]
     },
     "metadata": {},
     "output_type": "display_data"
    },
    {
     "data": {
      "text/html": [
       "<pre>recommendations finished on 342000/429601 queries. users per second: 1.52736e+06</pre>"
      ],
      "text/plain": [
       "recommendations finished on 342000/429601 queries. users per second: 1.52736e+06"
      ]
     },
     "metadata": {},
     "output_type": "display_data"
    },
    {
     "data": {
      "text/html": [
       "<pre>recommendations finished on 343000/429601 queries. users per second: 1.52802e+06</pre>"
      ],
      "text/plain": [
       "recommendations finished on 343000/429601 queries. users per second: 1.52802e+06"
      ]
     },
     "metadata": {},
     "output_type": "display_data"
    },
    {
     "data": {
      "text/html": [
       "<pre>recommendations finished on 344000/429601 queries. users per second: 1.52866e+06</pre>"
      ],
      "text/plain": [
       "recommendations finished on 344000/429601 queries. users per second: 1.52866e+06"
      ]
     },
     "metadata": {},
     "output_type": "display_data"
    },
    {
     "data": {
      "text/html": [
       "<pre>recommendations finished on 345000/429601 queries. users per second: 1.52931e+06</pre>"
      ],
      "text/plain": [
       "recommendations finished on 345000/429601 queries. users per second: 1.52931e+06"
      ]
     },
     "metadata": {},
     "output_type": "display_data"
    },
    {
     "data": {
      "text/html": [
       "<pre>recommendations finished on 346000/429601 queries. users per second: 1.53028e+06</pre>"
      ],
      "text/plain": [
       "recommendations finished on 346000/429601 queries. users per second: 1.53028e+06"
      ]
     },
     "metadata": {},
     "output_type": "display_data"
    },
    {
     "data": {
      "text/html": [
       "<pre>recommendations finished on 347000/429601 queries. users per second: 1.53157e+06</pre>"
      ],
      "text/plain": [
       "recommendations finished on 347000/429601 queries. users per second: 1.53157e+06"
      ]
     },
     "metadata": {},
     "output_type": "display_data"
    },
    {
     "data": {
      "text/html": [
       "<pre>recommendations finished on 348000/429601 queries. users per second: 1.53276e+06</pre>"
      ],
      "text/plain": [
       "recommendations finished on 348000/429601 queries. users per second: 1.53276e+06"
      ]
     },
     "metadata": {},
     "output_type": "display_data"
    },
    {
     "data": {
      "text/html": [
       "<pre>recommendations finished on 349000/429601 queries. users per second: 1.53415e+06</pre>"
      ],
      "text/plain": [
       "recommendations finished on 349000/429601 queries. users per second: 1.53415e+06"
      ]
     },
     "metadata": {},
     "output_type": "display_data"
    },
    {
     "data": {
      "text/html": [
       "<pre>recommendations finished on 350000/429601 queries. users per second: 1.53557e+06</pre>"
      ],
      "text/plain": [
       "recommendations finished on 350000/429601 queries. users per second: 1.53557e+06"
      ]
     },
     "metadata": {},
     "output_type": "display_data"
    },
    {
     "data": {
      "text/html": [
       "<pre>recommendations finished on 351000/429601 queries. users per second: 1.5368e+06</pre>"
      ],
      "text/plain": [
       "recommendations finished on 351000/429601 queries. users per second: 1.5368e+06"
      ]
     },
     "metadata": {},
     "output_type": "display_data"
    },
    {
     "data": {
      "text/html": [
       "<pre>recommendations finished on 352000/429601 queries. users per second: 1.538e+06</pre>"
      ],
      "text/plain": [
       "recommendations finished on 352000/429601 queries. users per second: 1.538e+06"
      ]
     },
     "metadata": {},
     "output_type": "display_data"
    },
    {
     "data": {
      "text/html": [
       "<pre>recommendations finished on 353000/429601 queries. users per second: 1.53919e+06</pre>"
      ],
      "text/plain": [
       "recommendations finished on 353000/429601 queries. users per second: 1.53919e+06"
      ]
     },
     "metadata": {},
     "output_type": "display_data"
    },
    {
     "data": {
      "text/html": [
       "<pre>recommendations finished on 354000/429601 queries. users per second: 1.54015e+06</pre>"
      ],
      "text/plain": [
       "recommendations finished on 354000/429601 queries. users per second: 1.54015e+06"
      ]
     },
     "metadata": {},
     "output_type": "display_data"
    },
    {
     "data": {
      "text/html": [
       "<pre>recommendations finished on 355000/429601 queries. users per second: 1.54131e+06</pre>"
      ],
      "text/plain": [
       "recommendations finished on 355000/429601 queries. users per second: 1.54131e+06"
      ]
     },
     "metadata": {},
     "output_type": "display_data"
    },
    {
     "data": {
      "text/html": [
       "<pre>recommendations finished on 356000/429601 queries. users per second: 1.54271e+06</pre>"
      ],
      "text/plain": [
       "recommendations finished on 356000/429601 queries. users per second: 1.54271e+06"
      ]
     },
     "metadata": {},
     "output_type": "display_data"
    },
    {
     "data": {
      "text/html": [
       "<pre>recommendations finished on 357000/429601 queries. users per second: 1.54406e+06</pre>"
      ],
      "text/plain": [
       "recommendations finished on 357000/429601 queries. users per second: 1.54406e+06"
      ]
     },
     "metadata": {},
     "output_type": "display_data"
    },
    {
     "data": {
      "text/html": [
       "<pre>recommendations finished on 358000/429601 queries. users per second: 1.54509e+06</pre>"
      ],
      "text/plain": [
       "recommendations finished on 358000/429601 queries. users per second: 1.54509e+06"
      ]
     },
     "metadata": {},
     "output_type": "display_data"
    },
    {
     "data": {
      "text/html": [
       "<pre>recommendations finished on 359000/429601 queries. users per second: 1.54613e+06</pre>"
      ],
      "text/plain": [
       "recommendations finished on 359000/429601 queries. users per second: 1.54613e+06"
      ]
     },
     "metadata": {},
     "output_type": "display_data"
    },
    {
     "data": {
      "text/html": [
       "<pre>recommendations finished on 360000/429601 queries. users per second: 1.54736e+06</pre>"
      ],
      "text/plain": [
       "recommendations finished on 360000/429601 queries. users per second: 1.54736e+06"
      ]
     },
     "metadata": {},
     "output_type": "display_data"
    },
    {
     "data": {
      "text/html": [
       "<pre>recommendations finished on 361000/429601 queries. users per second: 1.54869e+06</pre>"
      ],
      "text/plain": [
       "recommendations finished on 361000/429601 queries. users per second: 1.54869e+06"
      ]
     },
     "metadata": {},
     "output_type": "display_data"
    },
    {
     "data": {
      "text/html": [
       "<pre>recommendations finished on 362000/429601 queries. users per second: 1.54992e+06</pre>"
      ],
      "text/plain": [
       "recommendations finished on 362000/429601 queries. users per second: 1.54992e+06"
      ]
     },
     "metadata": {},
     "output_type": "display_data"
    },
    {
     "data": {
      "text/html": [
       "<pre>recommendations finished on 363000/429601 queries. users per second: 1.55111e+06</pre>"
      ],
      "text/plain": [
       "recommendations finished on 363000/429601 queries. users per second: 1.55111e+06"
      ]
     },
     "metadata": {},
     "output_type": "display_data"
    },
    {
     "data": {
      "text/html": [
       "<pre>recommendations finished on 364000/429601 queries. users per second: 1.55256e+06</pre>"
      ],
      "text/plain": [
       "recommendations finished on 364000/429601 queries. users per second: 1.55256e+06"
      ]
     },
     "metadata": {},
     "output_type": "display_data"
    },
    {
     "data": {
      "text/html": [
       "<pre>recommendations finished on 365000/429601 queries. users per second: 1.55337e+06</pre>"
      ],
      "text/plain": [
       "recommendations finished on 365000/429601 queries. users per second: 1.55337e+06"
      ]
     },
     "metadata": {},
     "output_type": "display_data"
    },
    {
     "data": {
      "text/html": [
       "<pre>recommendations finished on 366000/429601 queries. users per second: 1.55386e+06</pre>"
      ],
      "text/plain": [
       "recommendations finished on 366000/429601 queries. users per second: 1.55386e+06"
      ]
     },
     "metadata": {},
     "output_type": "display_data"
    },
    {
     "data": {
      "text/html": [
       "<pre>recommendations finished on 367000/429601 queries. users per second: 1.55431e+06</pre>"
      ],
      "text/plain": [
       "recommendations finished on 367000/429601 queries. users per second: 1.55431e+06"
      ]
     },
     "metadata": {},
     "output_type": "display_data"
    },
    {
     "data": {
      "text/html": [
       "<pre>recommendations finished on 368000/429601 queries. users per second: 1.55345e+06</pre>"
      ],
      "text/plain": [
       "recommendations finished on 368000/429601 queries. users per second: 1.55345e+06"
      ]
     },
     "metadata": {},
     "output_type": "display_data"
    },
    {
     "data": {
      "text/html": [
       "<pre>recommendations finished on 369000/429601 queries. users per second: 1.55329e+06</pre>"
      ],
      "text/plain": [
       "recommendations finished on 369000/429601 queries. users per second: 1.55329e+06"
      ]
     },
     "metadata": {},
     "output_type": "display_data"
    },
    {
     "data": {
      "text/html": [
       "<pre>recommendations finished on 370000/429601 queries. users per second: 1.55323e+06</pre>"
      ],
      "text/plain": [
       "recommendations finished on 370000/429601 queries. users per second: 1.55323e+06"
      ]
     },
     "metadata": {},
     "output_type": "display_data"
    },
    {
     "data": {
      "text/html": [
       "<pre>recommendations finished on 371000/429601 queries. users per second: 1.55373e+06</pre>"
      ],
      "text/plain": [
       "recommendations finished on 371000/429601 queries. users per second: 1.55373e+06"
      ]
     },
     "metadata": {},
     "output_type": "display_data"
    },
    {
     "data": {
      "text/html": [
       "<pre>recommendations finished on 372000/429601 queries. users per second: 1.55393e+06</pre>"
      ],
      "text/plain": [
       "recommendations finished on 372000/429601 queries. users per second: 1.55393e+06"
      ]
     },
     "metadata": {},
     "output_type": "display_data"
    },
    {
     "data": {
      "text/html": [
       "<pre>recommendations finished on 373000/429601 queries. users per second: 1.55307e+06</pre>"
      ],
      "text/plain": [
       "recommendations finished on 373000/429601 queries. users per second: 1.55307e+06"
      ]
     },
     "metadata": {},
     "output_type": "display_data"
    },
    {
     "data": {
      "text/html": [
       "<pre>recommendations finished on 374000/429601 queries. users per second: 1.54813e+06</pre>"
      ],
      "text/plain": [
       "recommendations finished on 374000/429601 queries. users per second: 1.54813e+06"
      ]
     },
     "metadata": {},
     "output_type": "display_data"
    },
    {
     "data": {
      "text/html": [
       "<pre>recommendations finished on 375000/429601 queries. users per second: 1.54934e+06</pre>"
      ],
      "text/plain": [
       "recommendations finished on 375000/429601 queries. users per second: 1.54934e+06"
      ]
     },
     "metadata": {},
     "output_type": "display_data"
    },
    {
     "data": {
      "text/html": [
       "<pre>recommendations finished on 376000/429601 queries. users per second: 1.54935e+06</pre>"
      ],
      "text/plain": [
       "recommendations finished on 376000/429601 queries. users per second: 1.54935e+06"
      ]
     },
     "metadata": {},
     "output_type": "display_data"
    },
    {
     "data": {
      "text/html": [
       "<pre>recommendations finished on 377000/429601 queries. users per second: 1.54707e+06</pre>"
      ],
      "text/plain": [
       "recommendations finished on 377000/429601 queries. users per second: 1.54707e+06"
      ]
     },
     "metadata": {},
     "output_type": "display_data"
    },
    {
     "data": {
      "text/html": [
       "<pre>recommendations finished on 378000/429601 queries. users per second: 1.54809e+06</pre>"
      ],
      "text/plain": [
       "recommendations finished on 378000/429601 queries. users per second: 1.54809e+06"
      ]
     },
     "metadata": {},
     "output_type": "display_data"
    },
    {
     "data": {
      "text/html": [
       "<pre>recommendations finished on 379000/429601 queries. users per second: 1.54942e+06</pre>"
      ],
      "text/plain": [
       "recommendations finished on 379000/429601 queries. users per second: 1.54942e+06"
      ]
     },
     "metadata": {},
     "output_type": "display_data"
    },
    {
     "data": {
      "text/html": [
       "<pre>recommendations finished on 380000/429601 queries. users per second: 1.55065e+06</pre>"
      ],
      "text/plain": [
       "recommendations finished on 380000/429601 queries. users per second: 1.55065e+06"
      ]
     },
     "metadata": {},
     "output_type": "display_data"
    },
    {
     "data": {
      "text/html": [
       "<pre>recommendations finished on 381000/429601 queries. users per second: 1.55218e+06</pre>"
      ],
      "text/plain": [
       "recommendations finished on 381000/429601 queries. users per second: 1.55218e+06"
      ]
     },
     "metadata": {},
     "output_type": "display_data"
    },
    {
     "data": {
      "text/html": [
       "<pre>recommendations finished on 382000/429601 queries. users per second: 1.54969e+06</pre>"
      ],
      "text/plain": [
       "recommendations finished on 382000/429601 queries. users per second: 1.54969e+06"
      ]
     },
     "metadata": {},
     "output_type": "display_data"
    },
    {
     "data": {
      "text/html": [
       "<pre>recommendations finished on 383000/429601 queries. users per second: 1.55043e+06</pre>"
      ],
      "text/plain": [
       "recommendations finished on 383000/429601 queries. users per second: 1.55043e+06"
      ]
     },
     "metadata": {},
     "output_type": "display_data"
    },
    {
     "data": {
      "text/html": [
       "<pre>recommendations finished on 384000/429601 queries. users per second: 1.55199e+06</pre>"
      ],
      "text/plain": [
       "recommendations finished on 384000/429601 queries. users per second: 1.55199e+06"
      ]
     },
     "metadata": {},
     "output_type": "display_data"
    },
    {
     "data": {
      "text/html": [
       "<pre>recommendations finished on 385000/429601 queries. users per second: 1.55112e+06</pre>"
      ],
      "text/plain": [
       "recommendations finished on 385000/429601 queries. users per second: 1.55112e+06"
      ]
     },
     "metadata": {},
     "output_type": "display_data"
    },
    {
     "data": {
      "text/html": [
       "<pre>recommendations finished on 386000/429601 queries. users per second: 1.55244e+06</pre>"
      ],
      "text/plain": [
       "recommendations finished on 386000/429601 queries. users per second: 1.55244e+06"
      ]
     },
     "metadata": {},
     "output_type": "display_data"
    },
    {
     "data": {
      "text/html": [
       "<pre>recommendations finished on 387000/429601 queries. users per second: 1.55377e+06</pre>"
      ],
      "text/plain": [
       "recommendations finished on 387000/429601 queries. users per second: 1.55377e+06"
      ]
     },
     "metadata": {},
     "output_type": "display_data"
    },
    {
     "data": {
      "text/html": [
       "<pre>recommendations finished on 388000/429601 queries. users per second: 1.55495e+06</pre>"
      ],
      "text/plain": [
       "recommendations finished on 388000/429601 queries. users per second: 1.55495e+06"
      ]
     },
     "metadata": {},
     "output_type": "display_data"
    },
    {
     "data": {
      "text/html": [
       "<pre>recommendations finished on 389000/429601 queries. users per second: 1.55565e+06</pre>"
      ],
      "text/plain": [
       "recommendations finished on 389000/429601 queries. users per second: 1.55565e+06"
      ]
     },
     "metadata": {},
     "output_type": "display_data"
    },
    {
     "data": {
      "text/html": [
       "<pre>recommendations finished on 390000/429601 queries. users per second: 1.54975e+06</pre>"
      ],
      "text/plain": [
       "recommendations finished on 390000/429601 queries. users per second: 1.54975e+06"
      ]
     },
     "metadata": {},
     "output_type": "display_data"
    },
    {
     "data": {
      "text/html": [
       "<pre>recommendations finished on 391000/429601 queries. users per second: 1.55023e+06</pre>"
      ],
      "text/plain": [
       "recommendations finished on 391000/429601 queries. users per second: 1.55023e+06"
      ]
     },
     "metadata": {},
     "output_type": "display_data"
    },
    {
     "data": {
      "text/html": [
       "<pre>recommendations finished on 392000/429601 queries. users per second: 1.55134e+06</pre>"
      ],
      "text/plain": [
       "recommendations finished on 392000/429601 queries. users per second: 1.55134e+06"
      ]
     },
     "metadata": {},
     "output_type": "display_data"
    },
    {
     "data": {
      "text/html": [
       "<pre>recommendations finished on 393000/429601 queries. users per second: 1.55236e+06</pre>"
      ],
      "text/plain": [
       "recommendations finished on 393000/429601 queries. users per second: 1.55236e+06"
      ]
     },
     "metadata": {},
     "output_type": "display_data"
    },
    {
     "data": {
      "text/html": [
       "<pre>recommendations finished on 394000/429601 queries. users per second: 1.54909e+06</pre>"
      ],
      "text/plain": [
       "recommendations finished on 394000/429601 queries. users per second: 1.54909e+06"
      ]
     },
     "metadata": {},
     "output_type": "display_data"
    },
    {
     "data": {
      "text/html": [
       "<pre>recommendations finished on 395000/429601 queries. users per second: 1.55065e+06</pre>"
      ],
      "text/plain": [
       "recommendations finished on 395000/429601 queries. users per second: 1.55065e+06"
      ]
     },
     "metadata": {},
     "output_type": "display_data"
    },
    {
     "data": {
      "text/html": [
       "<pre>recommendations finished on 396000/429601 queries. users per second: 1.55158e+06</pre>"
      ],
      "text/plain": [
       "recommendations finished on 396000/429601 queries. users per second: 1.55158e+06"
      ]
     },
     "metadata": {},
     "output_type": "display_data"
    },
    {
     "data": {
      "text/html": [
       "<pre>recommendations finished on 397000/429601 queries. users per second: 1.55286e+06</pre>"
      ],
      "text/plain": [
       "recommendations finished on 397000/429601 queries. users per second: 1.55286e+06"
      ]
     },
     "metadata": {},
     "output_type": "display_data"
    },
    {
     "data": {
      "text/html": [
       "<pre>recommendations finished on 398000/429601 queries. users per second: 1.55366e+06</pre>"
      ],
      "text/plain": [
       "recommendations finished on 398000/429601 queries. users per second: 1.55366e+06"
      ]
     },
     "metadata": {},
     "output_type": "display_data"
    },
    {
     "data": {
      "text/html": [
       "<pre>recommendations finished on 399000/429601 queries. users per second: 1.55331e+06</pre>"
      ],
      "text/plain": [
       "recommendations finished on 399000/429601 queries. users per second: 1.55331e+06"
      ]
     },
     "metadata": {},
     "output_type": "display_data"
    },
    {
     "data": {
      "text/html": [
       "<pre>recommendations finished on 400000/429601 queries. users per second: 1.55108e+06</pre>"
      ],
      "text/plain": [
       "recommendations finished on 400000/429601 queries. users per second: 1.55108e+06"
      ]
     },
     "metadata": {},
     "output_type": "display_data"
    },
    {
     "data": {
      "text/html": [
       "<pre>recommendations finished on 401000/429601 queries. users per second: 1.55068e+06</pre>"
      ],
      "text/plain": [
       "recommendations finished on 401000/429601 queries. users per second: 1.55068e+06"
      ]
     },
     "metadata": {},
     "output_type": "display_data"
    },
    {
     "data": {
      "text/html": [
       "<pre>recommendations finished on 402000/429601 queries. users per second: 1.54933e+06</pre>"
      ],
      "text/plain": [
       "recommendations finished on 402000/429601 queries. users per second: 1.54933e+06"
      ]
     },
     "metadata": {},
     "output_type": "display_data"
    },
    {
     "data": {
      "text/html": [
       "<pre>recommendations finished on 403000/429601 queries. users per second: 1.54926e+06</pre>"
      ],
      "text/plain": [
       "recommendations finished on 403000/429601 queries. users per second: 1.54926e+06"
      ]
     },
     "metadata": {},
     "output_type": "display_data"
    },
    {
     "data": {
      "text/html": [
       "<pre>recommendations finished on 404000/429601 queries. users per second: 1.54986e+06</pre>"
      ],
      "text/plain": [
       "recommendations finished on 404000/429601 queries. users per second: 1.54986e+06"
      ]
     },
     "metadata": {},
     "output_type": "display_data"
    },
    {
     "data": {
      "text/html": [
       "<pre>recommendations finished on 405000/429601 queries. users per second: 1.55066e+06</pre>"
      ],
      "text/plain": [
       "recommendations finished on 405000/429601 queries. users per second: 1.55066e+06"
      ]
     },
     "metadata": {},
     "output_type": "display_data"
    },
    {
     "data": {
      "text/html": [
       "<pre>recommendations finished on 406000/429601 queries. users per second: 1.55144e+06</pre>"
      ],
      "text/plain": [
       "recommendations finished on 406000/429601 queries. users per second: 1.55144e+06"
      ]
     },
     "metadata": {},
     "output_type": "display_data"
    },
    {
     "data": {
      "text/html": [
       "<pre>recommendations finished on 407000/429601 queries. users per second: 1.55239e+06</pre>"
      ],
      "text/plain": [
       "recommendations finished on 407000/429601 queries. users per second: 1.55239e+06"
      ]
     },
     "metadata": {},
     "output_type": "display_data"
    },
    {
     "data": {
      "text/html": [
       "<pre>recommendations finished on 408000/429601 queries. users per second: 1.55251e+06</pre>"
      ],
      "text/plain": [
       "recommendations finished on 408000/429601 queries. users per second: 1.55251e+06"
      ]
     },
     "metadata": {},
     "output_type": "display_data"
    },
    {
     "data": {
      "text/html": [
       "<pre>recommendations finished on 409000/429601 queries. users per second: 1.54907e+06</pre>"
      ],
      "text/plain": [
       "recommendations finished on 409000/429601 queries. users per second: 1.54907e+06"
      ]
     },
     "metadata": {},
     "output_type": "display_data"
    },
    {
     "data": {
      "text/html": [
       "<pre>recommendations finished on 410000/429601 queries. users per second: 1.54789e+06</pre>"
      ],
      "text/plain": [
       "recommendations finished on 410000/429601 queries. users per second: 1.54789e+06"
      ]
     },
     "metadata": {},
     "output_type": "display_data"
    },
    {
     "data": {
      "text/html": [
       "<pre>recommendations finished on 411000/429601 queries. users per second: 1.5476e+06</pre>"
      ],
      "text/plain": [
       "recommendations finished on 411000/429601 queries. users per second: 1.5476e+06"
      ]
     },
     "metadata": {},
     "output_type": "display_data"
    },
    {
     "data": {
      "text/html": [
       "<pre>recommendations finished on 412000/429601 queries. users per second: 1.54782e+06</pre>"
      ],
      "text/plain": [
       "recommendations finished on 412000/429601 queries. users per second: 1.54782e+06"
      ]
     },
     "metadata": {},
     "output_type": "display_data"
    },
    {
     "data": {
      "text/html": [
       "<pre>recommendations finished on 413000/429601 queries. users per second: 1.54382e+06</pre>"
      ],
      "text/plain": [
       "recommendations finished on 413000/429601 queries. users per second: 1.54382e+06"
      ]
     },
     "metadata": {},
     "output_type": "display_data"
    },
    {
     "data": {
      "text/html": [
       "<pre>recommendations finished on 414000/429601 queries. users per second: 1.53894e+06</pre>"
      ],
      "text/plain": [
       "recommendations finished on 414000/429601 queries. users per second: 1.53894e+06"
      ]
     },
     "metadata": {},
     "output_type": "display_data"
    },
    {
     "data": {
      "text/html": [
       "<pre>recommendations finished on 415000/429601 queries. users per second: 1.53728e+06</pre>"
      ],
      "text/plain": [
       "recommendations finished on 415000/429601 queries. users per second: 1.53728e+06"
      ]
     },
     "metadata": {},
     "output_type": "display_data"
    },
    {
     "data": {
      "text/html": [
       "<pre>recommendations finished on 416000/429601 queries. users per second: 1.53626e+06</pre>"
      ],
      "text/plain": [
       "recommendations finished on 416000/429601 queries. users per second: 1.53626e+06"
      ]
     },
     "metadata": {},
     "output_type": "display_data"
    },
    {
     "data": {
      "text/html": [
       "<pre>recommendations finished on 417000/429601 queries. users per second: 1.5344e+06</pre>"
      ],
      "text/plain": [
       "recommendations finished on 417000/429601 queries. users per second: 1.5344e+06"
      ]
     },
     "metadata": {},
     "output_type": "display_data"
    },
    {
     "data": {
      "text/html": [
       "<pre>recommendations finished on 418000/429601 queries. users per second: 1.52955e+06</pre>"
      ],
      "text/plain": [
       "recommendations finished on 418000/429601 queries. users per second: 1.52955e+06"
      ]
     },
     "metadata": {},
     "output_type": "display_data"
    },
    {
     "data": {
      "text/html": [
       "<pre>recommendations finished on 419000/429601 queries. users per second: 1.52527e+06</pre>"
      ],
      "text/plain": [
       "recommendations finished on 419000/429601 queries. users per second: 1.52527e+06"
      ]
     },
     "metadata": {},
     "output_type": "display_data"
    },
    {
     "data": {
      "text/html": [
       "<pre>recommendations finished on 420000/429601 queries. users per second: 1.52273e+06</pre>"
      ],
      "text/plain": [
       "recommendations finished on 420000/429601 queries. users per second: 1.52273e+06"
      ]
     },
     "metadata": {},
     "output_type": "display_data"
    }
   ],
   "source": [
    "cosine_similarity_model = tc.item_similarity_recommender.create(train_data, user_id=user_id, item_id=item_id, target='scaled_purchase_freq', similarity_type='cosine')\n",
    "product_recommend = cosine_similarity_model.recommend(users=users_to_recommend, k=n_rec)"
   ]
  },
  {
   "cell_type": "markdown",
   "id": "6964a08f",
   "metadata": {},
   "source": [
    "## 6. Final Output"
   ]
  },
  {
   "cell_type": "code",
   "execution_count": 19,
   "id": "f01e1587",
   "metadata": {},
   "outputs": [
    {
     "data": {
      "text/html": [
       "<pre>recommendations finished on 421000/429601 queries. users per second: 1.51853e+06</pre>"
      ],
      "text/plain": [
       "recommendations finished on 421000/429601 queries. users per second: 1.51853e+06"
      ]
     },
     "metadata": {},
     "output_type": "display_data"
    },
    {
     "data": {
      "text/html": [
       "<pre>recommendations finished on 422000/429601 queries. users per second: 1.5132e+06</pre>"
      ],
      "text/plain": [
       "recommendations finished on 422000/429601 queries. users per second: 1.5132e+06"
      ]
     },
     "metadata": {},
     "output_type": "display_data"
    },
    {
     "data": {
      "text/html": [
       "<pre>recommendations finished on 423000/429601 queries. users per second: 1.50879e+06</pre>"
      ],
      "text/plain": [
       "recommendations finished on 423000/429601 queries. users per second: 1.50879e+06"
      ]
     },
     "metadata": {},
     "output_type": "display_data"
    },
    {
     "data": {
      "text/html": [
       "<pre>recommendations finished on 424000/429601 queries. users per second: 1.5023e+06</pre>"
      ],
      "text/plain": [
       "recommendations finished on 424000/429601 queries. users per second: 1.5023e+06"
      ]
     },
     "metadata": {},
     "output_type": "display_data"
    },
    {
     "data": {
      "text/html": [
       "<pre>recommendations finished on 425000/429601 queries. users per second: 1.49839e+06</pre>"
      ],
      "text/plain": [
       "recommendations finished on 425000/429601 queries. users per second: 1.49839e+06"
      ]
     },
     "metadata": {},
     "output_type": "display_data"
    },
    {
     "data": {
      "text/html": [
       "<pre>recommendations finished on 426000/429601 queries. users per second: 1.47779e+06</pre>"
      ],
      "text/plain": [
       "recommendations finished on 426000/429601 queries. users per second: 1.47779e+06"
      ]
     },
     "metadata": {},
     "output_type": "display_data"
    },
    {
     "data": {
      "text/html": [
       "<pre>recommendations finished on 427000/429601 queries. users per second: 1.46648e+06</pre>"
      ],
      "text/plain": [
       "recommendations finished on 427000/429601 queries. users per second: 1.46648e+06"
      ]
     },
     "metadata": {},
     "output_type": "display_data"
    },
    {
     "data": {
      "text/html": [
       "<pre>recommendations finished on 428000/429601 queries. users per second: 1.45218e+06</pre>"
      ],
      "text/plain": [
       "recommendations finished on 428000/429601 queries. users per second: 1.45218e+06"
      ]
     },
     "metadata": {},
     "output_type": "display_data"
    },
    {
     "data": {
      "text/html": [
       "<pre>recommendations finished on 429000/429601 queries. users per second: 1.42532e+06</pre>"
      ],
      "text/plain": [
       "recommendations finished on 429000/429601 queries. users per second: 1.42532e+06"
      ]
     },
     "metadata": {},
     "output_type": "display_data"
    },
    {
     "data": {
      "text/plain": [
       "0.08026091599026114"
      ]
     },
     "execution_count": 19,
     "metadata": {},
     "output_type": "execute_result"
    }
   ],
   "source": [
    "rmse_cosine_similarity = cosine_similarity_model.evaluate_rmse(test_data, 'scaled_purchase_freq')\n",
    "rmse_cosine_similarity['rmse_overall']"
   ]
  },
  {
   "cell_type": "markdown",
   "id": "f91157dd",
   "metadata": {},
   "source": [
    "### CSV output file"
   ]
  },
  {
   "cell_type": "markdown",
   "id": "106cbbb8",
   "metadata": {},
   "source": [
    "### Customer recommendation function"
   ]
  },
  {
   "cell_type": "markdown",
   "id": "fa571dc6",
   "metadata": {},
   "source": [
    "We select the **Cosine similarity on Purchase Dummy** approach as our final model"
   ]
  },
  {
   "cell_type": "code",
   "execution_count": 20,
   "id": "a121d1e5",
   "metadata": {},
   "outputs": [
    {
     "data": {
      "text/html": [
       "<pre>recommendations finished on 1000/429601 queries. users per second: 38457.1</pre>"
      ],
      "text/plain": [
       "recommendations finished on 1000/429601 queries. users per second: 38457.1"
      ]
     },
     "metadata": {},
     "output_type": "display_data"
    },
    {
     "data": {
      "text/html": [
       "<pre>recommendations finished on 2000/429601 queries. users per second: 75557.2</pre>"
      ],
      "text/plain": [
       "recommendations finished on 2000/429601 queries. users per second: 75557.2"
      ]
     },
     "metadata": {},
     "output_type": "display_data"
    },
    {
     "data": {
      "text/html": [
       "<pre>recommendations finished on 3000/429601 queries. users per second: 111694</pre>"
      ],
      "text/plain": [
       "recommendations finished on 3000/429601 queries. users per second: 111694"
      ]
     },
     "metadata": {},
     "output_type": "display_data"
    },
    {
     "data": {
      "text/html": [
       "<pre>recommendations finished on 4000/429601 queries. users per second: 146730</pre>"
      ],
      "text/plain": [
       "recommendations finished on 4000/429601 queries. users per second: 146730"
      ]
     },
     "metadata": {},
     "output_type": "display_data"
    },
    {
     "data": {
      "text/html": [
       "<pre>recommendations finished on 5000/429601 queries. users per second: 176685</pre>"
      ],
      "text/plain": [
       "recommendations finished on 5000/429601 queries. users per second: 176685"
      ]
     },
     "metadata": {},
     "output_type": "display_data"
    },
    {
     "data": {
      "text/html": [
       "<pre>recommendations finished on 6000/429601 queries. users per second: 208485</pre>"
      ],
      "text/plain": [
       "recommendations finished on 6000/429601 queries. users per second: 208485"
      ]
     },
     "metadata": {},
     "output_type": "display_data"
    },
    {
     "data": {
      "text/html": [
       "<pre>recommendations finished on 7000/429601 queries. users per second: 240121</pre>"
      ],
      "text/plain": [
       "recommendations finished on 7000/429601 queries. users per second: 240121"
      ]
     },
     "metadata": {},
     "output_type": "display_data"
    },
    {
     "data": {
      "text/html": [
       "<pre>recommendations finished on 8000/429601 queries. users per second: 270572</pre>"
      ],
      "text/plain": [
       "recommendations finished on 8000/429601 queries. users per second: 270572"
      ]
     },
     "metadata": {},
     "output_type": "display_data"
    },
    {
     "data": {
      "text/html": [
       "<pre>recommendations finished on 9000/429601 queries. users per second: 300411</pre>"
      ],
      "text/plain": [
       "recommendations finished on 9000/429601 queries. users per second: 300411"
      ]
     },
     "metadata": {},
     "output_type": "display_data"
    },
    {
     "data": {
      "text/html": [
       "<pre>recommendations finished on 10000/429601 queries. users per second: 329294</pre>"
      ],
      "text/plain": [
       "recommendations finished on 10000/429601 queries. users per second: 329294"
      ]
     },
     "metadata": {},
     "output_type": "display_data"
    },
    {
     "data": {
      "text/html": [
       "<pre>recommendations finished on 11000/429601 queries. users per second: 357468</pre>"
      ],
      "text/plain": [
       "recommendations finished on 11000/429601 queries. users per second: 357468"
      ]
     },
     "metadata": {},
     "output_type": "display_data"
    },
    {
     "data": {
      "text/html": [
       "<pre>recommendations finished on 12000/429601 queries. users per second: 380084</pre>"
      ],
      "text/plain": [
       "recommendations finished on 12000/429601 queries. users per second: 380084"
      ]
     },
     "metadata": {},
     "output_type": "display_data"
    },
    {
     "data": {
      "text/html": [
       "<pre>recommendations finished on 13000/429601 queries. users per second: 406797</pre>"
      ],
      "text/plain": [
       "recommendations finished on 13000/429601 queries. users per second: 406797"
      ]
     },
     "metadata": {},
     "output_type": "display_data"
    },
    {
     "data": {
      "text/html": [
       "<pre>recommendations finished on 14000/429601 queries. users per second: 432566</pre>"
      ],
      "text/plain": [
       "recommendations finished on 14000/429601 queries. users per second: 432566"
      ]
     },
     "metadata": {},
     "output_type": "display_data"
    },
    {
     "data": {
      "text/html": [
       "<pre>recommendations finished on 15000/429601 queries. users per second: 457568</pre>"
      ],
      "text/plain": [
       "recommendations finished on 15000/429601 queries. users per second: 457568"
      ]
     },
     "metadata": {},
     "output_type": "display_data"
    },
    {
     "data": {
      "text/html": [
       "<pre>recommendations finished on 16000/429601 queries. users per second: 482175</pre>"
      ],
      "text/plain": [
       "recommendations finished on 16000/429601 queries. users per second: 482175"
      ]
     },
     "metadata": {},
     "output_type": "display_data"
    },
    {
     "data": {
      "text/html": [
       "<pre>recommendations finished on 17000/429601 queries. users per second: 505636</pre>"
      ],
      "text/plain": [
       "recommendations finished on 17000/429601 queries. users per second: 505636"
      ]
     },
     "metadata": {},
     "output_type": "display_data"
    },
    {
     "data": {
      "text/html": [
       "<pre>recommendations finished on 18000/429601 queries. users per second: 528728</pre>"
      ],
      "text/plain": [
       "recommendations finished on 18000/429601 queries. users per second: 528728"
      ]
     },
     "metadata": {},
     "output_type": "display_data"
    },
    {
     "data": {
      "text/html": [
       "<pre>recommendations finished on 19000/429601 queries. users per second: 551652</pre>"
      ],
      "text/plain": [
       "recommendations finished on 19000/429601 queries. users per second: 551652"
      ]
     },
     "metadata": {},
     "output_type": "display_data"
    },
    {
     "data": {
      "text/html": [
       "<pre>recommendations finished on 20000/429601 queries. users per second: 573987</pre>"
      ],
      "text/plain": [
       "recommendations finished on 20000/429601 queries. users per second: 573987"
      ]
     },
     "metadata": {},
     "output_type": "display_data"
    },
    {
     "data": {
      "text/html": [
       "<pre>recommendations finished on 21000/429601 queries. users per second: 595778</pre>"
      ],
      "text/plain": [
       "recommendations finished on 21000/429601 queries. users per second: 595778"
      ]
     },
     "metadata": {},
     "output_type": "display_data"
    },
    {
     "data": {
      "text/html": [
       "<pre>recommendations finished on 22000/429601 queries. users per second: 616126</pre>"
      ],
      "text/plain": [
       "recommendations finished on 22000/429601 queries. users per second: 616126"
      ]
     },
     "metadata": {},
     "output_type": "display_data"
    },
    {
     "data": {
      "text/html": [
       "<pre>recommendations finished on 23000/429601 queries. users per second: 635956</pre>"
      ],
      "text/plain": [
       "recommendations finished on 23000/429601 queries. users per second: 635956"
      ]
     },
     "metadata": {},
     "output_type": "display_data"
    },
    {
     "data": {
      "text/html": [
       "<pre>recommendations finished on 24000/429601 queries. users per second: 656150</pre>"
      ],
      "text/plain": [
       "recommendations finished on 24000/429601 queries. users per second: 656150"
      ]
     },
     "metadata": {},
     "output_type": "display_data"
    },
    {
     "data": {
      "text/html": [
       "<pre>recommendations finished on 25000/429601 queries. users per second: 675365</pre>"
      ],
      "text/plain": [
       "recommendations finished on 25000/429601 queries. users per second: 675365"
      ]
     },
     "metadata": {},
     "output_type": "display_data"
    },
    {
     "data": {
      "text/html": [
       "<pre>recommendations finished on 26000/429601 queries. users per second: 694723</pre>"
      ],
      "text/plain": [
       "recommendations finished on 26000/429601 queries. users per second: 694723"
      ]
     },
     "metadata": {},
     "output_type": "display_data"
    },
    {
     "data": {
      "text/html": [
       "<pre>recommendations finished on 27000/429601 queries. users per second: 713587</pre>"
      ],
      "text/plain": [
       "recommendations finished on 27000/429601 queries. users per second: 713587"
      ]
     },
     "metadata": {},
     "output_type": "display_data"
    },
    {
     "data": {
      "text/html": [
       "<pre>recommendations finished on 28000/429601 queries. users per second: 732428</pre>"
      ],
      "text/plain": [
       "recommendations finished on 28000/429601 queries. users per second: 732428"
      ]
     },
     "metadata": {},
     "output_type": "display_data"
    },
    {
     "data": {
      "text/html": [
       "<pre>recommendations finished on 29000/429601 queries. users per second: 750906</pre>"
      ],
      "text/plain": [
       "recommendations finished on 29000/429601 queries. users per second: 750906"
      ]
     },
     "metadata": {},
     "output_type": "display_data"
    },
    {
     "data": {
      "text/html": [
       "<pre>recommendations finished on 30000/429601 queries. users per second: 768915</pre>"
      ],
      "text/plain": [
       "recommendations finished on 30000/429601 queries. users per second: 768915"
      ]
     },
     "metadata": {},
     "output_type": "display_data"
    },
    {
     "data": {
      "text/html": [
       "<pre>recommendations finished on 31000/429601 queries. users per second: 786423</pre>"
      ],
      "text/plain": [
       "recommendations finished on 31000/429601 queries. users per second: 786423"
      ]
     },
     "metadata": {},
     "output_type": "display_data"
    },
    {
     "data": {
      "text/html": [
       "<pre>recommendations finished on 32000/429601 queries. users per second: 803616</pre>"
      ],
      "text/plain": [
       "recommendations finished on 32000/429601 queries. users per second: 803616"
      ]
     },
     "metadata": {},
     "output_type": "display_data"
    },
    {
     "data": {
      "text/html": [
       "<pre>recommendations finished on 33000/429601 queries. users per second: 820202</pre>"
      ],
      "text/plain": [
       "recommendations finished on 33000/429601 queries. users per second: 820202"
      ]
     },
     "metadata": {},
     "output_type": "display_data"
    },
    {
     "data": {
      "text/html": [
       "<pre>recommendations finished on 34000/429601 queries. users per second: 836450</pre>"
      ],
      "text/plain": [
       "recommendations finished on 34000/429601 queries. users per second: 836450"
      ]
     },
     "metadata": {},
     "output_type": "display_data"
    },
    {
     "data": {
      "text/html": [
       "<pre>recommendations finished on 35000/429601 queries. users per second: 852764</pre>"
      ],
      "text/plain": [
       "recommendations finished on 35000/429601 queries. users per second: 852764"
      ]
     },
     "metadata": {},
     "output_type": "display_data"
    },
    {
     "data": {
      "text/html": [
       "<pre>recommendations finished on 36000/429601 queries. users per second: 868600</pre>"
      ],
      "text/plain": [
       "recommendations finished on 36000/429601 queries. users per second: 868600"
      ]
     },
     "metadata": {},
     "output_type": "display_data"
    },
    {
     "data": {
      "text/html": [
       "<pre>recommendations finished on 37000/429601 queries. users per second: 882549</pre>"
      ],
      "text/plain": [
       "recommendations finished on 37000/429601 queries. users per second: 882549"
      ]
     },
     "metadata": {},
     "output_type": "display_data"
    },
    {
     "data": {
      "text/html": [
       "<pre>recommendations finished on 38000/429601 queries. users per second: 897645</pre>"
      ],
      "text/plain": [
       "recommendations finished on 38000/429601 queries. users per second: 897645"
      ]
     },
     "metadata": {},
     "output_type": "display_data"
    },
    {
     "data": {
      "text/html": [
       "<pre>recommendations finished on 39000/429601 queries. users per second: 911705</pre>"
      ],
      "text/plain": [
       "recommendations finished on 39000/429601 queries. users per second: 911705"
      ]
     },
     "metadata": {},
     "output_type": "display_data"
    },
    {
     "data": {
      "text/html": [
       "<pre>recommendations finished on 40000/429601 queries. users per second: 925369</pre>"
      ],
      "text/plain": [
       "recommendations finished on 40000/429601 queries. users per second: 925369"
      ]
     },
     "metadata": {},
     "output_type": "display_data"
    },
    {
     "data": {
      "text/html": [
       "<pre>recommendations finished on 41000/429601 queries. users per second: 938301</pre>"
      ],
      "text/plain": [
       "recommendations finished on 41000/429601 queries. users per second: 938301"
      ]
     },
     "metadata": {},
     "output_type": "display_data"
    },
    {
     "data": {
      "text/html": [
       "<pre>recommendations finished on 42000/429601 queries. users per second: 951001</pre>"
      ],
      "text/plain": [
       "recommendations finished on 42000/429601 queries. users per second: 951001"
      ]
     },
     "metadata": {},
     "output_type": "display_data"
    },
    {
     "data": {
      "text/html": [
       "<pre>recommendations finished on 43000/429601 queries. users per second: 943790</pre>"
      ],
      "text/plain": [
       "recommendations finished on 43000/429601 queries. users per second: 943790"
      ]
     },
     "metadata": {},
     "output_type": "display_data"
    },
    {
     "data": {
      "text/html": [
       "<pre>recommendations finished on 44000/429601 queries. users per second: 956543</pre>"
      ],
      "text/plain": [
       "recommendations finished on 44000/429601 queries. users per second: 956543"
      ]
     },
     "metadata": {},
     "output_type": "display_data"
    },
    {
     "data": {
      "text/html": [
       "<pre>recommendations finished on 45000/429601 queries. users per second: 968784</pre>"
      ],
      "text/plain": [
       "recommendations finished on 45000/429601 queries. users per second: 968784"
      ]
     },
     "metadata": {},
     "output_type": "display_data"
    },
    {
     "data": {
      "text/html": [
       "<pre>recommendations finished on 46000/429601 queries. users per second: 981354</pre>"
      ],
      "text/plain": [
       "recommendations finished on 46000/429601 queries. users per second: 981354"
      ]
     },
     "metadata": {},
     "output_type": "display_data"
    },
    {
     "data": {
      "text/html": [
       "<pre>recommendations finished on 47000/429601 queries. users per second: 991875</pre>"
      ],
      "text/plain": [
       "recommendations finished on 47000/429601 queries. users per second: 991875"
      ]
     },
     "metadata": {},
     "output_type": "display_data"
    },
    {
     "data": {
      "text/html": [
       "<pre>recommendations finished on 48000/429601 queries. users per second: 989201</pre>"
      ],
      "text/plain": [
       "recommendations finished on 48000/429601 queries. users per second: 989201"
      ]
     },
     "metadata": {},
     "output_type": "display_data"
    },
    {
     "data": {
      "text/html": [
       "<pre>recommendations finished on 49000/429601 queries. users per second: 995834</pre>"
      ],
      "text/plain": [
       "recommendations finished on 49000/429601 queries. users per second: 995834"
      ]
     },
     "metadata": {},
     "output_type": "display_data"
    },
    {
     "data": {
      "text/html": [
       "<pre>recommendations finished on 50000/429601 queries. users per second: 1.0077e+06</pre>"
      ],
      "text/plain": [
       "recommendations finished on 50000/429601 queries. users per second: 1.0077e+06"
      ]
     },
     "metadata": {},
     "output_type": "display_data"
    },
    {
     "data": {
      "text/html": [
       "<pre>recommendations finished on 51000/429601 queries. users per second: 1.01984e+06</pre>"
      ],
      "text/plain": [
       "recommendations finished on 51000/429601 queries. users per second: 1.01984e+06"
      ]
     },
     "metadata": {},
     "output_type": "display_data"
    },
    {
     "data": {
      "text/html": [
       "<pre>recommendations finished on 52000/429601 queries. users per second: 1.03189e+06</pre>"
      ],
      "text/plain": [
       "recommendations finished on 52000/429601 queries. users per second: 1.03189e+06"
      ]
     },
     "metadata": {},
     "output_type": "display_data"
    },
    {
     "data": {
      "text/html": [
       "<pre>recommendations finished on 53000/429601 queries. users per second: 1.04322e+06</pre>"
      ],
      "text/plain": [
       "recommendations finished on 53000/429601 queries. users per second: 1.04322e+06"
      ]
     },
     "metadata": {},
     "output_type": "display_data"
    },
    {
     "data": {
      "text/html": [
       "<pre>recommendations finished on 54000/429601 queries. users per second: 1.04479e+06</pre>"
      ],
      "text/plain": [
       "recommendations finished on 54000/429601 queries. users per second: 1.04479e+06"
      ]
     },
     "metadata": {},
     "output_type": "display_data"
    },
    {
     "data": {
      "text/html": [
       "<pre>recommendations finished on 55000/429601 queries. users per second: 1.02022e+06</pre>"
      ],
      "text/plain": [
       "recommendations finished on 55000/429601 queries. users per second: 1.02022e+06"
      ]
     },
     "metadata": {},
     "output_type": "display_data"
    },
    {
     "data": {
      "text/html": [
       "<pre>recommendations finished on 56000/429601 queries. users per second: 1.03186e+06</pre>"
      ],
      "text/plain": [
       "recommendations finished on 56000/429601 queries. users per second: 1.03186e+06"
      ]
     },
     "metadata": {},
     "output_type": "display_data"
    },
    {
     "data": {
      "text/html": [
       "<pre>recommendations finished on 57000/429601 queries. users per second: 1.04313e+06</pre>"
      ],
      "text/plain": [
       "recommendations finished on 57000/429601 queries. users per second: 1.04313e+06"
      ]
     },
     "metadata": {},
     "output_type": "display_data"
    },
    {
     "data": {
      "text/html": [
       "<pre>recommendations finished on 58000/429601 queries. users per second: 1.05439e+06</pre>"
      ],
      "text/plain": [
       "recommendations finished on 58000/429601 queries. users per second: 1.05439e+06"
      ]
     },
     "metadata": {},
     "output_type": "display_data"
    },
    {
     "data": {
      "text/html": [
       "<pre>recommendations finished on 59000/429601 queries. users per second: 1.06521e+06</pre>"
      ],
      "text/plain": [
       "recommendations finished on 59000/429601 queries. users per second: 1.06521e+06"
      ]
     },
     "metadata": {},
     "output_type": "display_data"
    },
    {
     "data": {
      "text/html": [
       "<pre>recommendations finished on 60000/429601 queries. users per second: 1.07612e+06</pre>"
      ],
      "text/plain": [
       "recommendations finished on 60000/429601 queries. users per second: 1.07612e+06"
      ]
     },
     "metadata": {},
     "output_type": "display_data"
    },
    {
     "data": {
      "text/html": [
       "<pre>recommendations finished on 61000/429601 queries. users per second: 1.08684e+06</pre>"
      ],
      "text/plain": [
       "recommendations finished on 61000/429601 queries. users per second: 1.08684e+06"
      ]
     },
     "metadata": {},
     "output_type": "display_data"
    },
    {
     "data": {
      "text/html": [
       "<pre>recommendations finished on 62000/429601 queries. users per second: 1.0976e+06</pre>"
      ],
      "text/plain": [
       "recommendations finished on 62000/429601 queries. users per second: 1.0976e+06"
      ]
     },
     "metadata": {},
     "output_type": "display_data"
    },
    {
     "data": {
      "text/html": [
       "<pre>recommendations finished on 63000/429601 queries. users per second: 1.10797e+06</pre>"
      ],
      "text/plain": [
       "recommendations finished on 63000/429601 queries. users per second: 1.10797e+06"
      ]
     },
     "metadata": {},
     "output_type": "display_data"
    },
    {
     "data": {
      "text/html": [
       "<pre>recommendations finished on 64000/429601 queries. users per second: 1.11847e+06</pre>"
      ],
      "text/plain": [
       "recommendations finished on 64000/429601 queries. users per second: 1.11847e+06"
      ]
     },
     "metadata": {},
     "output_type": "display_data"
    },
    {
     "data": {
      "text/html": [
       "<pre>recommendations finished on 65000/429601 queries. users per second: 1.12845e+06</pre>"
      ],
      "text/plain": [
       "recommendations finished on 65000/429601 queries. users per second: 1.12845e+06"
      ]
     },
     "metadata": {},
     "output_type": "display_data"
    },
    {
     "data": {
      "text/html": [
       "<pre>recommendations finished on 66000/429601 queries. users per second: 1.13864e+06</pre>"
      ],
      "text/plain": [
       "recommendations finished on 66000/429601 queries. users per second: 1.13864e+06"
      ]
     },
     "metadata": {},
     "output_type": "display_data"
    },
    {
     "data": {
      "text/html": [
       "<pre>recommendations finished on 67000/429601 queries. users per second: 1.14846e+06</pre>"
      ],
      "text/plain": [
       "recommendations finished on 67000/429601 queries. users per second: 1.14846e+06"
      ]
     },
     "metadata": {},
     "output_type": "display_data"
    },
    {
     "data": {
      "text/html": [
       "<pre>recommendations finished on 68000/429601 queries. users per second: 1.15808e+06</pre>"
      ],
      "text/plain": [
       "recommendations finished on 68000/429601 queries. users per second: 1.15808e+06"
      ]
     },
     "metadata": {},
     "output_type": "display_data"
    },
    {
     "data": {
      "text/html": [
       "<pre>recommendations finished on 69000/429601 queries. users per second: 1.16733e+06</pre>"
      ],
      "text/plain": [
       "recommendations finished on 69000/429601 queries. users per second: 1.16733e+06"
      ]
     },
     "metadata": {},
     "output_type": "display_data"
    },
    {
     "data": {
      "text/html": [
       "<pre>recommendations finished on 70000/429601 queries. users per second: 1.17689e+06</pre>"
      ],
      "text/plain": [
       "recommendations finished on 70000/429601 queries. users per second: 1.17689e+06"
      ]
     },
     "metadata": {},
     "output_type": "display_data"
    },
    {
     "data": {
      "text/html": [
       "<pre>recommendations finished on 71000/429601 queries. users per second: 1.1859e+06</pre>"
      ],
      "text/plain": [
       "recommendations finished on 71000/429601 queries. users per second: 1.1859e+06"
      ]
     },
     "metadata": {},
     "output_type": "display_data"
    },
    {
     "data": {
      "text/html": [
       "<pre>recommendations finished on 72000/429601 queries. users per second: 1.19476e+06</pre>"
      ],
      "text/plain": [
       "recommendations finished on 72000/429601 queries. users per second: 1.19476e+06"
      ]
     },
     "metadata": {},
     "output_type": "display_data"
    },
    {
     "data": {
      "text/html": [
       "<pre>recommendations finished on 73000/429601 queries. users per second: 1.20373e+06</pre>"
      ],
      "text/plain": [
       "recommendations finished on 73000/429601 queries. users per second: 1.20373e+06"
      ]
     },
     "metadata": {},
     "output_type": "display_data"
    },
    {
     "data": {
      "text/html": [
       "<pre>recommendations finished on 74000/429601 queries. users per second: 1.21226e+06</pre>"
      ],
      "text/plain": [
       "recommendations finished on 74000/429601 queries. users per second: 1.21226e+06"
      ]
     },
     "metadata": {},
     "output_type": "display_data"
    },
    {
     "data": {
      "text/html": [
       "<pre>recommendations finished on 75000/429601 queries. users per second: 1.22062e+06</pre>"
      ],
      "text/plain": [
       "recommendations finished on 75000/429601 queries. users per second: 1.22062e+06"
      ]
     },
     "metadata": {},
     "output_type": "display_data"
    },
    {
     "data": {
      "text/html": [
       "<pre>recommendations finished on 76000/429601 queries. users per second: 1.22834e+06</pre>"
      ],
      "text/plain": [
       "recommendations finished on 76000/429601 queries. users per second: 1.22834e+06"
      ]
     },
     "metadata": {},
     "output_type": "display_data"
    },
    {
     "data": {
      "text/html": [
       "<pre>recommendations finished on 77000/429601 queries. users per second: 1.23544e+06</pre>"
      ],
      "text/plain": [
       "recommendations finished on 77000/429601 queries. users per second: 1.23544e+06"
      ]
     },
     "metadata": {},
     "output_type": "display_data"
    },
    {
     "data": {
      "text/html": [
       "<pre>recommendations finished on 78000/429601 queries. users per second: 1.24323e+06</pre>"
      ],
      "text/plain": [
       "recommendations finished on 78000/429601 queries. users per second: 1.24323e+06"
      ]
     },
     "metadata": {},
     "output_type": "display_data"
    },
    {
     "data": {
      "text/html": [
       "<pre>recommendations finished on 79000/429601 queries. users per second: 1.25077e+06</pre>"
      ],
      "text/plain": [
       "recommendations finished on 79000/429601 queries. users per second: 1.25077e+06"
      ]
     },
     "metadata": {},
     "output_type": "display_data"
    },
    {
     "data": {
      "text/html": [
       "<pre>recommendations finished on 80000/429601 queries. users per second: 1.25818e+06</pre>"
      ],
      "text/plain": [
       "recommendations finished on 80000/429601 queries. users per second: 1.25818e+06"
      ]
     },
     "metadata": {},
     "output_type": "display_data"
    },
    {
     "data": {
      "text/html": [
       "<pre>recommendations finished on 81000/429601 queries. users per second: 1.26549e+06</pre>"
      ],
      "text/plain": [
       "recommendations finished on 81000/429601 queries. users per second: 1.26549e+06"
      ]
     },
     "metadata": {},
     "output_type": "display_data"
    },
    {
     "data": {
      "text/html": [
       "<pre>recommendations finished on 82000/429601 queries. users per second: 1.27169e+06</pre>"
      ],
      "text/plain": [
       "recommendations finished on 82000/429601 queries. users per second: 1.27169e+06"
      ]
     },
     "metadata": {},
     "output_type": "display_data"
    },
    {
     "data": {
      "text/html": [
       "<pre>recommendations finished on 83000/429601 queries. users per second: 1.27657e+06</pre>"
      ],
      "text/plain": [
       "recommendations finished on 83000/429601 queries. users per second: 1.27657e+06"
      ]
     },
     "metadata": {},
     "output_type": "display_data"
    },
    {
     "data": {
      "text/html": [
       "<pre>recommendations finished on 84000/429601 queries. users per second: 1.27728e+06</pre>"
      ],
      "text/plain": [
       "recommendations finished on 84000/429601 queries. users per second: 1.27728e+06"
      ]
     },
     "metadata": {},
     "output_type": "display_data"
    },
    {
     "data": {
      "text/html": [
       "<pre>recommendations finished on 85000/429601 queries. users per second: 1.2848e+06</pre>"
      ],
      "text/plain": [
       "recommendations finished on 85000/429601 queries. users per second: 1.2848e+06"
      ]
     },
     "metadata": {},
     "output_type": "display_data"
    },
    {
     "data": {
      "text/html": [
       "<pre>recommendations finished on 86000/429601 queries. users per second: 1.29226e+06</pre>"
      ],
      "text/plain": [
       "recommendations finished on 86000/429601 queries. users per second: 1.29226e+06"
      ]
     },
     "metadata": {},
     "output_type": "display_data"
    },
    {
     "data": {
      "text/html": [
       "<pre>recommendations finished on 87000/429601 queries. users per second: 1.29926e+06</pre>"
      ],
      "text/plain": [
       "recommendations finished on 87000/429601 queries. users per second: 1.29926e+06"
      ]
     },
     "metadata": {},
     "output_type": "display_data"
    },
    {
     "data": {
      "text/html": [
       "<pre>recommendations finished on 88000/429601 queries. users per second: 1.30368e+06</pre>"
      ],
      "text/plain": [
       "recommendations finished on 88000/429601 queries. users per second: 1.30368e+06"
      ]
     },
     "metadata": {},
     "output_type": "display_data"
    },
    {
     "data": {
      "text/html": [
       "<pre>recommendations finished on 89000/429601 queries. users per second: 1.28023e+06</pre>"
      ],
      "text/plain": [
       "recommendations finished on 89000/429601 queries. users per second: 1.28023e+06"
      ]
     },
     "metadata": {},
     "output_type": "display_data"
    },
    {
     "data": {
      "text/html": [
       "<pre>recommendations finished on 90000/429601 queries. users per second: 1.28364e+06</pre>"
      ],
      "text/plain": [
       "recommendations finished on 90000/429601 queries. users per second: 1.28364e+06"
      ]
     },
     "metadata": {},
     "output_type": "display_data"
    },
    {
     "data": {
      "text/html": [
       "<pre>recommendations finished on 91000/429601 queries. users per second: 1.29008e+06</pre>"
      ],
      "text/plain": [
       "recommendations finished on 91000/429601 queries. users per second: 1.29008e+06"
      ]
     },
     "metadata": {},
     "output_type": "display_data"
    },
    {
     "data": {
      "text/html": [
       "<pre>recommendations finished on 92000/429601 queries. users per second: 1.29676e+06</pre>"
      ],
      "text/plain": [
       "recommendations finished on 92000/429601 queries. users per second: 1.29676e+06"
      ]
     },
     "metadata": {},
     "output_type": "display_data"
    },
    {
     "data": {
      "text/html": [
       "<pre>recommendations finished on 93000/429601 queries. users per second: 1.30263e+06</pre>"
      ],
      "text/plain": [
       "recommendations finished on 93000/429601 queries. users per second: 1.30263e+06"
      ]
     },
     "metadata": {},
     "output_type": "display_data"
    },
    {
     "data": {
      "text/html": [
       "<pre>recommendations finished on 94000/429601 queries. users per second: 1.3067e+06</pre>"
      ],
      "text/plain": [
       "recommendations finished on 94000/429601 queries. users per second: 1.3067e+06"
      ]
     },
     "metadata": {},
     "output_type": "display_data"
    },
    {
     "data": {
      "text/html": [
       "<pre>recommendations finished on 95000/429601 queries. users per second: 1.31257e+06</pre>"
      ],
      "text/plain": [
       "recommendations finished on 95000/429601 queries. users per second: 1.31257e+06"
      ]
     },
     "metadata": {},
     "output_type": "display_data"
    },
    {
     "data": {
      "text/html": [
       "<pre>recommendations finished on 96000/429601 queries. users per second: 1.31908e+06</pre>"
      ],
      "text/plain": [
       "recommendations finished on 96000/429601 queries. users per second: 1.31908e+06"
      ]
     },
     "metadata": {},
     "output_type": "display_data"
    },
    {
     "data": {
      "text/html": [
       "<pre>recommendations finished on 97000/429601 queries. users per second: 1.32351e+06</pre>"
      ],
      "text/plain": [
       "recommendations finished on 97000/429601 queries. users per second: 1.32351e+06"
      ]
     },
     "metadata": {},
     "output_type": "display_data"
    },
    {
     "data": {
      "text/html": [
       "<pre>recommendations finished on 98000/429601 queries. users per second: 1.24115e+06</pre>"
      ],
      "text/plain": [
       "recommendations finished on 98000/429601 queries. users per second: 1.24115e+06"
      ]
     },
     "metadata": {},
     "output_type": "display_data"
    },
    {
     "data": {
      "text/html": [
       "<pre>recommendations finished on 99000/429601 queries. users per second: 1.24699e+06</pre>"
      ],
      "text/plain": [
       "recommendations finished on 99000/429601 queries. users per second: 1.24699e+06"
      ]
     },
     "metadata": {},
     "output_type": "display_data"
    },
    {
     "data": {
      "text/html": [
       "<pre>recommendations finished on 100000/429601 queries. users per second: 1.25338e+06</pre>"
      ],
      "text/plain": [
       "recommendations finished on 100000/429601 queries. users per second: 1.25338e+06"
      ]
     },
     "metadata": {},
     "output_type": "display_data"
    },
    {
     "data": {
      "text/html": [
       "<pre>recommendations finished on 101000/429601 queries. users per second: 1.25932e+06</pre>"
      ],
      "text/plain": [
       "recommendations finished on 101000/429601 queries. users per second: 1.25932e+06"
      ]
     },
     "metadata": {},
     "output_type": "display_data"
    },
    {
     "data": {
      "text/html": [
       "<pre>recommendations finished on 102000/429601 queries. users per second: 1.26502e+06</pre>"
      ],
      "text/plain": [
       "recommendations finished on 102000/429601 queries. users per second: 1.26502e+06"
      ]
     },
     "metadata": {},
     "output_type": "display_data"
    },
    {
     "data": {
      "text/html": [
       "<pre>recommendations finished on 103000/429601 queries. users per second: 1.27021e+06</pre>"
      ],
      "text/plain": [
       "recommendations finished on 103000/429601 queries. users per second: 1.27021e+06"
      ]
     },
     "metadata": {},
     "output_type": "display_data"
    },
    {
     "data": {
      "text/html": [
       "<pre>recommendations finished on 104000/429601 queries. users per second: 1.27463e+06</pre>"
      ],
      "text/plain": [
       "recommendations finished on 104000/429601 queries. users per second: 1.27463e+06"
      ]
     },
     "metadata": {},
     "output_type": "display_data"
    },
    {
     "data": {
      "text/html": [
       "<pre>recommendations finished on 105000/429601 queries. users per second: 1.2786e+06</pre>"
      ],
      "text/plain": [
       "recommendations finished on 105000/429601 queries. users per second: 1.2786e+06"
      ]
     },
     "metadata": {},
     "output_type": "display_data"
    },
    {
     "data": {
      "text/html": [
       "<pre>recommendations finished on 106000/429601 queries. users per second: 1.28331e+06</pre>"
      ],
      "text/plain": [
       "recommendations finished on 106000/429601 queries. users per second: 1.28331e+06"
      ]
     },
     "metadata": {},
     "output_type": "display_data"
    },
    {
     "data": {
      "text/html": [
       "<pre>recommendations finished on 107000/429601 queries. users per second: 1.28824e+06</pre>"
      ],
      "text/plain": [
       "recommendations finished on 107000/429601 queries. users per second: 1.28824e+06"
      ]
     },
     "metadata": {},
     "output_type": "display_data"
    },
    {
     "data": {
      "text/html": [
       "<pre>recommendations finished on 108000/429601 queries. users per second: 1.29385e+06</pre>"
      ],
      "text/plain": [
       "recommendations finished on 108000/429601 queries. users per second: 1.29385e+06"
      ]
     },
     "metadata": {},
     "output_type": "display_data"
    },
    {
     "data": {
      "text/html": [
       "<pre>recommendations finished on 109000/429601 queries. users per second: 1.29934e+06</pre>"
      ],
      "text/plain": [
       "recommendations finished on 109000/429601 queries. users per second: 1.29934e+06"
      ]
     },
     "metadata": {},
     "output_type": "display_data"
    },
    {
     "data": {
      "text/html": [
       "<pre>recommendations finished on 110000/429601 queries. users per second: 1.30449e+06</pre>"
      ],
      "text/plain": [
       "recommendations finished on 110000/429601 queries. users per second: 1.30449e+06"
      ]
     },
     "metadata": {},
     "output_type": "display_data"
    },
    {
     "data": {
      "text/html": [
       "<pre>recommendations finished on 111000/429601 queries. users per second: 1.30984e+06</pre>"
      ],
      "text/plain": [
       "recommendations finished on 111000/429601 queries. users per second: 1.30984e+06"
      ]
     },
     "metadata": {},
     "output_type": "display_data"
    },
    {
     "data": {
      "text/html": [
       "<pre>recommendations finished on 112000/429601 queries. users per second: 1.31545e+06</pre>"
      ],
      "text/plain": [
       "recommendations finished on 112000/429601 queries. users per second: 1.31545e+06"
      ]
     },
     "metadata": {},
     "output_type": "display_data"
    },
    {
     "data": {
      "text/html": [
       "<pre>recommendations finished on 113000/429601 queries. users per second: 1.3207e+06</pre>"
      ],
      "text/plain": [
       "recommendations finished on 113000/429601 queries. users per second: 1.3207e+06"
      ]
     },
     "metadata": {},
     "output_type": "display_data"
    },
    {
     "data": {
      "text/html": [
       "<pre>recommendations finished on 114000/429601 queries. users per second: 1.32561e+06</pre>"
      ],
      "text/plain": [
       "recommendations finished on 114000/429601 queries. users per second: 1.32561e+06"
      ]
     },
     "metadata": {},
     "output_type": "display_data"
    },
    {
     "data": {
      "text/html": [
       "<pre>recommendations finished on 115000/429601 queries. users per second: 1.33006e+06</pre>"
      ],
      "text/plain": [
       "recommendations finished on 115000/429601 queries. users per second: 1.33006e+06"
      ]
     },
     "metadata": {},
     "output_type": "display_data"
    },
    {
     "data": {
      "text/html": [
       "<pre>recommendations finished on 116000/429601 queries. users per second: 1.33481e+06</pre>"
      ],
      "text/plain": [
       "recommendations finished on 116000/429601 queries. users per second: 1.33481e+06"
      ]
     },
     "metadata": {},
     "output_type": "display_data"
    },
    {
     "data": {
      "text/html": [
       "<pre>recommendations finished on 117000/429601 queries. users per second: 1.33968e+06</pre>"
      ],
      "text/plain": [
       "recommendations finished on 117000/429601 queries. users per second: 1.33968e+06"
      ]
     },
     "metadata": {},
     "output_type": "display_data"
    },
    {
     "data": {
      "text/html": [
       "<pre>recommendations finished on 118000/429601 queries. users per second: 1.34448e+06</pre>"
      ],
      "text/plain": [
       "recommendations finished on 118000/429601 queries. users per second: 1.34448e+06"
      ]
     },
     "metadata": {},
     "output_type": "display_data"
    },
    {
     "data": {
      "text/html": [
       "<pre>recommendations finished on 119000/429601 queries. users per second: 1.34959e+06</pre>"
      ],
      "text/plain": [
       "recommendations finished on 119000/429601 queries. users per second: 1.34959e+06"
      ]
     },
     "metadata": {},
     "output_type": "display_data"
    },
    {
     "data": {
      "text/html": [
       "<pre>recommendations finished on 120000/429601 queries. users per second: 1.35478e+06</pre>"
      ],
      "text/plain": [
       "recommendations finished on 120000/429601 queries. users per second: 1.35478e+06"
      ]
     },
     "metadata": {},
     "output_type": "display_data"
    },
    {
     "data": {
      "text/html": [
       "<pre>recommendations finished on 121000/429601 queries. users per second: 1.35958e+06</pre>"
      ],
      "text/plain": [
       "recommendations finished on 121000/429601 queries. users per second: 1.35958e+06"
      ]
     },
     "metadata": {},
     "output_type": "display_data"
    },
    {
     "data": {
      "text/html": [
       "<pre>recommendations finished on 122000/429601 queries. users per second: 1.3642e+06</pre>"
      ],
      "text/plain": [
       "recommendations finished on 122000/429601 queries. users per second: 1.3642e+06"
      ]
     },
     "metadata": {},
     "output_type": "display_data"
    },
    {
     "data": {
      "text/html": [
       "<pre>recommendations finished on 123000/429601 queries. users per second: 1.3688e+06</pre>"
      ],
      "text/plain": [
       "recommendations finished on 123000/429601 queries. users per second: 1.3688e+06"
      ]
     },
     "metadata": {},
     "output_type": "display_data"
    },
    {
     "data": {
      "text/html": [
       "<pre>recommendations finished on 124000/429601 queries. users per second: 1.37361e+06</pre>"
      ],
      "text/plain": [
       "recommendations finished on 124000/429601 queries. users per second: 1.37361e+06"
      ]
     },
     "metadata": {},
     "output_type": "display_data"
    },
    {
     "data": {
      "text/html": [
       "<pre>recommendations finished on 125000/429601 queries. users per second: 1.37814e+06</pre>"
      ],
      "text/plain": [
       "recommendations finished on 125000/429601 queries. users per second: 1.37814e+06"
      ]
     },
     "metadata": {},
     "output_type": "display_data"
    },
    {
     "data": {
      "text/html": [
       "<pre>recommendations finished on 126000/429601 queries. users per second: 1.38243e+06</pre>"
      ],
      "text/plain": [
       "recommendations finished on 126000/429601 queries. users per second: 1.38243e+06"
      ]
     },
     "metadata": {},
     "output_type": "display_data"
    },
    {
     "data": {
      "text/html": [
       "<pre>recommendations finished on 127000/429601 queries. users per second: 1.38707e+06</pre>"
      ],
      "text/plain": [
       "recommendations finished on 127000/429601 queries. users per second: 1.38707e+06"
      ]
     },
     "metadata": {},
     "output_type": "display_data"
    },
    {
     "data": {
      "text/html": [
       "<pre>recommendations finished on 128000/429601 queries. users per second: 1.39195e+06</pre>"
      ],
      "text/plain": [
       "recommendations finished on 128000/429601 queries. users per second: 1.39195e+06"
      ]
     },
     "metadata": {},
     "output_type": "display_data"
    },
    {
     "data": {
      "text/html": [
       "<pre>recommendations finished on 129000/429601 queries. users per second: 1.39603e+06</pre>"
      ],
      "text/plain": [
       "recommendations finished on 129000/429601 queries. users per second: 1.39603e+06"
      ]
     },
     "metadata": {},
     "output_type": "display_data"
    },
    {
     "data": {
      "text/html": [
       "<pre>recommendations finished on 130000/429601 queries. users per second: 1.40008e+06</pre>"
      ],
      "text/plain": [
       "recommendations finished on 130000/429601 queries. users per second: 1.40008e+06"
      ]
     },
     "metadata": {},
     "output_type": "display_data"
    },
    {
     "data": {
      "text/html": [
       "<pre>recommendations finished on 131000/429601 queries. users per second: 1.40424e+06</pre>"
      ],
      "text/plain": [
       "recommendations finished on 131000/429601 queries. users per second: 1.40424e+06"
      ]
     },
     "metadata": {},
     "output_type": "display_data"
    },
    {
     "data": {
      "text/html": [
       "<pre>recommendations finished on 132000/429601 queries. users per second: 1.40783e+06</pre>"
      ],
      "text/plain": [
       "recommendations finished on 132000/429601 queries. users per second: 1.40783e+06"
      ]
     },
     "metadata": {},
     "output_type": "display_data"
    },
    {
     "data": {
      "text/html": [
       "<pre>recommendations finished on 133000/429601 queries. users per second: 1.41201e+06</pre>"
      ],
      "text/plain": [
       "recommendations finished on 133000/429601 queries. users per second: 1.41201e+06"
      ]
     },
     "metadata": {},
     "output_type": "display_data"
    },
    {
     "data": {
      "text/html": [
       "<pre>recommendations finished on 134000/429601 queries. users per second: 1.41627e+06</pre>"
      ],
      "text/plain": [
       "recommendations finished on 134000/429601 queries. users per second: 1.41627e+06"
      ]
     },
     "metadata": {},
     "output_type": "display_data"
    },
    {
     "data": {
      "text/html": [
       "<pre>recommendations finished on 135000/429601 queries. users per second: 1.42031e+06</pre>"
      ],
      "text/plain": [
       "recommendations finished on 135000/429601 queries. users per second: 1.42031e+06"
      ]
     },
     "metadata": {},
     "output_type": "display_data"
    },
    {
     "data": {
      "text/html": [
       "<pre>recommendations finished on 136000/429601 queries. users per second: 1.42379e+06</pre>"
      ],
      "text/plain": [
       "recommendations finished on 136000/429601 queries. users per second: 1.42379e+06"
      ]
     },
     "metadata": {},
     "output_type": "display_data"
    },
    {
     "data": {
      "text/html": [
       "<pre>recommendations finished on 137000/429601 queries. users per second: 1.42695e+06</pre>"
      ],
      "text/plain": [
       "recommendations finished on 137000/429601 queries. users per second: 1.42695e+06"
      ]
     },
     "metadata": {},
     "output_type": "display_data"
    },
    {
     "data": {
      "text/html": [
       "<pre>recommendations finished on 138000/429601 queries. users per second: 1.4306e+06</pre>"
      ],
      "text/plain": [
       "recommendations finished on 138000/429601 queries. users per second: 1.4306e+06"
      ]
     },
     "metadata": {},
     "output_type": "display_data"
    },
    {
     "data": {
      "text/html": [
       "<pre>recommendations finished on 139000/429601 queries. users per second: 1.43405e+06</pre>"
      ],
      "text/plain": [
       "recommendations finished on 139000/429601 queries. users per second: 1.43405e+06"
      ]
     },
     "metadata": {},
     "output_type": "display_data"
    },
    {
     "data": {
      "text/html": [
       "<pre>recommendations finished on 140000/429601 queries. users per second: 1.43821e+06</pre>"
      ],
      "text/plain": [
       "recommendations finished on 140000/429601 queries. users per second: 1.43821e+06"
      ]
     },
     "metadata": {},
     "output_type": "display_data"
    },
    {
     "data": {
      "text/html": [
       "<pre>recommendations finished on 141000/429601 queries. users per second: 1.4422e+06</pre>"
      ],
      "text/plain": [
       "recommendations finished on 141000/429601 queries. users per second: 1.4422e+06"
      ]
     },
     "metadata": {},
     "output_type": "display_data"
    },
    {
     "data": {
      "text/html": [
       "<pre>recommendations finished on 142000/429601 queries. users per second: 1.44619e+06</pre>"
      ],
      "text/plain": [
       "recommendations finished on 142000/429601 queries. users per second: 1.44619e+06"
      ]
     },
     "metadata": {},
     "output_type": "display_data"
    },
    {
     "data": {
      "text/html": [
       "<pre>recommendations finished on 143000/429601 queries. users per second: 1.45023e+06</pre>"
      ],
      "text/plain": [
       "recommendations finished on 143000/429601 queries. users per second: 1.45023e+06"
      ]
     },
     "metadata": {},
     "output_type": "display_data"
    },
    {
     "data": {
      "text/html": [
       "<pre>recommendations finished on 144000/429601 queries. users per second: 1.45416e+06</pre>"
      ],
      "text/plain": [
       "recommendations finished on 144000/429601 queries. users per second: 1.45416e+06"
      ]
     },
     "metadata": {},
     "output_type": "display_data"
    },
    {
     "data": {
      "text/html": [
       "<pre>recommendations finished on 145000/429601 queries. users per second: 1.45828e+06</pre>"
      ],
      "text/plain": [
       "recommendations finished on 145000/429601 queries. users per second: 1.45828e+06"
      ]
     },
     "metadata": {},
     "output_type": "display_data"
    },
    {
     "data": {
      "text/html": [
       "<pre>recommendations finished on 146000/429601 queries. users per second: 1.46225e+06</pre>"
      ],
      "text/plain": [
       "recommendations finished on 146000/429601 queries. users per second: 1.46225e+06"
      ]
     },
     "metadata": {},
     "output_type": "display_data"
    },
    {
     "data": {
      "text/html": [
       "<pre>recommendations finished on 147000/429601 queries. users per second: 1.46614e+06</pre>"
      ],
      "text/plain": [
       "recommendations finished on 147000/429601 queries. users per second: 1.46614e+06"
      ]
     },
     "metadata": {},
     "output_type": "display_data"
    },
    {
     "data": {
      "text/html": [
       "<pre>recommendations finished on 148000/429601 queries. users per second: 1.47009e+06</pre>"
      ],
      "text/plain": [
       "recommendations finished on 148000/429601 queries. users per second: 1.47009e+06"
      ]
     },
     "metadata": {},
     "output_type": "display_data"
    },
    {
     "data": {
      "text/html": [
       "<pre>recommendations finished on 149000/429601 queries. users per second: 1.47409e+06</pre>"
      ],
      "text/plain": [
       "recommendations finished on 149000/429601 queries. users per second: 1.47409e+06"
      ]
     },
     "metadata": {},
     "output_type": "display_data"
    },
    {
     "data": {
      "text/html": [
       "<pre>recommendations finished on 150000/429601 queries. users per second: 1.47773e+06</pre>"
      ],
      "text/plain": [
       "recommendations finished on 150000/429601 queries. users per second: 1.47773e+06"
      ]
     },
     "metadata": {},
     "output_type": "display_data"
    },
    {
     "data": {
      "text/html": [
       "<pre>recommendations finished on 151000/429601 queries. users per second: 1.48145e+06</pre>"
      ],
      "text/plain": [
       "recommendations finished on 151000/429601 queries. users per second: 1.48145e+06"
      ]
     },
     "metadata": {},
     "output_type": "display_data"
    },
    {
     "data": {
      "text/html": [
       "<pre>recommendations finished on 152000/429601 queries. users per second: 1.48527e+06</pre>"
      ],
      "text/plain": [
       "recommendations finished on 152000/429601 queries. users per second: 1.48527e+06"
      ]
     },
     "metadata": {},
     "output_type": "display_data"
    },
    {
     "data": {
      "text/html": [
       "<pre>recommendations finished on 153000/429601 queries. users per second: 1.48901e+06</pre>"
      ],
      "text/plain": [
       "recommendations finished on 153000/429601 queries. users per second: 1.48901e+06"
      ]
     },
     "metadata": {},
     "output_type": "display_data"
    },
    {
     "data": {
      "text/html": [
       "<pre>recommendations finished on 154000/429601 queries. users per second: 1.49255e+06</pre>"
      ],
      "text/plain": [
       "recommendations finished on 154000/429601 queries. users per second: 1.49255e+06"
      ]
     },
     "metadata": {},
     "output_type": "display_data"
    },
    {
     "data": {
      "text/html": [
       "<pre>recommendations finished on 155000/429601 queries. users per second: 1.49617e+06</pre>"
      ],
      "text/plain": [
       "recommendations finished on 155000/429601 queries. users per second: 1.49617e+06"
      ]
     },
     "metadata": {},
     "output_type": "display_data"
    },
    {
     "data": {
      "text/html": [
       "<pre>recommendations finished on 156000/429601 queries. users per second: 1.49839e+06</pre>"
      ],
      "text/plain": [
       "recommendations finished on 156000/429601 queries. users per second: 1.49839e+06"
      ]
     },
     "metadata": {},
     "output_type": "display_data"
    },
    {
     "data": {
      "text/html": [
       "<pre>recommendations finished on 157000/429601 queries. users per second: 1.49991e+06</pre>"
      ],
      "text/plain": [
       "recommendations finished on 157000/429601 queries. users per second: 1.49991e+06"
      ]
     },
     "metadata": {},
     "output_type": "display_data"
    },
    {
     "data": {
      "text/html": [
       "<pre>recommendations finished on 158000/429601 queries. users per second: 1.50299e+06</pre>"
      ],
      "text/plain": [
       "recommendations finished on 158000/429601 queries. users per second: 1.50299e+06"
      ]
     },
     "metadata": {},
     "output_type": "display_data"
    },
    {
     "data": {
      "text/html": [
       "<pre>recommendations finished on 159000/429601 queries. users per second: 1.50662e+06</pre>"
      ],
      "text/plain": [
       "recommendations finished on 159000/429601 queries. users per second: 1.50662e+06"
      ]
     },
     "metadata": {},
     "output_type": "display_data"
    },
    {
     "data": {
      "text/html": [
       "<pre>recommendations finished on 160000/429601 queries. users per second: 1.50982e+06</pre>"
      ],
      "text/plain": [
       "recommendations finished on 160000/429601 queries. users per second: 1.50982e+06"
      ]
     },
     "metadata": {},
     "output_type": "display_data"
    },
    {
     "data": {
      "text/html": [
       "<pre>recommendations finished on 161000/429601 queries. users per second: 1.51282e+06</pre>"
      ],
      "text/plain": [
       "recommendations finished on 161000/429601 queries. users per second: 1.51282e+06"
      ]
     },
     "metadata": {},
     "output_type": "display_data"
    },
    {
     "data": {
      "text/html": [
       "<pre>recommendations finished on 162000/429601 queries. users per second: 1.51634e+06</pre>"
      ],
      "text/plain": [
       "recommendations finished on 162000/429601 queries. users per second: 1.51634e+06"
      ]
     },
     "metadata": {},
     "output_type": "display_data"
    },
    {
     "data": {
      "text/html": [
       "<pre>recommendations finished on 163000/429601 queries. users per second: 1.51966e+06</pre>"
      ],
      "text/plain": [
       "recommendations finished on 163000/429601 queries. users per second: 1.51966e+06"
      ]
     },
     "metadata": {},
     "output_type": "display_data"
    },
    {
     "data": {
      "text/html": [
       "<pre>recommendations finished on 164000/429601 queries. users per second: 1.52265e+06</pre>"
      ],
      "text/plain": [
       "recommendations finished on 164000/429601 queries. users per second: 1.52265e+06"
      ]
     },
     "metadata": {},
     "output_type": "display_data"
    },
    {
     "data": {
      "text/html": [
       "<pre>recommendations finished on 165000/429601 queries. users per second: 1.52591e+06</pre>"
      ],
      "text/plain": [
       "recommendations finished on 165000/429601 queries. users per second: 1.52591e+06"
      ]
     },
     "metadata": {},
     "output_type": "display_data"
    },
    {
     "data": {
      "text/html": [
       "<pre>recommendations finished on 166000/429601 queries. users per second: 1.52936e+06</pre>"
      ],
      "text/plain": [
       "recommendations finished on 166000/429601 queries. users per second: 1.52936e+06"
      ]
     },
     "metadata": {},
     "output_type": "display_data"
    },
    {
     "data": {
      "text/html": [
       "<pre>recommendations finished on 167000/429601 queries. users per second: 1.53241e+06</pre>"
      ],
      "text/plain": [
       "recommendations finished on 167000/429601 queries. users per second: 1.53241e+06"
      ]
     },
     "metadata": {},
     "output_type": "display_data"
    },
    {
     "data": {
      "text/html": [
       "<pre>recommendations finished on 168000/429601 queries. users per second: 1.53524e+06</pre>"
      ],
      "text/plain": [
       "recommendations finished on 168000/429601 queries. users per second: 1.53524e+06"
      ]
     },
     "metadata": {},
     "output_type": "display_data"
    },
    {
     "data": {
      "text/html": [
       "<pre>recommendations finished on 169000/429601 queries. users per second: 1.53842e+06</pre>"
      ],
      "text/plain": [
       "recommendations finished on 169000/429601 queries. users per second: 1.53842e+06"
      ]
     },
     "metadata": {},
     "output_type": "display_data"
    },
    {
     "data": {
      "text/html": [
       "<pre>recommendations finished on 170000/429601 queries. users per second: 1.54185e+06</pre>"
      ],
      "text/plain": [
       "recommendations finished on 170000/429601 queries. users per second: 1.54185e+06"
      ]
     },
     "metadata": {},
     "output_type": "display_data"
    },
    {
     "data": {
      "text/html": [
       "<pre>recommendations finished on 171000/429601 queries. users per second: 1.54446e+06</pre>"
      ],
      "text/plain": [
       "recommendations finished on 171000/429601 queries. users per second: 1.54446e+06"
      ]
     },
     "metadata": {},
     "output_type": "display_data"
    },
    {
     "data": {
      "text/html": [
       "<pre>recommendations finished on 172000/429601 queries. users per second: 1.54632e+06</pre>"
      ],
      "text/plain": [
       "recommendations finished on 172000/429601 queries. users per second: 1.54632e+06"
      ]
     },
     "metadata": {},
     "output_type": "display_data"
    },
    {
     "data": {
      "text/html": [
       "<pre>recommendations finished on 173000/429601 queries. users per second: 1.54821e+06</pre>"
      ],
      "text/plain": [
       "recommendations finished on 173000/429601 queries. users per second: 1.54821e+06"
      ]
     },
     "metadata": {},
     "output_type": "display_data"
    },
    {
     "data": {
      "text/html": [
       "<pre>recommendations finished on 174000/429601 queries. users per second: 1.54985e+06</pre>"
      ],
      "text/plain": [
       "recommendations finished on 174000/429601 queries. users per second: 1.54985e+06"
      ]
     },
     "metadata": {},
     "output_type": "display_data"
    },
    {
     "data": {
      "text/html": [
       "<pre>recommendations finished on 175000/429601 queries. users per second: 1.55139e+06</pre>"
      ],
      "text/plain": [
       "recommendations finished on 175000/429601 queries. users per second: 1.55139e+06"
      ]
     },
     "metadata": {},
     "output_type": "display_data"
    },
    {
     "data": {
      "text/html": [
       "<pre>recommendations finished on 176000/429601 queries. users per second: 1.55363e+06</pre>"
      ],
      "text/plain": [
       "recommendations finished on 176000/429601 queries. users per second: 1.55363e+06"
      ]
     },
     "metadata": {},
     "output_type": "display_data"
    },
    {
     "data": {
      "text/html": [
       "<pre>recommendations finished on 177000/429601 queries. users per second: 1.55544e+06</pre>"
      ],
      "text/plain": [
       "recommendations finished on 177000/429601 queries. users per second: 1.55544e+06"
      ]
     },
     "metadata": {},
     "output_type": "display_data"
    },
    {
     "data": {
      "text/html": [
       "<pre>recommendations finished on 178000/429601 queries. users per second: 1.55792e+06</pre>"
      ],
      "text/plain": [
       "recommendations finished on 178000/429601 queries. users per second: 1.55792e+06"
      ]
     },
     "metadata": {},
     "output_type": "display_data"
    },
    {
     "data": {
      "text/html": [
       "<pre>recommendations finished on 179000/429601 queries. users per second: 1.56027e+06</pre>"
      ],
      "text/plain": [
       "recommendations finished on 179000/429601 queries. users per second: 1.56027e+06"
      ]
     },
     "metadata": {},
     "output_type": "display_data"
    },
    {
     "data": {
      "text/html": [
       "<pre>recommendations finished on 180000/429601 queries. users per second: 1.56216e+06</pre>"
      ],
      "text/plain": [
       "recommendations finished on 180000/429601 queries. users per second: 1.56216e+06"
      ]
     },
     "metadata": {},
     "output_type": "display_data"
    },
    {
     "data": {
      "text/html": [
       "<pre>recommendations finished on 181000/429601 queries. users per second: 1.56385e+06</pre>"
      ],
      "text/plain": [
       "recommendations finished on 181000/429601 queries. users per second: 1.56385e+06"
      ]
     },
     "metadata": {},
     "output_type": "display_data"
    },
    {
     "data": {
      "text/html": [
       "<pre>recommendations finished on 182000/429601 queries. users per second: 1.56536e+06</pre>"
      ],
      "text/plain": [
       "recommendations finished on 182000/429601 queries. users per second: 1.56536e+06"
      ]
     },
     "metadata": {},
     "output_type": "display_data"
    },
    {
     "data": {
      "text/html": [
       "<pre>recommendations finished on 183000/429601 queries. users per second: 1.56677e+06</pre>"
      ],
      "text/plain": [
       "recommendations finished on 183000/429601 queries. users per second: 1.56677e+06"
      ]
     },
     "metadata": {},
     "output_type": "display_data"
    },
    {
     "data": {
      "text/html": [
       "<pre>recommendations finished on 184000/429601 queries. users per second: 1.56817e+06</pre>"
      ],
      "text/plain": [
       "recommendations finished on 184000/429601 queries. users per second: 1.56817e+06"
      ]
     },
     "metadata": {},
     "output_type": "display_data"
    },
    {
     "data": {
      "text/html": [
       "<pre>recommendations finished on 185000/429601 queries. users per second: 1.56756e+06</pre>"
      ],
      "text/plain": [
       "recommendations finished on 185000/429601 queries. users per second: 1.56756e+06"
      ]
     },
     "metadata": {},
     "output_type": "display_data"
    },
    {
     "data": {
      "text/html": [
       "<pre>recommendations finished on 186000/429601 queries. users per second: 1.48501e+06</pre>"
      ],
      "text/plain": [
       "recommendations finished on 186000/429601 queries. users per second: 1.48501e+06"
      ]
     },
     "metadata": {},
     "output_type": "display_data"
    },
    {
     "data": {
      "text/html": [
       "<pre>recommendations finished on 187000/429601 queries. users per second: 1.43493e+06</pre>"
      ],
      "text/plain": [
       "recommendations finished on 187000/429601 queries. users per second: 1.43493e+06"
      ]
     },
     "metadata": {},
     "output_type": "display_data"
    },
    {
     "data": {
      "text/html": [
       "<pre>recommendations finished on 188000/429601 queries. users per second: 1.42324e+06</pre>"
      ],
      "text/plain": [
       "recommendations finished on 188000/429601 queries. users per second: 1.42324e+06"
      ]
     },
     "metadata": {},
     "output_type": "display_data"
    },
    {
     "data": {
      "text/html": [
       "<pre>recommendations finished on 189000/429601 queries. users per second: 1.42102e+06</pre>"
      ],
      "text/plain": [
       "recommendations finished on 189000/429601 queries. users per second: 1.42102e+06"
      ]
     },
     "metadata": {},
     "output_type": "display_data"
    },
    {
     "data": {
      "text/html": [
       "<pre>recommendations finished on 190000/429601 queries. users per second: 1.42167e+06</pre>"
      ],
      "text/plain": [
       "recommendations finished on 190000/429601 queries. users per second: 1.42167e+06"
      ]
     },
     "metadata": {},
     "output_type": "display_data"
    },
    {
     "data": {
      "text/html": [
       "<pre>recommendations finished on 191000/429601 queries. users per second: 1.42272e+06</pre>"
      ],
      "text/plain": [
       "recommendations finished on 191000/429601 queries. users per second: 1.42272e+06"
      ]
     },
     "metadata": {},
     "output_type": "display_data"
    },
    {
     "data": {
      "text/html": [
       "<pre>recommendations finished on 192000/429601 queries. users per second: 1.42316e+06</pre>"
      ],
      "text/plain": [
       "recommendations finished on 192000/429601 queries. users per second: 1.42316e+06"
      ]
     },
     "metadata": {},
     "output_type": "display_data"
    },
    {
     "data": {
      "text/html": [
       "<pre>recommendations finished on 193000/429601 queries. users per second: 1.42465e+06</pre>"
      ],
      "text/plain": [
       "recommendations finished on 193000/429601 queries. users per second: 1.42465e+06"
      ]
     },
     "metadata": {},
     "output_type": "display_data"
    },
    {
     "data": {
      "text/html": [
       "<pre>recommendations finished on 194000/429601 queries. users per second: 1.42583e+06</pre>"
      ],
      "text/plain": [
       "recommendations finished on 194000/429601 queries. users per second: 1.42583e+06"
      ]
     },
     "metadata": {},
     "output_type": "display_data"
    },
    {
     "data": {
      "text/html": [
       "<pre>recommendations finished on 195000/429601 queries. users per second: 1.42615e+06</pre>"
      ],
      "text/plain": [
       "recommendations finished on 195000/429601 queries. users per second: 1.42615e+06"
      ]
     },
     "metadata": {},
     "output_type": "display_data"
    },
    {
     "data": {
      "text/html": [
       "<pre>recommendations finished on 196000/429601 queries. users per second: 1.42722e+06</pre>"
      ],
      "text/plain": [
       "recommendations finished on 196000/429601 queries. users per second: 1.42722e+06"
      ]
     },
     "metadata": {},
     "output_type": "display_data"
    },
    {
     "data": {
      "text/html": [
       "<pre>recommendations finished on 197000/429601 queries. users per second: 1.41974e+06</pre>"
      ],
      "text/plain": [
       "recommendations finished on 197000/429601 queries. users per second: 1.41974e+06"
      ]
     },
     "metadata": {},
     "output_type": "display_data"
    },
    {
     "data": {
      "text/html": [
       "<pre>recommendations finished on 198000/429601 queries. users per second: 1.42167e+06</pre>"
      ],
      "text/plain": [
       "recommendations finished on 198000/429601 queries. users per second: 1.42167e+06"
      ]
     },
     "metadata": {},
     "output_type": "display_data"
    },
    {
     "data": {
      "text/html": [
       "<pre>recommendations finished on 199000/429601 queries. users per second: 1.4239e+06</pre>"
      ],
      "text/plain": [
       "recommendations finished on 199000/429601 queries. users per second: 1.4239e+06"
      ]
     },
     "metadata": {},
     "output_type": "display_data"
    },
    {
     "data": {
      "text/html": [
       "<pre>recommendations finished on 200000/429601 queries. users per second: 1.42615e+06</pre>"
      ],
      "text/plain": [
       "recommendations finished on 200000/429601 queries. users per second: 1.42615e+06"
      ]
     },
     "metadata": {},
     "output_type": "display_data"
    },
    {
     "data": {
      "text/html": [
       "<pre>recommendations finished on 201000/429601 queries. users per second: 1.42693e+06</pre>"
      ],
      "text/plain": [
       "recommendations finished on 201000/429601 queries. users per second: 1.42693e+06"
      ]
     },
     "metadata": {},
     "output_type": "display_data"
    },
    {
     "data": {
      "text/html": [
       "<pre>recommendations finished on 202000/429601 queries. users per second: 1.42763e+06</pre>"
      ],
      "text/plain": [
       "recommendations finished on 202000/429601 queries. users per second: 1.42763e+06"
      ]
     },
     "metadata": {},
     "output_type": "display_data"
    },
    {
     "data": {
      "text/html": [
       "<pre>recommendations finished on 203000/429601 queries. users per second: 1.42041e+06</pre>"
      ],
      "text/plain": [
       "recommendations finished on 203000/429601 queries. users per second: 1.42041e+06"
      ]
     },
     "metadata": {},
     "output_type": "display_data"
    },
    {
     "data": {
      "text/html": [
       "<pre>recommendations finished on 204000/429601 queries. users per second: 1.42325e+06</pre>"
      ],
      "text/plain": [
       "recommendations finished on 204000/429601 queries. users per second: 1.42325e+06"
      ]
     },
     "metadata": {},
     "output_type": "display_data"
    },
    {
     "data": {
      "text/html": [
       "<pre>recommendations finished on 205000/429601 queries. users per second: 1.42624e+06</pre>"
      ],
      "text/plain": [
       "recommendations finished on 205000/429601 queries. users per second: 1.42624e+06"
      ]
     },
     "metadata": {},
     "output_type": "display_data"
    },
    {
     "data": {
      "text/html": [
       "<pre>recommendations finished on 206000/429601 queries. users per second: 1.42942e+06</pre>"
      ],
      "text/plain": [
       "recommendations finished on 206000/429601 queries. users per second: 1.42942e+06"
      ]
     },
     "metadata": {},
     "output_type": "display_data"
    },
    {
     "data": {
      "text/html": [
       "<pre>recommendations finished on 207000/429601 queries. users per second: 1.43237e+06</pre>"
      ],
      "text/plain": [
       "recommendations finished on 207000/429601 queries. users per second: 1.43237e+06"
      ]
     },
     "metadata": {},
     "output_type": "display_data"
    },
    {
     "data": {
      "text/html": [
       "<pre>recommendations finished on 208000/429601 queries. users per second: 1.43537e+06</pre>"
      ],
      "text/plain": [
       "recommendations finished on 208000/429601 queries. users per second: 1.43537e+06"
      ]
     },
     "metadata": {},
     "output_type": "display_data"
    },
    {
     "data": {
      "text/html": [
       "<pre>recommendations finished on 209000/429601 queries. users per second: 1.43824e+06</pre>"
      ],
      "text/plain": [
       "recommendations finished on 209000/429601 queries. users per second: 1.43824e+06"
      ]
     },
     "metadata": {},
     "output_type": "display_data"
    },
    {
     "data": {
      "text/html": [
       "<pre>recommendations finished on 210000/429601 queries. users per second: 1.44104e+06</pre>"
      ],
      "text/plain": [
       "recommendations finished on 210000/429601 queries. users per second: 1.44104e+06"
      ]
     },
     "metadata": {},
     "output_type": "display_data"
    },
    {
     "data": {
      "text/html": [
       "<pre>recommendations finished on 211000/429601 queries. users per second: 1.44328e+06</pre>"
      ],
      "text/plain": [
       "recommendations finished on 211000/429601 queries. users per second: 1.44328e+06"
      ]
     },
     "metadata": {},
     "output_type": "display_data"
    },
    {
     "data": {
      "text/html": [
       "<pre>recommendations finished on 212000/429601 queries. users per second: 1.44601e+06</pre>"
      ],
      "text/plain": [
       "recommendations finished on 212000/429601 queries. users per second: 1.44601e+06"
      ]
     },
     "metadata": {},
     "output_type": "display_data"
    },
    {
     "data": {
      "text/html": [
       "<pre>recommendations finished on 213000/429601 queries. users per second: 1.44885e+06</pre>"
      ],
      "text/plain": [
       "recommendations finished on 213000/429601 queries. users per second: 1.44885e+06"
      ]
     },
     "metadata": {},
     "output_type": "display_data"
    },
    {
     "data": {
      "text/html": [
       "<pre>recommendations finished on 214000/429601 queries. users per second: 1.4512e+06</pre>"
      ],
      "text/plain": [
       "recommendations finished on 214000/429601 queries. users per second: 1.4512e+06"
      ]
     },
     "metadata": {},
     "output_type": "display_data"
    },
    {
     "data": {
      "text/html": [
       "<pre>recommendations finished on 215000/429601 queries. users per second: 1.45413e+06</pre>"
      ],
      "text/plain": [
       "recommendations finished on 215000/429601 queries. users per second: 1.45413e+06"
      ]
     },
     "metadata": {},
     "output_type": "display_data"
    },
    {
     "data": {
      "text/html": [
       "<pre>recommendations finished on 216000/429601 queries. users per second: 1.45683e+06</pre>"
      ],
      "text/plain": [
       "recommendations finished on 216000/429601 queries. users per second: 1.45683e+06"
      ]
     },
     "metadata": {},
     "output_type": "display_data"
    },
    {
     "data": {
      "text/html": [
       "<pre>recommendations finished on 217000/429601 queries. users per second: 1.45949e+06</pre>"
      ],
      "text/plain": [
       "recommendations finished on 217000/429601 queries. users per second: 1.45949e+06"
      ]
     },
     "metadata": {},
     "output_type": "display_data"
    },
    {
     "data": {
      "text/html": [
       "<pre>recommendations finished on 218000/429601 queries. users per second: 1.46192e+06</pre>"
      ],
      "text/plain": [
       "recommendations finished on 218000/429601 queries. users per second: 1.46192e+06"
      ]
     },
     "metadata": {},
     "output_type": "display_data"
    },
    {
     "data": {
      "text/html": [
       "<pre>recommendations finished on 219000/429601 queries. users per second: 1.46471e+06</pre>"
      ],
      "text/plain": [
       "recommendations finished on 219000/429601 queries. users per second: 1.46471e+06"
      ]
     },
     "metadata": {},
     "output_type": "display_data"
    },
    {
     "data": {
      "text/html": [
       "<pre>recommendations finished on 220000/429601 queries. users per second: 1.46666e+06</pre>"
      ],
      "text/plain": [
       "recommendations finished on 220000/429601 queries. users per second: 1.46666e+06"
      ]
     },
     "metadata": {},
     "output_type": "display_data"
    },
    {
     "data": {
      "text/html": [
       "<pre>recommendations finished on 221000/429601 queries. users per second: 1.46195e+06</pre>"
      ],
      "text/plain": [
       "recommendations finished on 221000/429601 queries. users per second: 1.46195e+06"
      ]
     },
     "metadata": {},
     "output_type": "display_data"
    },
    {
     "data": {
      "text/html": [
       "<pre>recommendations finished on 222000/429601 queries. users per second: 1.46435e+06</pre>"
      ],
      "text/plain": [
       "recommendations finished on 222000/429601 queries. users per second: 1.46435e+06"
      ]
     },
     "metadata": {},
     "output_type": "display_data"
    },
    {
     "data": {
      "text/html": [
       "<pre>recommendations finished on 223000/429601 queries. users per second: 1.467e+06</pre>"
      ],
      "text/plain": [
       "recommendations finished on 223000/429601 queries. users per second: 1.467e+06"
      ]
     },
     "metadata": {},
     "output_type": "display_data"
    },
    {
     "data": {
      "text/html": [
       "<pre>recommendations finished on 224000/429601 queries. users per second: 1.46978e+06</pre>"
      ],
      "text/plain": [
       "recommendations finished on 224000/429601 queries. users per second: 1.46978e+06"
      ]
     },
     "metadata": {},
     "output_type": "display_data"
    },
    {
     "data": {
      "text/html": [
       "<pre>recommendations finished on 225000/429601 queries. users per second: 1.4722e+06</pre>"
      ],
      "text/plain": [
       "recommendations finished on 225000/429601 queries. users per second: 1.4722e+06"
      ]
     },
     "metadata": {},
     "output_type": "display_data"
    },
    {
     "data": {
      "text/html": [
       "<pre>recommendations finished on 226000/429601 queries. users per second: 1.4742e+06</pre>"
      ],
      "text/plain": [
       "recommendations finished on 226000/429601 queries. users per second: 1.4742e+06"
      ]
     },
     "metadata": {},
     "output_type": "display_data"
    },
    {
     "data": {
      "text/html": [
       "<pre>recommendations finished on 227000/429601 queries. users per second: 1.47599e+06</pre>"
      ],
      "text/plain": [
       "recommendations finished on 227000/429601 queries. users per second: 1.47599e+06"
      ]
     },
     "metadata": {},
     "output_type": "display_data"
    },
    {
     "data": {
      "text/html": [
       "<pre>recommendations finished on 228000/429601 queries. users per second: 1.47826e+06</pre>"
      ],
      "text/plain": [
       "recommendations finished on 228000/429601 queries. users per second: 1.47826e+06"
      ]
     },
     "metadata": {},
     "output_type": "display_data"
    },
    {
     "data": {
      "text/html": [
       "<pre>recommendations finished on 229000/429601 queries. users per second: 1.48047e+06</pre>"
      ],
      "text/plain": [
       "recommendations finished on 229000/429601 queries. users per second: 1.48047e+06"
      ]
     },
     "metadata": {},
     "output_type": "display_data"
    },
    {
     "data": {
      "text/html": [
       "<pre>recommendations finished on 230000/429601 queries. users per second: 1.48265e+06</pre>"
      ],
      "text/plain": [
       "recommendations finished on 230000/429601 queries. users per second: 1.48265e+06"
      ]
     },
     "metadata": {},
     "output_type": "display_data"
    },
    {
     "data": {
      "text/html": [
       "<pre>recommendations finished on 231000/429601 queries. users per second: 1.48504e+06</pre>"
      ],
      "text/plain": [
       "recommendations finished on 231000/429601 queries. users per second: 1.48504e+06"
      ]
     },
     "metadata": {},
     "output_type": "display_data"
    },
    {
     "data": {
      "text/html": [
       "<pre>recommendations finished on 232000/429601 queries. users per second: 1.48744e+06</pre>"
      ],
      "text/plain": [
       "recommendations finished on 232000/429601 queries. users per second: 1.48744e+06"
      ]
     },
     "metadata": {},
     "output_type": "display_data"
    },
    {
     "data": {
      "text/html": [
       "<pre>recommendations finished on 233000/429601 queries. users per second: 1.4897e+06</pre>"
      ],
      "text/plain": [
       "recommendations finished on 233000/429601 queries. users per second: 1.4897e+06"
      ]
     },
     "metadata": {},
     "output_type": "display_data"
    },
    {
     "data": {
      "text/html": [
       "<pre>recommendations finished on 234000/429601 queries. users per second: 1.4918e+06</pre>"
      ],
      "text/plain": [
       "recommendations finished on 234000/429601 queries. users per second: 1.4918e+06"
      ]
     },
     "metadata": {},
     "output_type": "display_data"
    },
    {
     "data": {
      "text/html": [
       "<pre>recommendations finished on 235000/429601 queries. users per second: 1.49405e+06</pre>"
      ],
      "text/plain": [
       "recommendations finished on 235000/429601 queries. users per second: 1.49405e+06"
      ]
     },
     "metadata": {},
     "output_type": "display_data"
    },
    {
     "data": {
      "text/html": [
       "<pre>recommendations finished on 236000/429601 queries. users per second: 1.49625e+06</pre>"
      ],
      "text/plain": [
       "recommendations finished on 236000/429601 queries. users per second: 1.49625e+06"
      ]
     },
     "metadata": {},
     "output_type": "display_data"
    },
    {
     "data": {
      "text/html": [
       "<pre>recommendations finished on 237000/429601 queries. users per second: 1.49839e+06</pre>"
      ],
      "text/plain": [
       "recommendations finished on 237000/429601 queries. users per second: 1.49839e+06"
      ]
     },
     "metadata": {},
     "output_type": "display_data"
    },
    {
     "data": {
      "text/html": [
       "<pre>recommendations finished on 238000/429601 queries. users per second: 1.49995e+06</pre>"
      ],
      "text/plain": [
       "recommendations finished on 238000/429601 queries. users per second: 1.49995e+06"
      ]
     },
     "metadata": {},
     "output_type": "display_data"
    },
    {
     "data": {
      "text/html": [
       "<pre>recommendations finished on 239000/429601 queries. users per second: 1.50145e+06</pre>"
      ],
      "text/plain": [
       "recommendations finished on 239000/429601 queries. users per second: 1.50145e+06"
      ]
     },
     "metadata": {},
     "output_type": "display_data"
    },
    {
     "data": {
      "text/html": [
       "<pre>recommendations finished on 240000/429601 queries. users per second: 1.50316e+06</pre>"
      ],
      "text/plain": [
       "recommendations finished on 240000/429601 queries. users per second: 1.50316e+06"
      ]
     },
     "metadata": {},
     "output_type": "display_data"
    },
    {
     "data": {
      "text/html": [
       "<pre>recommendations finished on 241000/429601 queries. users per second: 1.50515e+06</pre>"
      ],
      "text/plain": [
       "recommendations finished on 241000/429601 queries. users per second: 1.50515e+06"
      ]
     },
     "metadata": {},
     "output_type": "display_data"
    },
    {
     "data": {
      "text/html": [
       "<pre>recommendations finished on 242000/429601 queries. users per second: 1.50723e+06</pre>"
      ],
      "text/plain": [
       "recommendations finished on 242000/429601 queries. users per second: 1.50723e+06"
      ]
     },
     "metadata": {},
     "output_type": "display_data"
    },
    {
     "data": {
      "text/html": [
       "<pre>recommendations finished on 243000/429601 queries. users per second: 1.50947e+06</pre>"
      ],
      "text/plain": [
       "recommendations finished on 243000/429601 queries. users per second: 1.50947e+06"
      ]
     },
     "metadata": {},
     "output_type": "display_data"
    },
    {
     "data": {
      "text/html": [
       "<pre>recommendations finished on 244000/429601 queries. users per second: 1.51143e+06</pre>"
      ],
      "text/plain": [
       "recommendations finished on 244000/429601 queries. users per second: 1.51143e+06"
      ]
     },
     "metadata": {},
     "output_type": "display_data"
    },
    {
     "data": {
      "text/html": [
       "<pre>recommendations finished on 245000/429601 queries. users per second: 1.51304e+06</pre>"
      ],
      "text/plain": [
       "recommendations finished on 245000/429601 queries. users per second: 1.51304e+06"
      ]
     },
     "metadata": {},
     "output_type": "display_data"
    },
    {
     "data": {
      "text/html": [
       "<pre>recommendations finished on 246000/429601 queries. users per second: 1.51275e+06</pre>"
      ],
      "text/plain": [
       "recommendations finished on 246000/429601 queries. users per second: 1.51275e+06"
      ]
     },
     "metadata": {},
     "output_type": "display_data"
    },
    {
     "data": {
      "text/html": [
       "<pre>recommendations finished on 247000/429601 queries. users per second: 1.5117e+06</pre>"
      ],
      "text/plain": [
       "recommendations finished on 247000/429601 queries. users per second: 1.5117e+06"
      ]
     },
     "metadata": {},
     "output_type": "display_data"
    },
    {
     "data": {
      "text/html": [
       "<pre>recommendations finished on 248000/429601 queries. users per second: 1.50506e+06</pre>"
      ],
      "text/plain": [
       "recommendations finished on 248000/429601 queries. users per second: 1.50506e+06"
      ]
     },
     "metadata": {},
     "output_type": "display_data"
    },
    {
     "data": {
      "text/html": [
       "<pre>recommendations finished on 249000/429601 queries. users per second: 1.50051e+06</pre>"
      ],
      "text/plain": [
       "recommendations finished on 249000/429601 queries. users per second: 1.50051e+06"
      ]
     },
     "metadata": {},
     "output_type": "display_data"
    },
    {
     "data": {
      "text/html": [
       "<pre>recommendations finished on 250000/429601 queries. users per second: 1.50266e+06</pre>"
      ],
      "text/plain": [
       "recommendations finished on 250000/429601 queries. users per second: 1.50266e+06"
      ]
     },
     "metadata": {},
     "output_type": "display_data"
    },
    {
     "data": {
      "text/html": [
       "<pre>recommendations finished on 251000/429601 queries. users per second: 1.50475e+06</pre>"
      ],
      "text/plain": [
       "recommendations finished on 251000/429601 queries. users per second: 1.50475e+06"
      ]
     },
     "metadata": {},
     "output_type": "display_data"
    },
    {
     "data": {
      "text/html": [
       "<pre>recommendations finished on 252000/429601 queries. users per second: 1.50678e+06</pre>"
      ],
      "text/plain": [
       "recommendations finished on 252000/429601 queries. users per second: 1.50678e+06"
      ]
     },
     "metadata": {},
     "output_type": "display_data"
    },
    {
     "data": {
      "text/html": [
       "<pre>recommendations finished on 253000/429601 queries. users per second: 1.50875e+06</pre>"
      ],
      "text/plain": [
       "recommendations finished on 253000/429601 queries. users per second: 1.50875e+06"
      ]
     },
     "metadata": {},
     "output_type": "display_data"
    },
    {
     "data": {
      "text/html": [
       "<pre>recommendations finished on 254000/429601 queries. users per second: 1.51063e+06</pre>"
      ],
      "text/plain": [
       "recommendations finished on 254000/429601 queries. users per second: 1.51063e+06"
      ]
     },
     "metadata": {},
     "output_type": "display_data"
    },
    {
     "data": {
      "text/html": [
       "<pre>recommendations finished on 255000/429601 queries. users per second: 1.51158e+06</pre>"
      ],
      "text/plain": [
       "recommendations finished on 255000/429601 queries. users per second: 1.51158e+06"
      ]
     },
     "metadata": {},
     "output_type": "display_data"
    },
    {
     "data": {
      "text/html": [
       "<pre>recommendations finished on 256000/429601 queries. users per second: 1.51265e+06</pre>"
      ],
      "text/plain": [
       "recommendations finished on 256000/429601 queries. users per second: 1.51265e+06"
      ]
     },
     "metadata": {},
     "output_type": "display_data"
    },
    {
     "data": {
      "text/html": [
       "<pre>recommendations finished on 257000/429601 queries. users per second: 1.51429e+06</pre>"
      ],
      "text/plain": [
       "recommendations finished on 257000/429601 queries. users per second: 1.51429e+06"
      ]
     },
     "metadata": {},
     "output_type": "display_data"
    },
    {
     "data": {
      "text/html": [
       "<pre>recommendations finished on 258000/429601 queries. users per second: 1.51628e+06</pre>"
      ],
      "text/plain": [
       "recommendations finished on 258000/429601 queries. users per second: 1.51628e+06"
      ]
     },
     "metadata": {},
     "output_type": "display_data"
    },
    {
     "data": {
      "text/html": [
       "<pre>recommendations finished on 259000/429601 queries. users per second: 1.5111e+06</pre>"
      ],
      "text/plain": [
       "recommendations finished on 259000/429601 queries. users per second: 1.5111e+06"
      ]
     },
     "metadata": {},
     "output_type": "display_data"
    },
    {
     "data": {
      "text/html": [
       "<pre>recommendations finished on 260000/429601 queries. users per second: 1.51314e+06</pre>"
      ],
      "text/plain": [
       "recommendations finished on 260000/429601 queries. users per second: 1.51314e+06"
      ]
     },
     "metadata": {},
     "output_type": "display_data"
    },
    {
     "data": {
      "text/html": [
       "<pre>recommendations finished on 261000/429601 queries. users per second: 1.51483e+06</pre>"
      ],
      "text/plain": [
       "recommendations finished on 261000/429601 queries. users per second: 1.51483e+06"
      ]
     },
     "metadata": {},
     "output_type": "display_data"
    },
    {
     "data": {
      "text/html": [
       "<pre>recommendations finished on 262000/429601 queries. users per second: 1.51656e+06</pre>"
      ],
      "text/plain": [
       "recommendations finished on 262000/429601 queries. users per second: 1.51656e+06"
      ]
     },
     "metadata": {},
     "output_type": "display_data"
    },
    {
     "data": {
      "text/html": [
       "<pre>recommendations finished on 263000/429601 queries. users per second: 1.51861e+06</pre>"
      ],
      "text/plain": [
       "recommendations finished on 263000/429601 queries. users per second: 1.51861e+06"
      ]
     },
     "metadata": {},
     "output_type": "display_data"
    },
    {
     "data": {
      "text/html": [
       "<pre>recommendations finished on 264000/429601 queries. users per second: 1.52011e+06</pre>"
      ],
      "text/plain": [
       "recommendations finished on 264000/429601 queries. users per second: 1.52011e+06"
      ]
     },
     "metadata": {},
     "output_type": "display_data"
    },
    {
     "data": {
      "text/html": [
       "<pre>recommendations finished on 265000/429601 queries. users per second: 1.52168e+06</pre>"
      ],
      "text/plain": [
       "recommendations finished on 265000/429601 queries. users per second: 1.52168e+06"
      ]
     },
     "metadata": {},
     "output_type": "display_data"
    },
    {
     "data": {
      "text/html": [
       "<pre>recommendations finished on 266000/429601 queries. users per second: 1.52338e+06</pre>"
      ],
      "text/plain": [
       "recommendations finished on 266000/429601 queries. users per second: 1.52338e+06"
      ]
     },
     "metadata": {},
     "output_type": "display_data"
    },
    {
     "data": {
      "text/html": [
       "<pre>recommendations finished on 267000/429601 queries. users per second: 1.52513e+06</pre>"
      ],
      "text/plain": [
       "recommendations finished on 267000/429601 queries. users per second: 1.52513e+06"
      ]
     },
     "metadata": {},
     "output_type": "display_data"
    },
    {
     "data": {
      "text/html": [
       "<pre>recommendations finished on 268000/429601 queries. users per second: 1.52719e+06</pre>"
      ],
      "text/plain": [
       "recommendations finished on 268000/429601 queries. users per second: 1.52719e+06"
      ]
     },
     "metadata": {},
     "output_type": "display_data"
    },
    {
     "data": {
      "text/html": [
       "<pre>recommendations finished on 269000/429601 queries. users per second: 1.52921e+06</pre>"
      ],
      "text/plain": [
       "recommendations finished on 269000/429601 queries. users per second: 1.52921e+06"
      ]
     },
     "metadata": {},
     "output_type": "display_data"
    },
    {
     "data": {
      "text/html": [
       "<pre>recommendations finished on 270000/429601 queries. users per second: 1.5312e+06</pre>"
      ],
      "text/plain": [
       "recommendations finished on 270000/429601 queries. users per second: 1.5312e+06"
      ]
     },
     "metadata": {},
     "output_type": "display_data"
    },
    {
     "data": {
      "text/html": [
       "<pre>recommendations finished on 271000/429601 queries. users per second: 1.53227e+06</pre>"
      ],
      "text/plain": [
       "recommendations finished on 271000/429601 queries. users per second: 1.53227e+06"
      ]
     },
     "metadata": {},
     "output_type": "display_data"
    },
    {
     "data": {
      "text/html": [
       "<pre>recommendations finished on 272000/429601 queries. users per second: 1.5331e+06</pre>"
      ],
      "text/plain": [
       "recommendations finished on 272000/429601 queries. users per second: 1.5331e+06"
      ]
     },
     "metadata": {},
     "output_type": "display_data"
    },
    {
     "data": {
      "text/html": [
       "<pre>recommendations finished on 273000/429601 queries. users per second: 1.53409e+06</pre>"
      ],
      "text/plain": [
       "recommendations finished on 273000/429601 queries. users per second: 1.53409e+06"
      ]
     },
     "metadata": {},
     "output_type": "display_data"
    },
    {
     "data": {
      "text/html": [
       "<pre>recommendations finished on 274000/429601 queries. users per second: 1.52826e+06</pre>"
      ],
      "text/plain": [
       "recommendations finished on 274000/429601 queries. users per second: 1.52826e+06"
      ]
     },
     "metadata": {},
     "output_type": "display_data"
    },
    {
     "data": {
      "text/html": [
       "<pre>recommendations finished on 275000/429601 queries. users per second: 1.53025e+06</pre>"
      ],
      "text/plain": [
       "recommendations finished on 275000/429601 queries. users per second: 1.53025e+06"
      ]
     },
     "metadata": {},
     "output_type": "display_data"
    },
    {
     "data": {
      "text/html": [
       "<pre>recommendations finished on 276000/429601 queries. users per second: 1.53184e+06</pre>"
      ],
      "text/plain": [
       "recommendations finished on 276000/429601 queries. users per second: 1.53184e+06"
      ]
     },
     "metadata": {},
     "output_type": "display_data"
    },
    {
     "data": {
      "text/html": [
       "<pre>recommendations finished on 277000/429601 queries. users per second: 1.53365e+06</pre>"
      ],
      "text/plain": [
       "recommendations finished on 277000/429601 queries. users per second: 1.53365e+06"
      ]
     },
     "metadata": {},
     "output_type": "display_data"
    },
    {
     "data": {
      "text/html": [
       "<pre>recommendations finished on 278000/429601 queries. users per second: 1.53562e+06</pre>"
      ],
      "text/plain": [
       "recommendations finished on 278000/429601 queries. users per second: 1.53562e+06"
      ]
     },
     "metadata": {},
     "output_type": "display_data"
    },
    {
     "data": {
      "text/html": [
       "<pre>recommendations finished on 279000/429601 queries. users per second: 1.53738e+06</pre>"
      ],
      "text/plain": [
       "recommendations finished on 279000/429601 queries. users per second: 1.53738e+06"
      ]
     },
     "metadata": {},
     "output_type": "display_data"
    },
    {
     "data": {
      "text/html": [
       "<pre>recommendations finished on 280000/429601 queries. users per second: 1.53947e+06</pre>"
      ],
      "text/plain": [
       "recommendations finished on 280000/429601 queries. users per second: 1.53947e+06"
      ]
     },
     "metadata": {},
     "output_type": "display_data"
    },
    {
     "data": {
      "text/html": [
       "<pre>recommendations finished on 281000/429601 queries. users per second: 1.54136e+06</pre>"
      ],
      "text/plain": [
       "recommendations finished on 281000/429601 queries. users per second: 1.54136e+06"
      ]
     },
     "metadata": {},
     "output_type": "display_data"
    },
    {
     "data": {
      "text/html": [
       "<pre>recommendations finished on 282000/429601 queries. users per second: 1.54312e+06</pre>"
      ],
      "text/plain": [
       "recommendations finished on 282000/429601 queries. users per second: 1.54312e+06"
      ]
     },
     "metadata": {},
     "output_type": "display_data"
    },
    {
     "data": {
      "text/html": [
       "<pre>recommendations finished on 283000/429601 queries. users per second: 1.54485e+06</pre>"
      ],
      "text/plain": [
       "recommendations finished on 283000/429601 queries. users per second: 1.54485e+06"
      ]
     },
     "metadata": {},
     "output_type": "display_data"
    },
    {
     "data": {
      "text/html": [
       "<pre>recommendations finished on 284000/429601 queries. users per second: 1.54649e+06</pre>"
      ],
      "text/plain": [
       "recommendations finished on 284000/429601 queries. users per second: 1.54649e+06"
      ]
     },
     "metadata": {},
     "output_type": "display_data"
    },
    {
     "data": {
      "text/html": [
       "<pre>recommendations finished on 285000/429601 queries. users per second: 1.548e+06</pre>"
      ],
      "text/plain": [
       "recommendations finished on 285000/429601 queries. users per second: 1.548e+06"
      ]
     },
     "metadata": {},
     "output_type": "display_data"
    },
    {
     "data": {
      "text/html": [
       "<pre>recommendations finished on 286000/429601 queries. users per second: 1.54888e+06</pre>"
      ],
      "text/plain": [
       "recommendations finished on 286000/429601 queries. users per second: 1.54888e+06"
      ]
     },
     "metadata": {},
     "output_type": "display_data"
    },
    {
     "data": {
      "text/html": [
       "<pre>recommendations finished on 287000/429601 queries. users per second: 1.54952e+06</pre>"
      ],
      "text/plain": [
       "recommendations finished on 287000/429601 queries. users per second: 1.54952e+06"
      ]
     },
     "metadata": {},
     "output_type": "display_data"
    },
    {
     "data": {
      "text/html": [
       "<pre>recommendations finished on 288000/429601 queries. users per second: 1.55058e+06</pre>"
      ],
      "text/plain": [
       "recommendations finished on 288000/429601 queries. users per second: 1.55058e+06"
      ]
     },
     "metadata": {},
     "output_type": "display_data"
    },
    {
     "data": {
      "text/html": [
       "<pre>recommendations finished on 289000/429601 queries. users per second: 1.55222e+06</pre>"
      ],
      "text/plain": [
       "recommendations finished on 289000/429601 queries. users per second: 1.55222e+06"
      ]
     },
     "metadata": {},
     "output_type": "display_data"
    },
    {
     "data": {
      "text/html": [
       "<pre>recommendations finished on 290000/429601 queries. users per second: 1.55409e+06</pre>"
      ],
      "text/plain": [
       "recommendations finished on 290000/429601 queries. users per second: 1.55409e+06"
      ]
     },
     "metadata": {},
     "output_type": "display_data"
    },
    {
     "data": {
      "text/html": [
       "<pre>recommendations finished on 291000/429601 queries. users per second: 1.55582e+06</pre>"
      ],
      "text/plain": [
       "recommendations finished on 291000/429601 queries. users per second: 1.55582e+06"
      ]
     },
     "metadata": {},
     "output_type": "display_data"
    },
    {
     "data": {
      "text/html": [
       "<pre>recommendations finished on 292000/429601 queries. users per second: 1.55757e+06</pre>"
      ],
      "text/plain": [
       "recommendations finished on 292000/429601 queries. users per second: 1.55757e+06"
      ]
     },
     "metadata": {},
     "output_type": "display_data"
    },
    {
     "data": {
      "text/html": [
       "<pre>recommendations finished on 293000/429601 queries. users per second: 1.55922e+06</pre>"
      ],
      "text/plain": [
       "recommendations finished on 293000/429601 queries. users per second: 1.55922e+06"
      ]
     },
     "metadata": {},
     "output_type": "display_data"
    },
    {
     "data": {
      "text/html": [
       "<pre>recommendations finished on 294000/429601 queries. users per second: 1.56111e+06</pre>"
      ],
      "text/plain": [
       "recommendations finished on 294000/429601 queries. users per second: 1.56111e+06"
      ]
     },
     "metadata": {},
     "output_type": "display_data"
    },
    {
     "data": {
      "text/html": [
       "<pre>recommendations finished on 295000/429601 queries. users per second: 1.56308e+06</pre>"
      ],
      "text/plain": [
       "recommendations finished on 295000/429601 queries. users per second: 1.56308e+06"
      ]
     },
     "metadata": {},
     "output_type": "display_data"
    },
    {
     "data": {
      "text/html": [
       "<pre>recommendations finished on 296000/429601 queries. users per second: 1.56319e+06</pre>"
      ],
      "text/plain": [
       "recommendations finished on 296000/429601 queries. users per second: 1.56319e+06"
      ]
     },
     "metadata": {},
     "output_type": "display_data"
    },
    {
     "data": {
      "text/html": [
       "<pre>recommendations finished on 297000/429601 queries. users per second: 1.54515e+06</pre>"
      ],
      "text/plain": [
       "recommendations finished on 297000/429601 queries. users per second: 1.54515e+06"
      ]
     },
     "metadata": {},
     "output_type": "display_data"
    },
    {
     "data": {
      "text/html": [
       "<pre>recommendations finished on 298000/429601 queries. users per second: 1.54644e+06</pre>"
      ],
      "text/plain": [
       "recommendations finished on 298000/429601 queries. users per second: 1.54644e+06"
      ]
     },
     "metadata": {},
     "output_type": "display_data"
    },
    {
     "data": {
      "text/html": [
       "<pre>recommendations finished on 299000/429601 queries. users per second: 1.54801e+06</pre>"
      ],
      "text/plain": [
       "recommendations finished on 299000/429601 queries. users per second: 1.54801e+06"
      ]
     },
     "metadata": {},
     "output_type": "display_data"
    },
    {
     "data": {
      "text/html": [
       "<pre>recommendations finished on 300000/429601 queries. users per second: 1.5482e+06</pre>"
      ],
      "text/plain": [
       "recommendations finished on 300000/429601 queries. users per second: 1.5482e+06"
      ]
     },
     "metadata": {},
     "output_type": "display_data"
    },
    {
     "data": {
      "text/html": [
       "<pre>recommendations finished on 301000/429601 queries. users per second: 1.54882e+06</pre>"
      ],
      "text/plain": [
       "recommendations finished on 301000/429601 queries. users per second: 1.54882e+06"
      ]
     },
     "metadata": {},
     "output_type": "display_data"
    },
    {
     "data": {
      "text/html": [
       "<pre>recommendations finished on 302000/429601 queries. users per second: 1.55012e+06</pre>"
      ],
      "text/plain": [
       "recommendations finished on 302000/429601 queries. users per second: 1.55012e+06"
      ]
     },
     "metadata": {},
     "output_type": "display_data"
    },
    {
     "data": {
      "text/html": [
       "<pre>recommendations finished on 303000/429601 queries. users per second: 1.55128e+06</pre>"
      ],
      "text/plain": [
       "recommendations finished on 303000/429601 queries. users per second: 1.55128e+06"
      ]
     },
     "metadata": {},
     "output_type": "display_data"
    },
    {
     "data": {
      "text/html": [
       "<pre>recommendations finished on 304000/429601 queries. users per second: 1.55253e+06</pre>"
      ],
      "text/plain": [
       "recommendations finished on 304000/429601 queries. users per second: 1.55253e+06"
      ]
     },
     "metadata": {},
     "output_type": "display_data"
    },
    {
     "data": {
      "text/html": [
       "<pre>recommendations finished on 305000/429601 queries. users per second: 1.55372e+06</pre>"
      ],
      "text/plain": [
       "recommendations finished on 305000/429601 queries. users per second: 1.55372e+06"
      ]
     },
     "metadata": {},
     "output_type": "display_data"
    },
    {
     "data": {
      "text/html": [
       "<pre>recommendations finished on 306000/429601 queries. users per second: 1.55513e+06</pre>"
      ],
      "text/plain": [
       "recommendations finished on 306000/429601 queries. users per second: 1.55513e+06"
      ]
     },
     "metadata": {},
     "output_type": "display_data"
    },
    {
     "data": {
      "text/html": [
       "<pre>recommendations finished on 307000/429601 queries. users per second: 1.55309e+06</pre>"
      ],
      "text/plain": [
       "recommendations finished on 307000/429601 queries. users per second: 1.55309e+06"
      ]
     },
     "metadata": {},
     "output_type": "display_data"
    },
    {
     "data": {
      "text/html": [
       "<pre>recommendations finished on 308000/429601 queries. users per second: 1.55492e+06</pre>"
      ],
      "text/plain": [
       "recommendations finished on 308000/429601 queries. users per second: 1.55492e+06"
      ]
     },
     "metadata": {},
     "output_type": "display_data"
    },
    {
     "data": {
      "text/html": [
       "<pre>recommendations finished on 309000/429601 queries. users per second: 1.55677e+06</pre>"
      ],
      "text/plain": [
       "recommendations finished on 309000/429601 queries. users per second: 1.55677e+06"
      ]
     },
     "metadata": {},
     "output_type": "display_data"
    },
    {
     "data": {
      "text/html": [
       "<pre>recommendations finished on 310000/429601 queries. users per second: 1.55811e+06</pre>"
      ],
      "text/plain": [
       "recommendations finished on 310000/429601 queries. users per second: 1.55811e+06"
      ]
     },
     "metadata": {},
     "output_type": "display_data"
    },
    {
     "data": {
      "text/html": [
       "<pre>recommendations finished on 311000/429601 queries. users per second: 1.55962e+06</pre>"
      ],
      "text/plain": [
       "recommendations finished on 311000/429601 queries. users per second: 1.55962e+06"
      ]
     },
     "metadata": {},
     "output_type": "display_data"
    },
    {
     "data": {
      "text/html": [
       "<pre>recommendations finished on 312000/429601 queries. users per second: 1.56119e+06</pre>"
      ],
      "text/plain": [
       "recommendations finished on 312000/429601 queries. users per second: 1.56119e+06"
      ]
     },
     "metadata": {},
     "output_type": "display_data"
    },
    {
     "data": {
      "text/html": [
       "<pre>recommendations finished on 313000/429601 queries. users per second: 1.56254e+06</pre>"
      ],
      "text/plain": [
       "recommendations finished on 313000/429601 queries. users per second: 1.56254e+06"
      ]
     },
     "metadata": {},
     "output_type": "display_data"
    },
    {
     "data": {
      "text/html": [
       "<pre>recommendations finished on 314000/429601 queries. users per second: 1.56431e+06</pre>"
      ],
      "text/plain": [
       "recommendations finished on 314000/429601 queries. users per second: 1.56431e+06"
      ]
     },
     "metadata": {},
     "output_type": "display_data"
    },
    {
     "data": {
      "text/html": [
       "<pre>recommendations finished on 315000/429601 queries. users per second: 1.56609e+06</pre>"
      ],
      "text/plain": [
       "recommendations finished on 315000/429601 queries. users per second: 1.56609e+06"
      ]
     },
     "metadata": {},
     "output_type": "display_data"
    },
    {
     "data": {
      "text/html": [
       "<pre>recommendations finished on 316000/429601 queries. users per second: 1.56404e+06</pre>"
      ],
      "text/plain": [
       "recommendations finished on 316000/429601 queries. users per second: 1.56404e+06"
      ]
     },
     "metadata": {},
     "output_type": "display_data"
    },
    {
     "data": {
      "text/html": [
       "<pre>recommendations finished on 317000/429601 queries. users per second: 1.56537e+06</pre>"
      ],
      "text/plain": [
       "recommendations finished on 317000/429601 queries. users per second: 1.56537e+06"
      ]
     },
     "metadata": {},
     "output_type": "display_data"
    },
    {
     "data": {
      "text/html": [
       "<pre>recommendations finished on 318000/429601 queries. users per second: 1.56721e+06</pre>"
      ],
      "text/plain": [
       "recommendations finished on 318000/429601 queries. users per second: 1.56721e+06"
      ]
     },
     "metadata": {},
     "output_type": "display_data"
    },
    {
     "data": {
      "text/html": [
       "<pre>recommendations finished on 319000/429601 queries. users per second: 1.56899e+06</pre>"
      ],
      "text/plain": [
       "recommendations finished on 319000/429601 queries. users per second: 1.56899e+06"
      ]
     },
     "metadata": {},
     "output_type": "display_data"
    },
    {
     "data": {
      "text/html": [
       "<pre>recommendations finished on 320000/429601 queries. users per second: 1.57072e+06</pre>"
      ],
      "text/plain": [
       "recommendations finished on 320000/429601 queries. users per second: 1.57072e+06"
      ]
     },
     "metadata": {},
     "output_type": "display_data"
    },
    {
     "data": {
      "text/html": [
       "<pre>recommendations finished on 321000/429601 queries. users per second: 1.57247e+06</pre>"
      ],
      "text/plain": [
       "recommendations finished on 321000/429601 queries. users per second: 1.57247e+06"
      ]
     },
     "metadata": {},
     "output_type": "display_data"
    },
    {
     "data": {
      "text/html": [
       "<pre>recommendations finished on 322000/429601 queries. users per second: 1.57404e+06</pre>"
      ],
      "text/plain": [
       "recommendations finished on 322000/429601 queries. users per second: 1.57404e+06"
      ]
     },
     "metadata": {},
     "output_type": "display_data"
    },
    {
     "data": {
      "text/html": [
       "<pre>recommendations finished on 323000/429601 queries. users per second: 1.57566e+06</pre>"
      ],
      "text/plain": [
       "recommendations finished on 323000/429601 queries. users per second: 1.57566e+06"
      ]
     },
     "metadata": {},
     "output_type": "display_data"
    },
    {
     "data": {
      "text/html": [
       "<pre>recommendations finished on 324000/429601 queries. users per second: 1.57682e+06</pre>"
      ],
      "text/plain": [
       "recommendations finished on 324000/429601 queries. users per second: 1.57682e+06"
      ]
     },
     "metadata": {},
     "output_type": "display_data"
    },
    {
     "data": {
      "text/html": [
       "<pre>recommendations finished on 325000/429601 queries. users per second: 1.578e+06</pre>"
      ],
      "text/plain": [
       "recommendations finished on 325000/429601 queries. users per second: 1.578e+06"
      ]
     },
     "metadata": {},
     "output_type": "display_data"
    },
    {
     "data": {
      "text/html": [
       "<pre>recommendations finished on 326000/429601 queries. users per second: 1.57983e+06</pre>"
      ],
      "text/plain": [
       "recommendations finished on 326000/429601 queries. users per second: 1.57983e+06"
      ]
     },
     "metadata": {},
     "output_type": "display_data"
    },
    {
     "data": {
      "text/html": [
       "<pre>recommendations finished on 327000/429601 queries. users per second: 1.5815e+06</pre>"
      ],
      "text/plain": [
       "recommendations finished on 327000/429601 queries. users per second: 1.5815e+06"
      ]
     },
     "metadata": {},
     "output_type": "display_data"
    },
    {
     "data": {
      "text/html": [
       "<pre>recommendations finished on 328000/429601 queries. users per second: 1.58327e+06</pre>"
      ],
      "text/plain": [
       "recommendations finished on 328000/429601 queries. users per second: 1.58327e+06"
      ]
     },
     "metadata": {},
     "output_type": "display_data"
    },
    {
     "data": {
      "text/html": [
       "<pre>recommendations finished on 329000/429601 queries. users per second: 1.58138e+06</pre>"
      ],
      "text/plain": [
       "recommendations finished on 329000/429601 queries. users per second: 1.58138e+06"
      ]
     },
     "metadata": {},
     "output_type": "display_data"
    },
    {
     "data": {
      "text/html": [
       "<pre>recommendations finished on 330000/429601 queries. users per second: 1.58292e+06</pre>"
      ],
      "text/plain": [
       "recommendations finished on 330000/429601 queries. users per second: 1.58292e+06"
      ]
     },
     "metadata": {},
     "output_type": "display_data"
    },
    {
     "data": {
      "text/html": [
       "<pre>recommendations finished on 331000/429601 queries. users per second: 1.5841e+06</pre>"
      ],
      "text/plain": [
       "recommendations finished on 331000/429601 queries. users per second: 1.5841e+06"
      ]
     },
     "metadata": {},
     "output_type": "display_data"
    },
    {
     "data": {
      "text/html": [
       "<pre>recommendations finished on 332000/429601 queries. users per second: 1.58522e+06</pre>"
      ],
      "text/plain": [
       "recommendations finished on 332000/429601 queries. users per second: 1.58522e+06"
      ]
     },
     "metadata": {},
     "output_type": "display_data"
    },
    {
     "data": {
      "text/html": [
       "<pre>recommendations finished on 333000/429601 queries. users per second: 1.58665e+06</pre>"
      ],
      "text/plain": [
       "recommendations finished on 333000/429601 queries. users per second: 1.58665e+06"
      ]
     },
     "metadata": {},
     "output_type": "display_data"
    },
    {
     "data": {
      "text/html": [
       "<pre>recommendations finished on 334000/429601 queries. users per second: 1.58822e+06</pre>"
      ],
      "text/plain": [
       "recommendations finished on 334000/429601 queries. users per second: 1.58822e+06"
      ]
     },
     "metadata": {},
     "output_type": "display_data"
    },
    {
     "data": {
      "text/html": [
       "<pre>recommendations finished on 335000/429601 queries. users per second: 1.58997e+06</pre>"
      ],
      "text/plain": [
       "recommendations finished on 335000/429601 queries. users per second: 1.58997e+06"
      ]
     },
     "metadata": {},
     "output_type": "display_data"
    },
    {
     "data": {
      "text/html": [
       "<pre>recommendations finished on 336000/429601 queries. users per second: 1.59172e+06</pre>"
      ],
      "text/plain": [
       "recommendations finished on 336000/429601 queries. users per second: 1.59172e+06"
      ]
     },
     "metadata": {},
     "output_type": "display_data"
    },
    {
     "data": {
      "text/html": [
       "<pre>recommendations finished on 337000/429601 queries. users per second: 1.59338e+06</pre>"
      ],
      "text/plain": [
       "recommendations finished on 337000/429601 queries. users per second: 1.59338e+06"
      ]
     },
     "metadata": {},
     "output_type": "display_data"
    },
    {
     "data": {
      "text/html": [
       "<pre>recommendations finished on 338000/429601 queries. users per second: 1.59509e+06</pre>"
      ],
      "text/plain": [
       "recommendations finished on 338000/429601 queries. users per second: 1.59509e+06"
      ]
     },
     "metadata": {},
     "output_type": "display_data"
    },
    {
     "data": {
      "text/html": [
       "<pre>recommendations finished on 339000/429601 queries. users per second: 1.59677e+06</pre>"
      ],
      "text/plain": [
       "recommendations finished on 339000/429601 queries. users per second: 1.59677e+06"
      ]
     },
     "metadata": {},
     "output_type": "display_data"
    },
    {
     "data": {
      "text/html": [
       "<pre>recommendations finished on 340000/429601 queries. users per second: 1.59841e+06</pre>"
      ],
      "text/plain": [
       "recommendations finished on 340000/429601 queries. users per second: 1.59841e+06"
      ]
     },
     "metadata": {},
     "output_type": "display_data"
    },
    {
     "data": {
      "text/html": [
       "<pre>recommendations finished on 341000/429601 queries. users per second: 1.60001e+06</pre>"
      ],
      "text/plain": [
       "recommendations finished on 341000/429601 queries. users per second: 1.60001e+06"
      ]
     },
     "metadata": {},
     "output_type": "display_data"
    },
    {
     "data": {
      "text/html": [
       "<pre>recommendations finished on 342000/429601 queries. users per second: 1.60141e+06</pre>"
      ],
      "text/plain": [
       "recommendations finished on 342000/429601 queries. users per second: 1.60141e+06"
      ]
     },
     "metadata": {},
     "output_type": "display_data"
    },
    {
     "data": {
      "text/html": [
       "<pre>recommendations finished on 343000/429601 queries. users per second: 1.60277e+06</pre>"
      ],
      "text/plain": [
       "recommendations finished on 343000/429601 queries. users per second: 1.60277e+06"
      ]
     },
     "metadata": {},
     "output_type": "display_data"
    },
    {
     "data": {
      "text/html": [
       "<pre>recommendations finished on 344000/429601 queries. users per second: 1.60402e+06</pre>"
      ],
      "text/plain": [
       "recommendations finished on 344000/429601 queries. users per second: 1.60402e+06"
      ]
     },
     "metadata": {},
     "output_type": "display_data"
    },
    {
     "data": {
      "text/html": [
       "<pre>recommendations finished on 345000/429601 queries. users per second: 1.60505e+06</pre>"
      ],
      "text/plain": [
       "recommendations finished on 345000/429601 queries. users per second: 1.60505e+06"
      ]
     },
     "metadata": {},
     "output_type": "display_data"
    },
    {
     "data": {
      "text/html": [
       "<pre>recommendations finished on 346000/429601 queries. users per second: 1.6064e+06</pre>"
      ],
      "text/plain": [
       "recommendations finished on 346000/429601 queries. users per second: 1.6064e+06"
      ]
     },
     "metadata": {},
     "output_type": "display_data"
    },
    {
     "data": {
      "text/html": [
       "<pre>recommendations finished on 347000/429601 queries. users per second: 1.60765e+06</pre>"
      ],
      "text/plain": [
       "recommendations finished on 347000/429601 queries. users per second: 1.60765e+06"
      ]
     },
     "metadata": {},
     "output_type": "display_data"
    },
    {
     "data": {
      "text/html": [
       "<pre>recommendations finished on 348000/429601 queries. users per second: 1.60868e+06</pre>"
      ],
      "text/plain": [
       "recommendations finished on 348000/429601 queries. users per second: 1.60868e+06"
      ]
     },
     "metadata": {},
     "output_type": "display_data"
    },
    {
     "data": {
      "text/html": [
       "<pre>recommendations finished on 349000/429601 queries. users per second: 1.60983e+06</pre>"
      ],
      "text/plain": [
       "recommendations finished on 349000/429601 queries. users per second: 1.60983e+06"
      ]
     },
     "metadata": {},
     "output_type": "display_data"
    },
    {
     "data": {
      "text/html": [
       "<pre>recommendations finished on 350000/429601 queries. users per second: 1.60968e+06</pre>"
      ],
      "text/plain": [
       "recommendations finished on 350000/429601 queries. users per second: 1.60968e+06"
      ]
     },
     "metadata": {},
     "output_type": "display_data"
    },
    {
     "data": {
      "text/html": [
       "<pre>recommendations finished on 351000/429601 queries. users per second: 1.61e+06</pre>"
      ],
      "text/plain": [
       "recommendations finished on 351000/429601 queries. users per second: 1.61e+06"
      ]
     },
     "metadata": {},
     "output_type": "display_data"
    },
    {
     "data": {
      "text/html": [
       "<pre>recommendations finished on 352000/429601 queries. users per second: 1.61107e+06</pre>"
      ],
      "text/plain": [
       "recommendations finished on 352000/429601 queries. users per second: 1.61107e+06"
      ]
     },
     "metadata": {},
     "output_type": "display_data"
    },
    {
     "data": {
      "text/html": [
       "<pre>recommendations finished on 353000/429601 queries. users per second: 1.61233e+06</pre>"
      ],
      "text/plain": [
       "recommendations finished on 353000/429601 queries. users per second: 1.61233e+06"
      ]
     },
     "metadata": {},
     "output_type": "display_data"
    },
    {
     "data": {
      "text/html": [
       "<pre>recommendations finished on 354000/429601 queries. users per second: 1.61392e+06</pre>"
      ],
      "text/plain": [
       "recommendations finished on 354000/429601 queries. users per second: 1.61392e+06"
      ]
     },
     "metadata": {},
     "output_type": "display_data"
    },
    {
     "data": {
      "text/html": [
       "<pre>recommendations finished on 355000/429601 queries. users per second: 1.61547e+06</pre>"
      ],
      "text/plain": [
       "recommendations finished on 355000/429601 queries. users per second: 1.61547e+06"
      ]
     },
     "metadata": {},
     "output_type": "display_data"
    },
    {
     "data": {
      "text/html": [
       "<pre>recommendations finished on 356000/429601 queries. users per second: 1.61681e+06</pre>"
      ],
      "text/plain": [
       "recommendations finished on 356000/429601 queries. users per second: 1.61681e+06"
      ]
     },
     "metadata": {},
     "output_type": "display_data"
    },
    {
     "data": {
      "text/html": [
       "<pre>recommendations finished on 357000/429601 queries. users per second: 1.61837e+06</pre>"
      ],
      "text/plain": [
       "recommendations finished on 357000/429601 queries. users per second: 1.61837e+06"
      ]
     },
     "metadata": {},
     "output_type": "display_data"
    },
    {
     "data": {
      "text/html": [
       "<pre>recommendations finished on 358000/429601 queries. users per second: 1.61999e+06</pre>"
      ],
      "text/plain": [
       "recommendations finished on 358000/429601 queries. users per second: 1.61999e+06"
      ]
     },
     "metadata": {},
     "output_type": "display_data"
    },
    {
     "data": {
      "text/html": [
       "<pre>recommendations finished on 359000/429601 queries. users per second: 1.62153e+06</pre>"
      ],
      "text/plain": [
       "recommendations finished on 359000/429601 queries. users per second: 1.62153e+06"
      ]
     },
     "metadata": {},
     "output_type": "display_data"
    },
    {
     "data": {
      "text/html": [
       "<pre>recommendations finished on 360000/429601 queries. users per second: 1.62299e+06</pre>"
      ],
      "text/plain": [
       "recommendations finished on 360000/429601 queries. users per second: 1.62299e+06"
      ]
     },
     "metadata": {},
     "output_type": "display_data"
    },
    {
     "data": {
      "text/html": [
       "<pre>recommendations finished on 361000/429601 queries. users per second: 1.62447e+06</pre>"
      ],
      "text/plain": [
       "recommendations finished on 361000/429601 queries. users per second: 1.62447e+06"
      ]
     },
     "metadata": {},
     "output_type": "display_data"
    },
    {
     "data": {
      "text/html": [
       "<pre>recommendations finished on 362000/429601 queries. users per second: 1.62597e+06</pre>"
      ],
      "text/plain": [
       "recommendations finished on 362000/429601 queries. users per second: 1.62597e+06"
      ]
     },
     "metadata": {},
     "output_type": "display_data"
    },
    {
     "data": {
      "text/html": [
       "<pre>recommendations finished on 363000/429601 queries. users per second: 1.62736e+06</pre>"
      ],
      "text/plain": [
       "recommendations finished on 363000/429601 queries. users per second: 1.62736e+06"
      ]
     },
     "metadata": {},
     "output_type": "display_data"
    },
    {
     "data": {
      "text/html": [
       "<pre>recommendations finished on 364000/429601 queries. users per second: 1.62881e+06</pre>"
      ],
      "text/plain": [
       "recommendations finished on 364000/429601 queries. users per second: 1.62881e+06"
      ]
     },
     "metadata": {},
     "output_type": "display_data"
    },
    {
     "data": {
      "text/html": [
       "<pre>recommendations finished on 365000/429601 queries. users per second: 1.63045e+06</pre>"
      ],
      "text/plain": [
       "recommendations finished on 365000/429601 queries. users per second: 1.63045e+06"
      ]
     },
     "metadata": {},
     "output_type": "display_data"
    },
    {
     "data": {
      "text/html": [
       "<pre>recommendations finished on 366000/429601 queries. users per second: 1.63205e+06</pre>"
      ],
      "text/plain": [
       "recommendations finished on 366000/429601 queries. users per second: 1.63205e+06"
      ]
     },
     "metadata": {},
     "output_type": "display_data"
    },
    {
     "data": {
      "text/html": [
       "<pre>recommendations finished on 367000/429601 queries. users per second: 1.63362e+06</pre>"
      ],
      "text/plain": [
       "recommendations finished on 367000/429601 queries. users per second: 1.63362e+06"
      ]
     },
     "metadata": {},
     "output_type": "display_data"
    },
    {
     "data": {
      "text/html": [
       "<pre>recommendations finished on 368000/429601 queries. users per second: 1.63503e+06</pre>"
      ],
      "text/plain": [
       "recommendations finished on 368000/429601 queries. users per second: 1.63503e+06"
      ]
     },
     "metadata": {},
     "output_type": "display_data"
    },
    {
     "data": {
      "text/html": [
       "<pre>recommendations finished on 369000/429601 queries. users per second: 1.63627e+06</pre>"
      ],
      "text/plain": [
       "recommendations finished on 369000/429601 queries. users per second: 1.63627e+06"
      ]
     },
     "metadata": {},
     "output_type": "display_data"
    },
    {
     "data": {
      "text/html": [
       "<pre>recommendations finished on 370000/429601 queries. users per second: 1.63402e+06</pre>"
      ],
      "text/plain": [
       "recommendations finished on 370000/429601 queries. users per second: 1.63402e+06"
      ]
     },
     "metadata": {},
     "output_type": "display_data"
    },
    {
     "data": {
      "text/html": [
       "<pre>recommendations finished on 371000/429601 queries. users per second: 1.63554e+06</pre>"
      ],
      "text/plain": [
       "recommendations finished on 371000/429601 queries. users per second: 1.63554e+06"
      ]
     },
     "metadata": {},
     "output_type": "display_data"
    },
    {
     "data": {
      "text/html": [
       "<pre>recommendations finished on 372000/429601 queries. users per second: 1.63702e+06</pre>"
      ],
      "text/plain": [
       "recommendations finished on 372000/429601 queries. users per second: 1.63702e+06"
      ]
     },
     "metadata": {},
     "output_type": "display_data"
    },
    {
     "data": {
      "text/html": [
       "<pre>recommendations finished on 373000/429601 queries. users per second: 1.63847e+06</pre>"
      ],
      "text/plain": [
       "recommendations finished on 373000/429601 queries. users per second: 1.63847e+06"
      ]
     },
     "metadata": {},
     "output_type": "display_data"
    },
    {
     "data": {
      "text/html": [
       "<pre>recommendations finished on 374000/429601 queries. users per second: 1.6398e+06</pre>"
      ],
      "text/plain": [
       "recommendations finished on 374000/429601 queries. users per second: 1.6398e+06"
      ]
     },
     "metadata": {},
     "output_type": "display_data"
    },
    {
     "data": {
      "text/html": [
       "<pre>recommendations finished on 375000/429601 queries. users per second: 1.64077e+06</pre>"
      ],
      "text/plain": [
       "recommendations finished on 375000/429601 queries. users per second: 1.64077e+06"
      ]
     },
     "metadata": {},
     "output_type": "display_data"
    },
    {
     "data": {
      "text/html": [
       "<pre>recommendations finished on 376000/429601 queries. users per second: 1.64138e+06</pre>"
      ],
      "text/plain": [
       "recommendations finished on 376000/429601 queries. users per second: 1.64138e+06"
      ]
     },
     "metadata": {},
     "output_type": "display_data"
    },
    {
     "data": {
      "text/html": [
       "<pre>recommendations finished on 377000/429601 queries. users per second: 1.64216e+06</pre>"
      ],
      "text/plain": [
       "recommendations finished on 377000/429601 queries. users per second: 1.64216e+06"
      ]
     },
     "metadata": {},
     "output_type": "display_data"
    },
    {
     "data": {
      "text/html": [
       "<pre>recommendations finished on 378000/429601 queries. users per second: 1.63769e+06</pre>"
      ],
      "text/plain": [
       "recommendations finished on 378000/429601 queries. users per second: 1.63769e+06"
      ]
     },
     "metadata": {},
     "output_type": "display_data"
    },
    {
     "data": {
      "text/html": [
       "<pre>recommendations finished on 379000/429601 queries. users per second: 1.63867e+06</pre>"
      ],
      "text/plain": [
       "recommendations finished on 379000/429601 queries. users per second: 1.63867e+06"
      ]
     },
     "metadata": {},
     "output_type": "display_data"
    },
    {
     "data": {
      "text/html": [
       "<pre>recommendations finished on 380000/429601 queries. users per second: 1.63986e+06</pre>"
      ],
      "text/plain": [
       "recommendations finished on 380000/429601 queries. users per second: 1.63986e+06"
      ]
     },
     "metadata": {},
     "output_type": "display_data"
    },
    {
     "data": {
      "text/html": [
       "<pre>recommendations finished on 381000/429601 queries. users per second: 1.64034e+06</pre>"
      ],
      "text/plain": [
       "recommendations finished on 381000/429601 queries. users per second: 1.64034e+06"
      ]
     },
     "metadata": {},
     "output_type": "display_data"
    },
    {
     "data": {
      "text/html": [
       "<pre>recommendations finished on 382000/429601 queries. users per second: 1.63764e+06</pre>"
      ],
      "text/plain": [
       "recommendations finished on 382000/429601 queries. users per second: 1.63764e+06"
      ]
     },
     "metadata": {},
     "output_type": "display_data"
    },
    {
     "data": {
      "text/html": [
       "<pre>recommendations finished on 383000/429601 queries. users per second: 1.63848e+06</pre>"
      ],
      "text/plain": [
       "recommendations finished on 383000/429601 queries. users per second: 1.63848e+06"
      ]
     },
     "metadata": {},
     "output_type": "display_data"
    },
    {
     "data": {
      "text/html": [
       "<pre>recommendations finished on 384000/429601 queries. users per second: 1.63949e+06</pre>"
      ],
      "text/plain": [
       "recommendations finished on 384000/429601 queries. users per second: 1.63949e+06"
      ]
     },
     "metadata": {},
     "output_type": "display_data"
    },
    {
     "data": {
      "text/html": [
       "<pre>recommendations finished on 385000/429601 queries. users per second: 1.64023e+06</pre>"
      ],
      "text/plain": [
       "recommendations finished on 385000/429601 queries. users per second: 1.64023e+06"
      ]
     },
     "metadata": {},
     "output_type": "display_data"
    },
    {
     "data": {
      "text/html": [
       "<pre>recommendations finished on 386000/429601 queries. users per second: 1.64121e+06</pre>"
      ],
      "text/plain": [
       "recommendations finished on 386000/429601 queries. users per second: 1.64121e+06"
      ]
     },
     "metadata": {},
     "output_type": "display_data"
    },
    {
     "data": {
      "text/html": [
       "<pre>recommendations finished on 387000/429601 queries. users per second: 1.64184e+06</pre>"
      ],
      "text/plain": [
       "recommendations finished on 387000/429601 queries. users per second: 1.64184e+06"
      ]
     },
     "metadata": {},
     "output_type": "display_data"
    },
    {
     "data": {
      "text/html": [
       "<pre>recommendations finished on 388000/429601 queries. users per second: 1.64249e+06</pre>"
      ],
      "text/plain": [
       "recommendations finished on 388000/429601 queries. users per second: 1.64249e+06"
      ]
     },
     "metadata": {},
     "output_type": "display_data"
    },
    {
     "data": {
      "text/html": [
       "<pre>recommendations finished on 389000/429601 queries. users per second: 1.64216e+06</pre>"
      ],
      "text/plain": [
       "recommendations finished on 389000/429601 queries. users per second: 1.64216e+06"
      ]
     },
     "metadata": {},
     "output_type": "display_data"
    },
    {
     "data": {
      "text/html": [
       "<pre>recommendations finished on 390000/429601 queries. users per second: 1.641e+06</pre>"
      ],
      "text/plain": [
       "recommendations finished on 390000/429601 queries. users per second: 1.641e+06"
      ]
     },
     "metadata": {},
     "output_type": "display_data"
    },
    {
     "data": {
      "text/html": [
       "<pre>recommendations finished on 391000/429601 queries. users per second: 1.63881e+06</pre>"
      ],
      "text/plain": [
       "recommendations finished on 391000/429601 queries. users per second: 1.63881e+06"
      ]
     },
     "metadata": {},
     "output_type": "display_data"
    },
    {
     "data": {
      "text/html": [
       "<pre>recommendations finished on 392000/429601 queries. users per second: 1.63082e+06</pre>"
      ],
      "text/plain": [
       "recommendations finished on 392000/429601 queries. users per second: 1.63082e+06"
      ]
     },
     "metadata": {},
     "output_type": "display_data"
    },
    {
     "data": {
      "text/html": [
       "<pre>recommendations finished on 393000/429601 queries. users per second: 1.63159e+06</pre>"
      ],
      "text/plain": [
       "recommendations finished on 393000/429601 queries. users per second: 1.63159e+06"
      ]
     },
     "metadata": {},
     "output_type": "display_data"
    },
    {
     "data": {
      "text/html": [
       "<pre>recommendations finished on 394000/429601 queries. users per second: 1.63244e+06</pre>"
      ],
      "text/plain": [
       "recommendations finished on 394000/429601 queries. users per second: 1.63244e+06"
      ]
     },
     "metadata": {},
     "output_type": "display_data"
    },
    {
     "data": {
      "text/html": [
       "<pre>recommendations finished on 395000/429601 queries. users per second: 1.63292e+06</pre>"
      ],
      "text/plain": [
       "recommendations finished on 395000/429601 queries. users per second: 1.63292e+06"
      ]
     },
     "metadata": {},
     "output_type": "display_data"
    },
    {
     "data": {
      "text/html": [
       "<pre>recommendations finished on 396000/429601 queries. users per second: 1.63382e+06</pre>"
      ],
      "text/plain": [
       "recommendations finished on 396000/429601 queries. users per second: 1.63382e+06"
      ]
     },
     "metadata": {},
     "output_type": "display_data"
    },
    {
     "data": {
      "text/html": [
       "<pre>recommendations finished on 397000/429601 queries. users per second: 1.63492e+06</pre>"
      ],
      "text/plain": [
       "recommendations finished on 397000/429601 queries. users per second: 1.63492e+06"
      ]
     },
     "metadata": {},
     "output_type": "display_data"
    },
    {
     "data": {
      "text/html": [
       "<pre>recommendations finished on 398000/429601 queries. users per second: 1.63185e+06</pre>"
      ],
      "text/plain": [
       "recommendations finished on 398000/429601 queries. users per second: 1.63185e+06"
      ]
     },
     "metadata": {},
     "output_type": "display_data"
    },
    {
     "data": {
      "text/html": [
       "<pre>recommendations finished on 399000/429601 queries. users per second: 1.63244e+06</pre>"
      ],
      "text/plain": [
       "recommendations finished on 399000/429601 queries. users per second: 1.63244e+06"
      ]
     },
     "metadata": {},
     "output_type": "display_data"
    },
    {
     "data": {
      "text/html": [
       "<pre>recommendations finished on 400000/429601 queries. users per second: 1.63292e+06</pre>"
      ],
      "text/plain": [
       "recommendations finished on 400000/429601 queries. users per second: 1.63292e+06"
      ]
     },
     "metadata": {},
     "output_type": "display_data"
    },
    {
     "data": {
      "text/html": [
       "<pre>recommendations finished on 401000/429601 queries. users per second: 1.63371e+06</pre>"
      ],
      "text/plain": [
       "recommendations finished on 401000/429601 queries. users per second: 1.63371e+06"
      ]
     },
     "metadata": {},
     "output_type": "display_data"
    },
    {
     "data": {
      "text/html": [
       "<pre>recommendations finished on 402000/429601 queries. users per second: 1.62938e+06</pre>"
      ],
      "text/plain": [
       "recommendations finished on 402000/429601 queries. users per second: 1.62938e+06"
      ]
     },
     "metadata": {},
     "output_type": "display_data"
    },
    {
     "data": {
      "text/html": [
       "<pre>recommendations finished on 403000/429601 queries. users per second: 1.62982e+06</pre>"
      ],
      "text/plain": [
       "recommendations finished on 403000/429601 queries. users per second: 1.62982e+06"
      ]
     },
     "metadata": {},
     "output_type": "display_data"
    },
    {
     "data": {
      "text/html": [
       "<pre>recommendations finished on 404000/429601 queries. users per second: 1.63001e+06</pre>"
      ],
      "text/plain": [
       "recommendations finished on 404000/429601 queries. users per second: 1.63001e+06"
      ]
     },
     "metadata": {},
     "output_type": "display_data"
    },
    {
     "data": {
      "text/html": [
       "<pre>recommendations finished on 405000/429601 queries. users per second: 1.63027e+06</pre>"
      ],
      "text/plain": [
       "recommendations finished on 405000/429601 queries. users per second: 1.63027e+06"
      ]
     },
     "metadata": {},
     "output_type": "display_data"
    },
    {
     "data": {
      "text/html": [
       "<pre>recommendations finished on 406000/429601 queries. users per second: 1.63086e+06</pre>"
      ],
      "text/plain": [
       "recommendations finished on 406000/429601 queries. users per second: 1.63086e+06"
      ]
     },
     "metadata": {},
     "output_type": "display_data"
    },
    {
     "data": {
      "text/html": [
       "<pre>recommendations finished on 407000/429601 queries. users per second: 1.63048e+06</pre>"
      ],
      "text/plain": [
       "recommendations finished on 407000/429601 queries. users per second: 1.63048e+06"
      ]
     },
     "metadata": {},
     "output_type": "display_data"
    },
    {
     "data": {
      "text/html": [
       "<pre>recommendations finished on 408000/429601 queries. users per second: 1.62464e+06</pre>"
      ],
      "text/plain": [
       "recommendations finished on 408000/429601 queries. users per second: 1.62464e+06"
      ]
     },
     "metadata": {},
     "output_type": "display_data"
    },
    {
     "data": {
      "text/html": [
       "<pre>recommendations finished on 409000/429601 queries. users per second: 1.6177e+06</pre>"
      ],
      "text/plain": [
       "recommendations finished on 409000/429601 queries. users per second: 1.6177e+06"
      ]
     },
     "metadata": {},
     "output_type": "display_data"
    },
    {
     "data": {
      "text/html": [
       "<pre>recommendations finished on 410000/429601 queries. users per second: 1.61515e+06</pre>"
      ],
      "text/plain": [
       "recommendations finished on 410000/429601 queries. users per second: 1.61515e+06"
      ]
     },
     "metadata": {},
     "output_type": "display_data"
    },
    {
     "data": {
      "text/html": [
       "<pre>recommendations finished on 411000/429601 queries. users per second: 1.61436e+06</pre>"
      ],
      "text/plain": [
       "recommendations finished on 411000/429601 queries. users per second: 1.61436e+06"
      ]
     },
     "metadata": {},
     "output_type": "display_data"
    },
    {
     "data": {
      "text/html": [
       "<pre>recommendations finished on 412000/429601 queries. users per second: 1.61311e+06</pre>"
      ],
      "text/plain": [
       "recommendations finished on 412000/429601 queries. users per second: 1.61311e+06"
      ]
     },
     "metadata": {},
     "output_type": "display_data"
    },
    {
     "data": {
      "text/html": [
       "<pre>recommendations finished on 413000/429601 queries. users per second: 1.61263e+06</pre>"
      ],
      "text/plain": [
       "recommendations finished on 413000/429601 queries. users per second: 1.61263e+06"
      ]
     },
     "metadata": {},
     "output_type": "display_data"
    },
    {
     "data": {
      "text/html": [
       "<pre>recommendations finished on 414000/429601 queries. users per second: 1.6099e+06</pre>"
      ],
      "text/plain": [
       "recommendations finished on 414000/429601 queries. users per second: 1.6099e+06"
      ]
     },
     "metadata": {},
     "output_type": "display_data"
    },
    {
     "data": {
      "text/html": [
       "<pre>recommendations finished on 415000/429601 queries. users per second: 1.6006e+06</pre>"
      ],
      "text/plain": [
       "recommendations finished on 415000/429601 queries. users per second: 1.6006e+06"
      ]
     },
     "metadata": {},
     "output_type": "display_data"
    },
    {
     "data": {
      "text/html": [
       "<pre>recommendations finished on 416000/429601 queries. users per second: 1.59734e+06</pre>"
      ],
      "text/plain": [
       "recommendations finished on 416000/429601 queries. users per second: 1.59734e+06"
      ]
     },
     "metadata": {},
     "output_type": "display_data"
    },
    {
     "data": {
      "text/html": [
       "<pre>recommendations finished on 417000/429601 queries. users per second: 1.59246e+06</pre>"
      ],
      "text/plain": [
       "recommendations finished on 417000/429601 queries. users per second: 1.59246e+06"
      ]
     },
     "metadata": {},
     "output_type": "display_data"
    },
    {
     "data": {
      "text/html": [
       "<pre>recommendations finished on 418000/429601 queries. users per second: 1.5888e+06</pre>"
      ],
      "text/plain": [
       "recommendations finished on 418000/429601 queries. users per second: 1.5888e+06"
      ]
     },
     "metadata": {},
     "output_type": "display_data"
    },
    {
     "data": {
      "text/html": [
       "<pre>recommendations finished on 419000/429601 queries. users per second: 1.58266e+06</pre>"
      ],
      "text/plain": [
       "recommendations finished on 419000/429601 queries. users per second: 1.58266e+06"
      ]
     },
     "metadata": {},
     "output_type": "display_data"
    },
    {
     "data": {
      "text/html": [
       "<pre>recommendations finished on 420000/429601 queries. users per second: 1.57591e+06</pre>"
      ],
      "text/plain": [
       "recommendations finished on 420000/429601 queries. users per second: 1.57591e+06"
      ]
     },
     "metadata": {},
     "output_type": "display_data"
    },
    {
     "data": {
      "text/html": [
       "<pre>recommendations finished on 421000/429601 queries. users per second: 1.56829e+06</pre>"
      ],
      "text/plain": [
       "recommendations finished on 421000/429601 queries. users per second: 1.56829e+06"
      ]
     },
     "metadata": {},
     "output_type": "display_data"
    },
    {
     "data": {
      "text/html": [
       "<pre>recommendations finished on 422000/429601 queries. users per second: 1.55464e+06</pre>"
      ],
      "text/plain": [
       "recommendations finished on 422000/429601 queries. users per second: 1.55464e+06"
      ]
     },
     "metadata": {},
     "output_type": "display_data"
    },
    {
     "data": {
      "text/html": [
       "<pre>recommendations finished on 423000/429601 queries. users per second: 1.54902e+06</pre>"
      ],
      "text/plain": [
       "recommendations finished on 423000/429601 queries. users per second: 1.54902e+06"
      ]
     },
     "metadata": {},
     "output_type": "display_data"
    },
    {
     "data": {
      "text/html": [
       "<pre>recommendations finished on 424000/429601 queries. users per second: 1.54433e+06</pre>"
      ],
      "text/plain": [
       "recommendations finished on 424000/429601 queries. users per second: 1.54433e+06"
      ]
     },
     "metadata": {},
     "output_type": "display_data"
    },
    {
     "data": {
      "text/html": [
       "<pre>recommendations finished on 425000/429601 queries. users per second: 1.53491e+06</pre>"
      ],
      "text/plain": [
       "recommendations finished on 425000/429601 queries. users per second: 1.53491e+06"
      ]
     },
     "metadata": {},
     "output_type": "display_data"
    },
    {
     "data": {
      "text/html": [
       "<pre>recommendations finished on 426000/429601 queries. users per second: 1.52733e+06</pre>"
      ],
      "text/plain": [
       "recommendations finished on 426000/429601 queries. users per second: 1.52733e+06"
      ]
     },
     "metadata": {},
     "output_type": "display_data"
    },
    {
     "data": {
      "text/html": [
       "<pre>recommendations finished on 427000/429601 queries. users per second: 1.51999e+06</pre>"
      ],
      "text/plain": [
       "recommendations finished on 427000/429601 queries. users per second: 1.51999e+06"
      ]
     },
     "metadata": {},
     "output_type": "display_data"
    },
    {
     "data": {
      "text/html": [
       "<pre>recommendations finished on 428000/429601 queries. users per second: 1.51133e+06</pre>"
      ],
      "text/plain": [
       "recommendations finished on 428000/429601 queries. users per second: 1.51133e+06"
      ]
     },
     "metadata": {},
     "output_type": "display_data"
    },
    {
     "data": {
      "text/html": [
       "<pre>recommendations finished on 429000/429601 queries. users per second: 1.489e+06</pre>"
      ],
      "text/plain": [
       "recommendations finished on 429000/429601 queries. users per second: 1.489e+06"
      ]
     },
     "metadata": {},
     "output_type": "display_data"
    },
    {
     "name": "stdout",
     "output_type": "stream",
     "text": [
      "A csv file containing recommendations for users has been created\n",
      "(429601, 1)\n"
     ]
    },
    {
     "data": {
      "text/html": [
       "<div>\n",
       "<style scoped>\n",
       "    .dataframe tbody tr th:only-of-type {\n",
       "        vertical-align: middle;\n",
       "    }\n",
       "\n",
       "    .dataframe tbody tr th {\n",
       "        vertical-align: top;\n",
       "    }\n",
       "\n",
       "    .dataframe thead th {\n",
       "        text-align: right;\n",
       "    }\n",
       "</style>\n",
       "<table border=\"1\" class=\"dataframe\">\n",
       "  <thead>\n",
       "    <tr style=\"text-align: right;\">\n",
       "      <th></th>\n",
       "      <th>recommendedBrands</th>\n",
       "    </tr>\n",
       "    <tr>\n",
       "      <th>hhid</th>\n",
       "      <th></th>\n",
       "    </tr>\n",
       "  </thead>\n",
       "  <tbody>\n",
       "    <tr>\n",
       "      <th>1</th>\n",
       "      <td>Bear naked, Private label, Nature s path, Natu...</td>\n",
       "    </tr>\n",
       "    <tr>\n",
       "      <th>2</th>\n",
       "      <td>Kind, Private label, Nature s path, Kashi, Spe...</td>\n",
       "    </tr>\n",
       "    <tr>\n",
       "      <th>3</th>\n",
       "      <td>Cascadian farm, Private label, Nature s path, ...</td>\n",
       "    </tr>\n",
       "    <tr>\n",
       "      <th>4</th>\n",
       "      <td>Toast crunch, Private label, Special k, Froste...</td>\n",
       "    </tr>\n",
       "    <tr>\n",
       "      <th>5</th>\n",
       "      <td>Froot loops, Toast crunch, Pebbles, Lucky char...</td>\n",
       "    </tr>\n",
       "  </tbody>\n",
       "</table>\n",
       "</div>"
      ],
      "text/plain": [
       "                                      recommendedBrands\n",
       "hhid                                                   \n",
       "1     Bear naked, Private label, Nature s path, Natu...\n",
       "2     Kind, Private label, Nature s path, Kashi, Spe...\n",
       "3     Cascadian farm, Private label, Nature s path, ...\n",
       "4     Toast crunch, Private label, Special k, Froste...\n",
       "5     Froot loops, Toast crunch, Pebbles, Lucky char..."
      ]
     },
     "execution_count": 20,
     "metadata": {},
     "output_type": "execute_result"
    }
   ],
   "source": [
    "# output recommendations to csv file\n",
    "def create_output(model, users_to_recommend, n_rec, print_csv=True):\n",
    "    recommendation = model.recommend(users=users_to_recommend, k=n_rec)\n",
    "    df_rec = recommendation.to_dataframe()\n",
    "    df_rec['recommendedBrands'] = df_rec.groupby([user_id])[item_id].transform(lambda x: ', '.join(x.astype(str)))\n",
    "    df_output = df_rec[['hhid', 'recommendedBrands']].drop_duplicates().sort_values('hhid').set_index('hhid')\n",
    "    if print_csv:\n",
    "        df_output.to_csv('recommendation.csv')\n",
    "    print('A csv file containing recommendations for users has been created')\n",
    "    return df_output\n",
    "\n",
    "df_output = create_output(cosine_similarity_model, users_to_recommend, n_rec, print_csv=True)\n",
    "print(df_output.shape)\n",
    "df_output.head()"
   ]
  },
  {
   "cell_type": "code",
   "execution_count": 21,
   "id": "9ff9a05f",
   "metadata": {},
   "outputs": [],
   "source": [
    "def customer_recommendation(hhid):\n",
    "    if hhid not in df_output.index:\n",
    "        print('Household not found.')\n",
    "        return hhid\n",
    "    return df_output.loc[hhid]"
   ]
  },
  {
   "cell_type": "code",
   "execution_count": 22,
   "id": "ea00d02d",
   "metadata": {},
   "outputs": [
    {
     "data": {
      "text/plain": [
       "recommendedBrands    Froot loops, Toast crunch, Pebbles, Lucky char...\n",
       "Name: 5, dtype: object"
      ]
     },
     "execution_count": 22,
     "metadata": {},
     "output_type": "execute_result"
    }
   ],
   "source": [
    "customer_recommendation(5)"
   ]
  }
 ],
 "metadata": {
  "kernelspec": {
   "display_name": "gfk",
   "language": "python",
   "name": "gfk"
  },
  "language_info": {
   "codemirror_mode": {
    "name": "ipython",
    "version": 3
   },
   "file_extension": ".py",
   "mimetype": "text/x-python",
   "name": "python",
   "nbconvert_exporter": "python",
   "pygments_lexer": "ipython3",
   "version": "3.8.12"
  }
 },
 "nbformat": 4,
 "nbformat_minor": 5
}
